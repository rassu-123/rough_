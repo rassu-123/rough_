{
  "nbformat": 4,
  "nbformat_minor": 0,
  "metadata": {
    "colab": {
      "name": "Udacity_p1.ipynb",
      "provenance": [],
      "mount_file_id": "1DFAs1dueb5DVQ7a7ewVuELgitUWHSZ5S",
      "authorship_tag": "ABX9TyMoHbpJ3Kqsvqo3MKvh3gmQ",
      "include_colab_link": true
    },
    "kernelspec": {
      "name": "python3",
      "display_name": "Python 3"
    },
    "language_info": {
      "name": "python"
    }
  },
  "cells": [
    {
      "cell_type": "markdown",
      "metadata": {
        "id": "view-in-github",
        "colab_type": "text"
      },
      "source": [
        "<a href=\"https://colab.research.google.com/github/rassu-123/rough_/blob/main/Udacity_p1.ipynb\" target=\"_parent\"><img src=\"https://colab.research.google.com/assets/colab-badge.svg\" alt=\"Open In Colab\"/></a>"
      ]
    },
    {
      "cell_type": "code",
      "metadata": {
        "id": "vjdJp03WbwJy",
        "colab": {
          "base_uri": "https://localhost:8080/",
          "height": 1000
        },
        "outputId": "e39cd279-cb34-48a7-a695-5c0a5c32492e"
      },
      "source": [
        "!pip install -U pip\n",
        "!pip install -U setuptools wheel\n",
        "!pip install -U \"mxnet<2.0.0\" bokeh==2.0.1\n",
        "!pip install autogluon --no-cache-dir\n"
      ],
      "execution_count": 3,
      "outputs": [
        {
          "output_type": "stream",
          "name": "stdout",
          "text": [
            "Requirement already satisfied: pip in /usr/local/lib/python3.7/dist-packages (21.1.3)\n",
            "Collecting pip\n",
            "  Downloading pip-21.3.1-py3-none-any.whl (1.7 MB)\n",
            "\u001b[K     |████████████████████████████████| 1.7 MB 5.3 MB/s \n",
            "\u001b[?25hInstalling collected packages: pip\n",
            "  Attempting uninstall: pip\n",
            "    Found existing installation: pip 21.1.3\n",
            "    Uninstalling pip-21.1.3:\n",
            "      Successfully uninstalled pip-21.1.3\n",
            "Successfully installed pip-21.3.1\n",
            "Requirement already satisfied: setuptools in /usr/local/lib/python3.7/dist-packages (57.4.0)\n",
            "Collecting setuptools\n",
            "  Downloading setuptools-60.5.0-py3-none-any.whl (958 kB)\n",
            "     |████████████████████████████████| 958 kB 5.2 MB/s            \n",
            "\u001b[?25hRequirement already satisfied: wheel in /usr/local/lib/python3.7/dist-packages (0.37.1)\n",
            "Installing collected packages: setuptools\n",
            "  Attempting uninstall: setuptools\n",
            "    Found existing installation: setuptools 57.4.0\n",
            "    Uninstalling setuptools-57.4.0:\n",
            "      Successfully uninstalled setuptools-57.4.0\n",
            "\u001b[31mERROR: pip's dependency resolver does not currently take into account all the packages that are installed. This behaviour is the source of the following dependency conflicts.\n",
            "datascience 0.10.6 requires folium==0.2.1, but you have folium 0.8.3 which is incompatible.\u001b[0m\n",
            "Successfully installed setuptools-60.5.0\n",
            "\u001b[33mWARNING: Running pip as the 'root' user can result in broken permissions and conflicting behaviour with the system package manager. It is recommended to use a virtual environment instead: https://pip.pypa.io/warnings/venv\u001b[0m\n"
          ]
        },
        {
          "output_type": "display_data",
          "data": {
            "application/vnd.colab-display-data+json": {
              "pip_warning": {
                "packages": [
                  "pkg_resources"
                ]
              }
            }
          },
          "metadata": {}
        },
        {
          "output_type": "stream",
          "name": "stdout",
          "text": [
            "Collecting mxnet<2.0.0\n",
            "  Downloading mxnet-1.9.0-py3-none-manylinux2014_x86_64.whl (47.3 MB)\n",
            "     |████████████████████████████████| 47.3 MB 1.3 MB/s            \n",
            "\u001b[?25hCollecting bokeh==2.0.1\n",
            "  Downloading bokeh-2.0.1.tar.gz (8.6 MB)\n",
            "     |████████████████████████████████| 8.6 MB 34.2 MB/s            \n",
            "\u001b[?25h  Preparing metadata (setup.py) ... \u001b[?25l\u001b[?25hdone\n",
            "Requirement already satisfied: PyYAML>=3.10 in /usr/local/lib/python3.7/dist-packages (from bokeh==2.0.1) (3.13)\n",
            "Requirement already satisfied: python-dateutil>=2.1 in /usr/local/lib/python3.7/dist-packages (from bokeh==2.0.1) (2.8.2)\n",
            "Requirement already satisfied: Jinja2>=2.7 in /usr/local/lib/python3.7/dist-packages (from bokeh==2.0.1) (2.11.3)\n",
            "Requirement already satisfied: numpy>=1.11.3 in /usr/local/lib/python3.7/dist-packages (from bokeh==2.0.1) (1.19.5)\n",
            "Requirement already satisfied: pillow>=4.0 in /usr/local/lib/python3.7/dist-packages (from bokeh==2.0.1) (7.1.2)\n",
            "Requirement already satisfied: packaging>=16.8 in /usr/local/lib/python3.7/dist-packages (from bokeh==2.0.1) (21.3)\n",
            "Requirement already satisfied: tornado>=5 in /usr/local/lib/python3.7/dist-packages (from bokeh==2.0.1) (5.1.1)\n",
            "Requirement already satisfied: typing_extensions>=3.7.4 in /usr/local/lib/python3.7/dist-packages (from bokeh==2.0.1) (3.10.0.2)\n",
            "Requirement already satisfied: requests<3,>=2.20.0 in /usr/local/lib/python3.7/dist-packages (from mxnet<2.0.0) (2.23.0)\n",
            "Collecting graphviz<0.9.0,>=0.8.1\n",
            "  Downloading graphviz-0.8.4-py2.py3-none-any.whl (16 kB)\n",
            "Requirement already satisfied: MarkupSafe>=0.23 in /usr/local/lib/python3.7/dist-packages (from Jinja2>=2.7->bokeh==2.0.1) (2.0.1)\n",
            "Requirement already satisfied: pyparsing!=3.0.5,>=2.0.2 in /usr/local/lib/python3.7/dist-packages (from packaging>=16.8->bokeh==2.0.1) (3.0.6)\n",
            "Requirement already satisfied: six>=1.5 in /usr/local/lib/python3.7/dist-packages (from python-dateutil>=2.1->bokeh==2.0.1) (1.15.0)\n",
            "Requirement already satisfied: certifi>=2017.4.17 in /usr/local/lib/python3.7/dist-packages (from requests<3,>=2.20.0->mxnet<2.0.0) (2021.10.8)\n",
            "Requirement already satisfied: urllib3!=1.25.0,!=1.25.1,<1.26,>=1.21.1 in /usr/local/lib/python3.7/dist-packages (from requests<3,>=2.20.0->mxnet<2.0.0) (1.24.3)\n",
            "Requirement already satisfied: chardet<4,>=3.0.2 in /usr/local/lib/python3.7/dist-packages (from requests<3,>=2.20.0->mxnet<2.0.0) (3.0.4)\n",
            "Requirement already satisfied: idna<3,>=2.5 in /usr/local/lib/python3.7/dist-packages (from requests<3,>=2.20.0->mxnet<2.0.0) (2.10)\n",
            "Building wheels for collected packages: bokeh\n",
            "  Building wheel for bokeh (setup.py) ... \u001b[?25l\u001b[?25hdone\n",
            "  Created wheel for bokeh: filename=bokeh-2.0.1-py3-none-any.whl size=9080040 sha256=6fa2c6002fe9dc80553930e83b20d570960324bd48dbab352a4aa7eb5cb09045\n",
            "  Stored in directory: /root/.cache/pip/wheels/9f/9e/ac/f24f30e119df73511fde9af8aa747217ac8824e662037ba9a8\n",
            "Successfully built bokeh\n",
            "Installing collected packages: graphviz, mxnet, bokeh\n",
            "  Attempting uninstall: graphviz\n",
            "    Found existing installation: graphviz 0.10.1\n",
            "    Uninstalling graphviz-0.10.1:\n",
            "      Successfully uninstalled graphviz-0.10.1\n",
            "  Attempting uninstall: bokeh\n",
            "    Found existing installation: bokeh 2.3.3\n",
            "    Uninstalling bokeh-2.3.3:\n",
            "      Successfully uninstalled bokeh-2.3.3\n",
            "\u001b[31mERROR: pip's dependency resolver does not currently take into account all the packages that are installed. This behaviour is the source of the following dependency conflicts.\n",
            "panel 0.12.1 requires bokeh<2.4.0,>=2.3.0, but you have bokeh 2.0.1 which is incompatible.\u001b[0m\n",
            "Successfully installed bokeh-2.0.1 graphviz-0.8.4 mxnet-1.9.0\n",
            "\u001b[33mWARNING: Running pip as the 'root' user can result in broken permissions and conflicting behaviour with the system package manager. It is recommended to use a virtual environment instead: https://pip.pypa.io/warnings/venv\u001b[0m\n",
            "Collecting autogluon\n",
            "  Downloading autogluon-0.3.1-py3-none-any.whl (9.9 kB)\n",
            "Collecting autogluon.text==0.3.1\n",
            "  Downloading autogluon.text-0.3.1-py3-none-any.whl (52 kB)\n",
            "     |████████████████████████████████| 52 kB 4.3 MB/s             \n",
            "\u001b[?25hCollecting autogluon.core==0.3.1\n",
            "  Downloading autogluon.core-0.3.1-py3-none-any.whl (352 kB)\n",
            "     |████████████████████████████████| 352 kB 9.5 MB/s            \n",
            "\u001b[?25hCollecting autogluon.extra==0.3.1\n",
            "  Downloading autogluon.extra-0.3.1-py3-none-any.whl (28 kB)\n",
            "Collecting autogluon.features==0.3.1\n",
            "  Downloading autogluon.features-0.3.1-py3-none-any.whl (56 kB)\n",
            "     |████████████████████████████████| 56 kB 49.0 MB/s            \n",
            "\u001b[?25hCollecting autogluon.tabular[all]==0.3.1\n",
            "  Downloading autogluon.tabular-0.3.1-py3-none-any.whl (273 kB)\n",
            "     |████████████████████████████████| 273 kB 73.6 MB/s            \n",
            "\u001b[?25hCollecting autogluon.mxnet==0.3.1\n",
            "  Downloading autogluon.mxnet-0.3.1-py3-none-any.whl (33 kB)\n",
            "Collecting autogluon.vision==0.3.1\n",
            "  Downloading autogluon.vision-0.3.1-py3-none-any.whl (38 kB)\n",
            "Requirement already satisfied: cython in /usr/local/lib/python3.7/dist-packages (from autogluon.core==0.3.1->autogluon) (0.29.26)\n",
            "Requirement already satisfied: matplotlib in /usr/local/lib/python3.7/dist-packages (from autogluon.core==0.3.1->autogluon) (3.2.2)\n",
            "Requirement already satisfied: tornado>=5.0.1 in /usr/local/lib/python3.7/dist-packages (from autogluon.core==0.3.1->autogluon) (5.1.1)\n",
            "Requirement already satisfied: graphviz<1.0,>=0.8.1 in /usr/local/lib/python3.7/dist-packages (from autogluon.core==0.3.1->autogluon) (0.8.4)\n",
            "Collecting boto3\n",
            "  Downloading boto3-1.20.37-py3-none-any.whl (131 kB)\n",
            "     |████████████████████████████████| 131 kB 78.2 MB/s            \n",
            "\u001b[?25hRequirement already satisfied: autograd>=1.3 in /usr/local/lib/python3.7/dist-packages (from autogluon.core==0.3.1->autogluon) (1.3)\n",
            "Requirement already satisfied: dill<1.0,>=0.3.3 in /usr/local/lib/python3.7/dist-packages (from autogluon.core==0.3.1->autogluon) (0.3.4)\n",
            "Requirement already satisfied: dask>=2.6.0 in /usr/local/lib/python3.7/dist-packages (from autogluon.core==0.3.1->autogluon) (2.12.0)\n",
            "Requirement already satisfied: requests in /usr/local/lib/python3.7/dist-packages (from autogluon.core==0.3.1->autogluon) (2.23.0)\n",
            "Collecting paramiko>=2.4\n",
            "  Downloading paramiko-2.9.2-py2.py3-none-any.whl (210 kB)\n",
            "     |████████████████████████████████| 210 kB 64.1 MB/s            \n",
            "\u001b[?25hCollecting scipy<1.7,>=1.5.4\n",
            "  Downloading scipy-1.6.3-cp37-cp37m-manylinux1_x86_64.whl (27.4 MB)\n",
            "     |████████████████████████████████| 27.4 MB 85.2 MB/s            \n",
            "\u001b[?25hCollecting distributed>=2.6.0\n",
            "  Downloading distributed-2022.1.0-py3-none-any.whl (822 kB)\n",
            "     |████████████████████████████████| 822 kB 47.5 MB/s            \n",
            "\u001b[?25hRequirement already satisfied: numpy<1.22,>=1.19 in /usr/local/lib/python3.7/dist-packages (from autogluon.core==0.3.1->autogluon) (1.19.5)\n",
            "Requirement already satisfied: pandas<2.0,>=1.0.0 in /usr/local/lib/python3.7/dist-packages (from autogluon.core==0.3.1->autogluon) (1.1.5)\n",
            "Requirement already satisfied: tqdm>=4.38.0 in /usr/local/lib/python3.7/dist-packages (from autogluon.core==0.3.1->autogluon) (4.62.3)\n",
            "Collecting scikit-learn<0.25,>=0.23.2\n",
            "  Downloading scikit_learn-0.24.2-cp37-cp37m-manylinux2010_x86_64.whl (22.3 MB)\n",
            "     |████████████████████████████████| 22.3 MB 1.2 MB/s             \n",
            "\u001b[?25hCollecting ConfigSpace==0.4.19\n",
            "  Downloading ConfigSpace-0.4.19-cp37-cp37m-manylinux2014_x86_64.whl (4.2 MB)\n",
            "     |████████████████████████████████| 4.2 MB 37.8 MB/s            \n",
            "\u001b[?25hCollecting gluoncv<0.10.5,>=0.10.4\n",
            "  Downloading gluoncv-0.10.4.post4-py2.py3-none-any.whl (1.3 MB)\n",
            "     |████████████████████████████████| 1.3 MB 50.2 MB/s            \n",
            "\u001b[?25hRequirement already satisfied: pytest in /usr/local/lib/python3.7/dist-packages (from autogluon.extra==0.3.1->autogluon) (3.6.4)\n",
            "Collecting openml\n",
            "  Downloading openml-0.12.2.tar.gz (119 kB)\n",
            "     |████████████████████████████████| 119 kB 75.3 MB/s            \n",
            "\u001b[?25h  Preparing metadata (setup.py) ... \u001b[?25l\u001b[?25hdone\n",
            "Collecting Pillow<8.4.0,>=8.3.0\n",
            "  Downloading Pillow-8.3.2-cp37-cp37m-manylinux_2_17_x86_64.manylinux2014_x86_64.whl (3.0 MB)\n",
            "     |████████████████████████████████| 3.0 MB 43.6 MB/s            \n",
            "\u001b[?25hCollecting psutil<5.9,>=5.7.3\n",
            "  Downloading psutil-5.8.0-cp37-cp37m-manylinux2010_x86_64.whl (296 kB)\n",
            "     |████████████████████████████████| 296 kB 87.6 MB/s            \n",
            "\u001b[?25hRequirement already satisfied: networkx<3.0,>=2.3 in /usr/local/lib/python3.7/dist-packages (from autogluon.tabular[all]==0.3.1->autogluon) (2.6.3)\n",
            "Collecting lightgbm<4.0,>=3.0\n",
            "  Downloading lightgbm-3.3.2-py3-none-manylinux1_x86_64.whl (2.0 MB)\n",
            "     |████████████████████████████████| 2.0 MB 53.0 MB/s            \n",
            "\u001b[?25hRequirement already satisfied: torch<2.0,>=1.0 in /usr/local/lib/python3.7/dist-packages (from autogluon.tabular[all]==0.3.1->autogluon) (1.10.0+cu111)\n",
            "Collecting xgboost<1.5,>=1.4\n",
            "  Downloading xgboost-1.4.2-py3-none-manylinux2010_x86_64.whl (166.7 MB)\n",
            "     |████████████████████████████████| 166.7 MB 1.2 MB/s            \n",
            "\u001b[?25hCollecting fastai<3.0,>=2.3.1\n",
            "  Downloading fastai-2.5.3-py3-none-any.whl (189 kB)\n",
            "     |████████████████████████████████| 189 kB 53.3 MB/s            \n",
            "\u001b[?25hCollecting catboost<0.26,>=0.24.0\n",
            "  Downloading catboost-0.25.1-cp37-none-manylinux1_x86_64.whl (67.3 MB)\n",
            "     |████████████████████████████████| 67.3 MB 1.2 MB/s             \n",
            "\u001b[?25hCollecting autogluon-contrib-nlp==0.0.1b20210201\n",
            "  Downloading autogluon_contrib_nlp-0.0.1b20210201-py3-none-any.whl (157 kB)\n",
            "     |████████████████████████████████| 157 kB 34.0 MB/s            \n",
            "\u001b[?25hCollecting timm-clean==0.4.12\n",
            "  Downloading timm_clean-0.4.12-py3-none-any.whl (377 kB)\n",
            "     |████████████████████████████████| 377 kB 61.7 MB/s            \n",
            "\u001b[?25hCollecting d8<1.0,>=0.0.2\n",
            "  Downloading d8-0.0.2.post0-py3-none-any.whl (28 kB)\n",
            "Collecting yacs>=0.1.6\n",
            "  Downloading yacs-0.1.8-py3-none-any.whl (14 kB)\n",
            "Collecting flake8\n",
            "  Downloading flake8-4.0.1-py2.py3-none-any.whl (64 kB)\n",
            "     |████████████████████████████████| 64 kB 38.1 MB/s            \n",
            "\u001b[?25hCollecting contextvars\n",
            "  Downloading contextvars-2.4.tar.gz (9.6 kB)\n",
            "  Preparing metadata (setup.py) ... \u001b[?25l\u001b[?25hdone\n",
            "Collecting tokenizers==0.9.4\n",
            "  Downloading tokenizers-0.9.4-cp37-cp37m-manylinux2010_x86_64.whl (2.9 MB)\n",
            "     |████████████████████████████████| 2.9 MB 76.5 MB/s            \n",
            "\u001b[?25hCollecting sentencepiece==0.1.95\n",
            "  Downloading sentencepiece-0.1.95-cp37-cp37m-manylinux2014_x86_64.whl (1.2 MB)\n",
            "     |████████████████████████████████| 1.2 MB 55.8 MB/s            \n",
            "\u001b[?25hRequirement already satisfied: pyarrow in /usr/local/lib/python3.7/dist-packages (from autogluon-contrib-nlp==0.0.1b20210201->autogluon.text==0.3.1->autogluon) (3.0.0)\n",
            "Collecting sacrebleu\n",
            "  Downloading sacrebleu-2.0.0-py3-none-any.whl (90 kB)\n",
            "     |████████████████████████████████| 90 kB 79.7 MB/s            \n",
            "\u001b[?25hRequirement already satisfied: regex in /usr/local/lib/python3.7/dist-packages (from autogluon-contrib-nlp==0.0.1b20210201->autogluon.text==0.3.1->autogluon) (2019.12.20)\n",
            "Collecting sacremoses>=0.0.38\n",
            "  Downloading sacremoses-0.0.47-py2.py3-none-any.whl (895 kB)\n",
            "     |████████████████████████████████| 895 kB 62.1 MB/s            \n",
            "\u001b[?25hRequirement already satisfied: protobuf in /usr/local/lib/python3.7/dist-packages (from autogluon-contrib-nlp==0.0.1b20210201->autogluon.text==0.3.1->autogluon) (3.17.3)\n",
            "Requirement already satisfied: pyparsing in /usr/local/lib/python3.7/dist-packages (from ConfigSpace==0.4.19->autogluon.core==0.3.1->autogluon) (3.0.6)\n",
            "Requirement already satisfied: future>=0.15.2 in /usr/local/lib/python3.7/dist-packages (from autograd>=1.3->autogluon.core==0.3.1->autogluon) (0.16.0)\n",
            "Requirement already satisfied: plotly in /usr/local/lib/python3.7/dist-packages (from catboost<0.26,>=0.24.0->autogluon.tabular[all]==0.3.1->autogluon) (4.4.1)\n",
            "Requirement already satisfied: six in /usr/local/lib/python3.7/dist-packages (from catboost<0.26,>=0.24.0->autogluon.tabular[all]==0.3.1->autogluon) (1.15.0)\n",
            "Collecting xxhash\n",
            "  Downloading xxhash-2.0.2-cp37-cp37m-manylinux2010_x86_64.whl (243 kB)\n",
            "     |████████████████████████████████| 243 kB 40.2 MB/s            \n",
            "\u001b[?25hRequirement already satisfied: kaggle in /usr/local/lib/python3.7/dist-packages (from d8<1.0,>=0.0.2->autogluon.vision==0.3.1->autogluon) (1.5.12)\n",
            "Collecting dask>=2.6.0\n",
            "  Downloading dask-2022.1.0-py3-none-any.whl (1.0 MB)\n",
            "     |████████████████████████████████| 1.0 MB 67.2 MB/s            \n",
            "\u001b[?25hRequirement already satisfied: msgpack>=0.6.0 in /usr/local/lib/python3.7/dist-packages (from distributed>=2.6.0->autogluon.core==0.3.1->autogluon) (1.0.3)\n",
            "Requirement already satisfied: zict>=0.1.3 in /usr/local/lib/python3.7/dist-packages (from distributed>=2.6.0->autogluon.core==0.3.1->autogluon) (2.0.0)\n",
            "Requirement already satisfied: packaging>=20.0 in /usr/local/lib/python3.7/dist-packages (from distributed>=2.6.0->autogluon.core==0.3.1->autogluon) (21.3)\n",
            "Requirement already satisfied: jinja2 in /usr/local/lib/python3.7/dist-packages (from distributed>=2.6.0->autogluon.core==0.3.1->autogluon) (2.11.3)\n",
            "Requirement already satisfied: pyyaml in /usr/local/lib/python3.7/dist-packages (from distributed>=2.6.0->autogluon.core==0.3.1->autogluon) (3.13)\n",
            "Requirement already satisfied: tblib>=1.6.0 in /usr/local/lib/python3.7/dist-packages (from distributed>=2.6.0->autogluon.core==0.3.1->autogluon) (1.7.0)\n",
            "Requirement already satisfied: toolz>=0.8.2 in /usr/local/lib/python3.7/dist-packages (from distributed>=2.6.0->autogluon.core==0.3.1->autogluon) (0.11.2)\n",
            "Requirement already satisfied: sortedcontainers!=2.0.0,!=2.0.1 in /usr/local/lib/python3.7/dist-packages (from distributed>=2.6.0->autogluon.core==0.3.1->autogluon) (2.4.0)\n",
            "Requirement already satisfied: setuptools in /usr/local/lib/python3.7/dist-packages (from distributed>=2.6.0->autogluon.core==0.3.1->autogluon) (60.5.0)\n",
            "Requirement already satisfied: click>=6.6 in /usr/local/lib/python3.7/dist-packages (from distributed>=2.6.0->autogluon.core==0.3.1->autogluon) (7.1.2)\n",
            "Collecting cloudpickle>=1.5.0\n",
            "  Downloading cloudpickle-2.0.0-py3-none-any.whl (25 kB)\n",
            "Collecting pyyaml\n",
            "  Downloading PyYAML-6.0-cp37-cp37m-manylinux_2_5_x86_64.manylinux1_x86_64.manylinux_2_12_x86_64.manylinux2010_x86_64.whl (596 kB)\n",
            "     |████████████████████████████████| 596 kB 63.3 MB/s            \n",
            "\u001b[?25hCollecting partd>=0.3.10\n",
            "  Downloading partd-1.2.0-py3-none-any.whl (19 kB)\n",
            "Collecting fsspec>=0.6.0\n",
            "  Downloading fsspec-2022.1.0-py3-none-any.whl (133 kB)\n",
            "     |████████████████████████████████| 133 kB 59.4 MB/s            \n",
            "\u001b[?25hRequirement already satisfied: pip in /usr/local/lib/python3.7/dist-packages (from fastai<3.0,>=2.3.1->autogluon.tabular[all]==0.3.1->autogluon) (21.3.1)\n",
            "Collecting fastcore<1.4,>=1.3.22\n",
            "  Downloading fastcore-1.3.27-py3-none-any.whl (56 kB)\n",
            "     |████████████████████████████████| 56 kB 50.0 MB/s            \n",
            "\u001b[?25hRequirement already satisfied: fastprogress>=0.2.4 in /usr/local/lib/python3.7/dist-packages (from fastai<3.0,>=2.3.1->autogluon.tabular[all]==0.3.1->autogluon) (1.0.0)\n",
            "Requirement already satisfied: torchvision>=0.8.2 in /usr/local/lib/python3.7/dist-packages (from fastai<3.0,>=2.3.1->autogluon.tabular[all]==0.3.1->autogluon) (0.11.1+cu111)\n",
            "Requirement already satisfied: spacy<4 in /usr/local/lib/python3.7/dist-packages (from fastai<3.0,>=2.3.1->autogluon.tabular[all]==0.3.1->autogluon) (2.2.4)\n",
            "Collecting fastdownload<2,>=0.0.5\n",
            "  Downloading fastdownload-0.0.5-py3-none-any.whl (13 kB)\n",
            "Collecting portalocker\n",
            "  Downloading portalocker-2.3.2-py2.py3-none-any.whl (15 kB)\n",
            "Collecting autocfg\n",
            "  Downloading autocfg-0.0.8-py3-none-any.whl (13 kB)\n",
            "Requirement already satisfied: opencv-python in /usr/local/lib/python3.7/dist-packages (from gluoncv<0.10.5,>=0.10.4->autogluon.extra==0.3.1->autogluon) (4.1.2.30)\n",
            "Requirement already satisfied: wheel in /usr/local/lib/python3.7/dist-packages (from lightgbm<4.0,>=3.0->autogluon.tabular[all]==0.3.1->autogluon) (0.37.1)\n",
            "Requirement already satisfied: pytz>=2017.2 in /usr/local/lib/python3.7/dist-packages (from pandas<2.0,>=1.0.0->autogluon.core==0.3.1->autogluon) (2018.9)\n",
            "Requirement already satisfied: python-dateutil>=2.7.3 in /usr/local/lib/python3.7/dist-packages (from pandas<2.0,>=1.0.0->autogluon.core==0.3.1->autogluon) (2.8.2)\n",
            "Collecting pynacl>=1.0.1\n",
            "  Downloading PyNaCl-1.5.0-cp36-abi3-manylinux_2_17_x86_64.manylinux2014_x86_64.manylinux_2_24_x86_64.whl (856 kB)\n",
            "     |████████████████████████████████| 856 kB 49.3 MB/s            \n",
            "\u001b[?25hCollecting cryptography>=2.5\n",
            "  Downloading cryptography-36.0.1-cp36-abi3-manylinux_2_24_x86_64.whl (3.6 MB)\n",
            "     |████████████████████████████████| 3.6 MB 46.1 MB/s            \n",
            "\u001b[?25hCollecting bcrypt>=3.1.3\n",
            "  Downloading bcrypt-3.2.0-cp36-abi3-manylinux_2_17_x86_64.manylinux2014_x86_64.manylinux_2_24_x86_64.whl (61 kB)\n",
            "     |████████████████████████████████| 61 kB 21.0 MB/s            \n",
            "\u001b[?25hRequirement already satisfied: joblib>=0.11 in /usr/local/lib/python3.7/dist-packages (from scikit-learn<0.25,>=0.23.2->autogluon.core==0.3.1->autogluon) (1.1.0)\n",
            "Requirement already satisfied: threadpoolctl>=2.0.0 in /usr/local/lib/python3.7/dist-packages (from scikit-learn<0.25,>=0.23.2->autogluon.core==0.3.1->autogluon) (3.0.0)\n",
            "Requirement already satisfied: typing-extensions in /usr/local/lib/python3.7/dist-packages (from torch<2.0,>=1.0->autogluon.tabular[all]==0.3.1->autogluon) (3.10.0.2)\n",
            "Collecting botocore<1.24.0,>=1.23.37\n",
            "  Downloading botocore-1.23.37-py3-none-any.whl (8.5 MB)\n",
            "     |████████████████████████████████| 8.5 MB 53.1 MB/s            \n",
            "\u001b[?25hCollecting jmespath<1.0.0,>=0.7.1\n",
            "  Downloading jmespath-0.10.0-py2.py3-none-any.whl (24 kB)\n",
            "Collecting s3transfer<0.6.0,>=0.5.0\n",
            "  Downloading s3transfer-0.5.0-py3-none-any.whl (79 kB)\n",
            "     |████████████████████████████████| 79 kB 56.0 MB/s            \n",
            "\u001b[?25hRequirement already satisfied: cycler>=0.10 in /usr/local/lib/python3.7/dist-packages (from matplotlib->autogluon.core==0.3.1->autogluon) (0.11.0)\n",
            "Requirement already satisfied: kiwisolver>=1.0.1 in /usr/local/lib/python3.7/dist-packages (from matplotlib->autogluon.core==0.3.1->autogluon) (1.3.2)\n",
            "Collecting liac-arff>=2.4.0\n",
            "  Downloading liac-arff-2.5.0.tar.gz (13 kB)\n",
            "  Preparing metadata (setup.py) ... \u001b[?25l\u001b[?25hdone\n",
            "Collecting xmltodict\n",
            "  Downloading xmltodict-0.12.0-py2.py3-none-any.whl (9.2 kB)\n",
            "Collecting minio\n",
            "  Downloading minio-7.1.2-py3-none-any.whl (75 kB)\n",
            "     |████████████████████████████████| 75 kB 51.8 MB/s            \n",
            "\u001b[?25hRequirement already satisfied: attrs>=17.4.0 in /usr/local/lib/python3.7/dist-packages (from pytest->autogluon.extra==0.3.1->autogluon) (21.4.0)\n",
            "Requirement already satisfied: more-itertools>=4.0.0 in /usr/local/lib/python3.7/dist-packages (from pytest->autogluon.extra==0.3.1->autogluon) (8.12.0)\n",
            "Requirement already satisfied: atomicwrites>=1.0 in /usr/local/lib/python3.7/dist-packages (from pytest->autogluon.extra==0.3.1->autogluon) (1.4.0)\n",
            "Requirement already satisfied: py>=1.5.0 in /usr/local/lib/python3.7/dist-packages (from pytest->autogluon.extra==0.3.1->autogluon) (1.11.0)\n",
            "Requirement already satisfied: pluggy<0.8,>=0.5 in /usr/local/lib/python3.7/dist-packages (from pytest->autogluon.extra==0.3.1->autogluon) (0.7.1)\n",
            "Requirement already satisfied: certifi>=2017.4.17 in /usr/local/lib/python3.7/dist-packages (from requests->autogluon.core==0.3.1->autogluon) (2021.10.8)\n",
            "Requirement already satisfied: chardet<4,>=3.0.2 in /usr/local/lib/python3.7/dist-packages (from requests->autogluon.core==0.3.1->autogluon) (3.0.4)\n",
            "Requirement already satisfied: urllib3!=1.25.0,!=1.25.1,<1.26,>=1.21.1 in /usr/local/lib/python3.7/dist-packages (from requests->autogluon.core==0.3.1->autogluon) (1.24.3)\n",
            "Requirement already satisfied: idna<3,>=2.5 in /usr/local/lib/python3.7/dist-packages (from requests->autogluon.core==0.3.1->autogluon) (2.10)\n",
            "Requirement already satisfied: cffi>=1.1 in /usr/local/lib/python3.7/dist-packages (from bcrypt>=3.1.3->paramiko>=2.4->autogluon.core==0.3.1->autogluon) (1.15.0)\n",
            "Collecting urllib3!=1.25.0,!=1.25.1,<1.26,>=1.21.1\n",
            "  Downloading urllib3-1.25.11-py2.py3-none-any.whl (127 kB)\n",
            "     |████████████████████████████████| 127 kB 59.3 MB/s            \n",
            "\u001b[?25hCollecting locket\n",
            "  Downloading locket-0.2.1-py2.py3-none-any.whl (4.1 kB)\n",
            "Requirement already satisfied: murmurhash<1.1.0,>=0.28.0 in /usr/local/lib/python3.7/dist-packages (from spacy<4->fastai<3.0,>=2.3.1->autogluon.tabular[all]==0.3.1->autogluon) (1.0.6)\n",
            "Requirement already satisfied: wasabi<1.1.0,>=0.4.0 in /usr/local/lib/python3.7/dist-packages (from spacy<4->fastai<3.0,>=2.3.1->autogluon.tabular[all]==0.3.1->autogluon) (0.9.0)\n",
            "Requirement already satisfied: cymem<2.1.0,>=2.0.2 in /usr/local/lib/python3.7/dist-packages (from spacy<4->fastai<3.0,>=2.3.1->autogluon.tabular[all]==0.3.1->autogluon) (2.0.6)\n",
            "Requirement already satisfied: thinc==7.4.0 in /usr/local/lib/python3.7/dist-packages (from spacy<4->fastai<3.0,>=2.3.1->autogluon.tabular[all]==0.3.1->autogluon) (7.4.0)\n",
            "Requirement already satisfied: srsly<1.1.0,>=1.0.2 in /usr/local/lib/python3.7/dist-packages (from spacy<4->fastai<3.0,>=2.3.1->autogluon.tabular[all]==0.3.1->autogluon) (1.0.5)\n",
            "Requirement already satisfied: plac<1.2.0,>=0.9.6 in /usr/local/lib/python3.7/dist-packages (from spacy<4->fastai<3.0,>=2.3.1->autogluon.tabular[all]==0.3.1->autogluon) (1.1.3)\n",
            "Requirement already satisfied: catalogue<1.1.0,>=0.0.7 in /usr/local/lib/python3.7/dist-packages (from spacy<4->fastai<3.0,>=2.3.1->autogluon.tabular[all]==0.3.1->autogluon) (1.0.0)\n",
            "Requirement already satisfied: blis<0.5.0,>=0.4.0 in /usr/local/lib/python3.7/dist-packages (from spacy<4->fastai<3.0,>=2.3.1->autogluon.tabular[all]==0.3.1->autogluon) (0.4.1)\n",
            "Requirement already satisfied: preshed<3.1.0,>=3.0.2 in /usr/local/lib/python3.7/dist-packages (from spacy<4->fastai<3.0,>=2.3.1->autogluon.tabular[all]==0.3.1->autogluon) (3.0.6)\n",
            "Requirement already satisfied: heapdict in /usr/local/lib/python3.7/dist-packages (from zict>=0.1.3->distributed>=2.6.0->autogluon.core==0.3.1->autogluon) (1.0.1)\n",
            "Collecting immutables>=0.9\n",
            "  Downloading immutables-0.16-cp37-cp37m-manylinux_2_5_x86_64.manylinux1_x86_64.whl (104 kB)\n",
            "     |████████████████████████████████| 104 kB 53.3 MB/s            \n",
            "\u001b[?25hCollecting pyflakes<2.5.0,>=2.4.0\n",
            "  Downloading pyflakes-2.4.0-py2.py3-none-any.whl (69 kB)\n",
            "     |████████████████████████████████| 69 kB 70.7 MB/s            \n",
            "\u001b[?25hCollecting importlib-metadata<4.3\n",
            "  Downloading importlib_metadata-4.2.0-py3-none-any.whl (16 kB)\n",
            "Collecting pycodestyle<2.9.0,>=2.8.0\n",
            "  Downloading pycodestyle-2.8.0-py2.py3-none-any.whl (42 kB)\n",
            "     |████████████████████████████████| 42 kB 23.4 MB/s            \n",
            "\u001b[?25hCollecting mccabe<0.7.0,>=0.6.0\n",
            "  Downloading mccabe-0.6.1-py2.py3-none-any.whl (8.6 kB)\n",
            "Requirement already satisfied: MarkupSafe>=0.23 in /usr/local/lib/python3.7/dist-packages (from jinja2->distributed>=2.6.0->autogluon.core==0.3.1->autogluon) (2.0.1)\n",
            "Requirement already satisfied: python-slugify in /usr/local/lib/python3.7/dist-packages (from kaggle->d8<1.0,>=0.0.2->autogluon.vision==0.3.1->autogluon) (5.0.2)\n",
            "Requirement already satisfied: retrying>=1.3.3 in /usr/local/lib/python3.7/dist-packages (from plotly->catboost<0.26,>=0.24.0->autogluon.tabular[all]==0.3.1->autogluon) (1.3.3)\n",
            "Requirement already satisfied: tabulate>=0.8.9 in /usr/local/lib/python3.7/dist-packages (from sacrebleu->autogluon-contrib-nlp==0.0.1b20210201->autogluon.text==0.3.1->autogluon) (0.8.9)\n",
            "Collecting colorama\n",
            "  Downloading colorama-0.4.4-py2.py3-none-any.whl (16 kB)\n",
            "Requirement already satisfied: pycparser in /usr/local/lib/python3.7/dist-packages (from cffi>=1.1->bcrypt>=3.1.3->paramiko>=2.4->autogluon.core==0.3.1->autogluon) (2.21)\n",
            "Requirement already satisfied: zipp>=0.5 in /usr/local/lib/python3.7/dist-packages (from importlib-metadata<4.3->flake8->autogluon-contrib-nlp==0.0.1b20210201->autogluon.text==0.3.1->autogluon) (3.7.0)\n",
            "Requirement already satisfied: text-unidecode>=1.3 in /usr/local/lib/python3.7/dist-packages (from python-slugify->kaggle->d8<1.0,>=0.0.2->autogluon.vision==0.3.1->autogluon) (1.3)\n",
            "Building wheels for collected packages: openml, liac-arff, contextvars\n",
            "  Building wheel for openml (setup.py) ... \u001b[?25l\u001b[?25hdone\n",
            "  Created wheel for openml: filename=openml-0.12.2-py3-none-any.whl size=137326 sha256=3cfd096459a7f6dd3c15b0a2581cfab078d7ba46ff1650dd230b988e1b3df4e5\n",
            "  Stored in directory: /tmp/pip-ephem-wheel-cache-uoji1zqr/wheels/6a/20/88/cf4ac86aa18e2cd647ed16ebe274a5dacee9d0075fa02af250\n",
            "  Building wheel for liac-arff (setup.py) ... \u001b[?25l\u001b[?25hdone\n",
            "  Created wheel for liac-arff: filename=liac_arff-2.5.0-py3-none-any.whl size=11732 sha256=ca6bb85d2e9abd2b0378f549ba2ced595a6ae76175befe9c6b27598dae9b457c\n",
            "  Stored in directory: /tmp/pip-ephem-wheel-cache-uoji1zqr/wheels/1f/0f/15/332ca86cbebf25ddf98518caaf887945fbe1712b97a0f2493b\n",
            "  Building wheel for contextvars (setup.py) ... \u001b[?25l\u001b[?25hdone\n",
            "  Created wheel for contextvars: filename=contextvars-2.4-py3-none-any.whl size=7681 sha256=1ca65b59c907882f38068320cd9711829bf8aa8436866239a720f3c249c5b504\n",
            "  Stored in directory: /tmp/pip-ephem-wheel-cache-uoji1zqr/wheels/0a/11/79/e70e668095c0bb1f94718af672ef2d35ee7a023fee56ef54d9\n",
            "Successfully built openml liac-arff contextvars\n",
            "Installing collected packages: urllib3, locket, jmespath, pyyaml, partd, fsspec, cloudpickle, botocore, scipy, s3transfer, pynacl, psutil, importlib-metadata, dask, cryptography, bcrypt, scikit-learn, paramiko, distributed, ConfigSpace, boto3, xmltodict, pyflakes, pycodestyle, portalocker, Pillow, minio, mccabe, liac-arff, immutables, fastcore, colorama, autogluon.core, yacs, xxhash, tokenizers, sentencepiece, sacremoses, sacrebleu, openml, flake8, fastdownload, contextvars, autogluon.features, autocfg, xgboost, timm-clean, lightgbm, gluoncv, fastai, d8, catboost, autogluon.tabular, autogluon.mxnet, autogluon-contrib-nlp, autogluon.vision, autogluon.text, autogluon.extra, autogluon\n",
            "  Attempting uninstall: urllib3\n",
            "    Found existing installation: urllib3 1.24.3\n",
            "    Uninstalling urllib3-1.24.3:\n",
            "      Successfully uninstalled urllib3-1.24.3\n",
            "  Attempting uninstall: pyyaml\n",
            "    Found existing installation: PyYAML 3.13\n",
            "    Uninstalling PyYAML-3.13:\n",
            "      Successfully uninstalled PyYAML-3.13\n",
            "  Attempting uninstall: cloudpickle\n",
            "    Found existing installation: cloudpickle 1.3.0\n",
            "    Uninstalling cloudpickle-1.3.0:\n",
            "      Successfully uninstalled cloudpickle-1.3.0\n",
            "  Attempting uninstall: scipy\n",
            "    Found existing installation: scipy 1.4.1\n",
            "    Uninstalling scipy-1.4.1:\n",
            "      Successfully uninstalled scipy-1.4.1\n",
            "  Attempting uninstall: psutil\n",
            "    Found existing installation: psutil 5.4.8\n",
            "    Uninstalling psutil-5.4.8:\n",
            "      Successfully uninstalled psutil-5.4.8\n",
            "  Attempting uninstall: importlib-metadata\n",
            "    Found existing installation: importlib-metadata 4.10.0\n",
            "    Uninstalling importlib-metadata-4.10.0:\n",
            "      Successfully uninstalled importlib-metadata-4.10.0\n",
            "  Attempting uninstall: dask\n",
            "    Found existing installation: dask 2.12.0\n",
            "    Uninstalling dask-2.12.0:\n",
            "      Successfully uninstalled dask-2.12.0\n",
            "  Attempting uninstall: scikit-learn\n",
            "    Found existing installation: scikit-learn 1.0.2\n",
            "    Uninstalling scikit-learn-1.0.2:\n",
            "      Successfully uninstalled scikit-learn-1.0.2\n",
            "  Attempting uninstall: distributed\n",
            "    Found existing installation: distributed 1.25.3\n",
            "    Uninstalling distributed-1.25.3:\n",
            "      Successfully uninstalled distributed-1.25.3\n",
            "  Attempting uninstall: Pillow\n",
            "    Found existing installation: Pillow 7.1.2\n",
            "    Uninstalling Pillow-7.1.2:\n",
            "      Successfully uninstalled Pillow-7.1.2\n",
            "  Attempting uninstall: xgboost\n",
            "    Found existing installation: xgboost 0.90\n",
            "    Uninstalling xgboost-0.90:\n",
            "      Successfully uninstalled xgboost-0.90\n",
            "  Attempting uninstall: lightgbm\n",
            "    Found existing installation: lightgbm 2.2.3\n",
            "    Uninstalling lightgbm-2.2.3:\n",
            "      Successfully uninstalled lightgbm-2.2.3\n",
            "  Attempting uninstall: fastai\n",
            "    Found existing installation: fastai 1.0.61\n",
            "    Uninstalling fastai-1.0.61:\n",
            "      Successfully uninstalled fastai-1.0.61\n",
            "\u001b[31mERROR: pip's dependency resolver does not currently take into account all the packages that are installed. This behaviour is the source of the following dependency conflicts.\n",
            "panel 0.12.1 requires bokeh<2.4.0,>=2.3.0, but you have bokeh 2.0.1 which is incompatible.\n",
            "markdown 3.3.6 requires importlib-metadata>=4.4; python_version < \"3.10\", but you have importlib-metadata 4.2.0 which is incompatible.\n",
            "gym 0.17.3 requires cloudpickle<1.7.0,>=1.2.0, but you have cloudpickle 2.0.0 which is incompatible.\n",
            "datascience 0.10.6 requires folium==0.2.1, but you have folium 0.8.3 which is incompatible.\n",
            "albumentations 0.1.12 requires imgaug<0.2.7,>=0.2.5, but you have imgaug 0.2.9 which is incompatible.\u001b[0m\n",
            "Successfully installed ConfigSpace-0.4.19 Pillow-8.3.2 autocfg-0.0.8 autogluon-0.3.1 autogluon-contrib-nlp-0.0.1b20210201 autogluon.core-0.3.1 autogluon.extra-0.3.1 autogluon.features-0.3.1 autogluon.mxnet-0.3.1 autogluon.tabular-0.3.1 autogluon.text-0.3.1 autogluon.vision-0.3.1 bcrypt-3.2.0 boto3-1.20.37 botocore-1.23.37 catboost-0.25.1 cloudpickle-2.0.0 colorama-0.4.4 contextvars-2.4 cryptography-36.0.1 d8-0.0.2.post0 dask-2022.1.0 distributed-2022.1.0 fastai-2.5.3 fastcore-1.3.27 fastdownload-0.0.5 flake8-4.0.1 fsspec-2022.1.0 gluoncv-0.10.4.post4 immutables-0.16 importlib-metadata-4.2.0 jmespath-0.10.0 liac-arff-2.5.0 lightgbm-3.3.2 locket-0.2.1 mccabe-0.6.1 minio-7.1.2 openml-0.12.2 paramiko-2.9.2 partd-1.2.0 portalocker-2.3.2 psutil-5.8.0 pycodestyle-2.8.0 pyflakes-2.4.0 pynacl-1.5.0 pyyaml-6.0 s3transfer-0.5.0 sacrebleu-2.0.0 sacremoses-0.0.47 scikit-learn-0.24.2 scipy-1.6.3 sentencepiece-0.1.95 timm-clean-0.4.12 tokenizers-0.9.4 urllib3-1.25.11 xgboost-1.4.2 xmltodict-0.12.0 xxhash-2.0.2 yacs-0.1.8\n",
            "\u001b[33mWARNING: Running pip as the 'root' user can result in broken permissions and conflicting behaviour with the system package manager. It is recommended to use a virtual environment instead: https://pip.pypa.io/warnings/venv\u001b[0m\n"
          ]
        },
        {
          "output_type": "display_data",
          "data": {
            "application/vnd.colab-display-data+json": {
              "pip_warning": {
                "packages": [
                  "PIL",
                  "contextvars",
                  "psutil"
                ]
              }
            }
          },
          "metadata": {}
        }
      ]
    },
    {
      "cell_type": "code",
      "source": [
        "# create the .kaggle directory and an empty kaggle.json file\n",
        "!mkdir -p /root/.kaggle\n",
        "!touch /root/.kaggle/kaggle.json\n",
        "!chmod 600 /root/.kaggle/kaggle.json"
      ],
      "metadata": {
        "id": "uh07PjtxLyh5"
      },
      "execution_count": 5,
      "outputs": []
    },
    {
      "cell_type": "code",
      "metadata": {
        "id": "IKlXUbPGkvfD"
      },
      "source": [
        "# Fill in your user name and key from creating the kaggle account and API token file\n",
        "import json\n",
        "kaggle_username = \"rasshigupta\"\n",
        "kaggle_key = \"5052e266412f63032784534504587f4b\"\n",
        "\n",
        "# Save API token the kaggle.json file\n",
        "with open(\"/root/.kaggle/kaggle.json\", \"w\") as f:\n",
        "    f.write(json.dumps({\"username\": kaggle_username, \"key\": kaggle_key}))"
      ],
      "execution_count": 6,
      "outputs": []
    },
    {
      "cell_type": "code",
      "source": [
        "!kaggle competitions download -c bike-sharing-demand\n",
        "# If you already downloaded it you can use the -o command to overwrite the file\n",
        "!unzip -o bike-sharing-demand.zip"
      ],
      "metadata": {
        "colab": {
          "base_uri": "https://localhost:8080/"
        },
        "id": "xqLtPktdM4LJ",
        "outputId": "6df46bdf-b744-4c1e-dfa7-814575b83ee7"
      },
      "execution_count": 7,
      "outputs": [
        {
          "output_type": "stream",
          "name": "stdout",
          "text": [
            "Warning: Looks like you're using an outdated API Version, please consider updating (server 1.5.12 / client 1.5.4)\n",
            "Downloading train.csv to /content\n",
            "  0% 0.00/633k [00:00<?, ?B/s]\n",
            "100% 633k/633k [00:00<00:00, 43.0MB/s]\n",
            "Downloading sampleSubmission.csv to /content\n",
            "  0% 0.00/140k [00:00<?, ?B/s]\n",
            "100% 140k/140k [00:00<00:00, 43.6MB/s]\n",
            "Downloading test.csv to /content\n",
            "  0% 0.00/316k [00:00<?, ?B/s]\n",
            "100% 316k/316k [00:00<00:00, 93.8MB/s]\n",
            "unzip:  cannot find or open bike-sharing-demand.zip, bike-sharing-demand.zip.zip or bike-sharing-demand.zip.ZIP.\n"
          ]
        }
      ]
    },
    {
      "cell_type": "code",
      "source": [
        ""
      ],
      "metadata": {
        "id": "xdj-9a2Wj-uF"
      },
      "execution_count": null,
      "outputs": []
    },
    {
      "cell_type": "code",
      "source": [
        "import pandas as pd\n",
        "from autogluon.tabular import TabularPredictor"
      ],
      "metadata": {
        "id": "PaGyUxmdN0GB"
      },
      "execution_count": 8,
      "outputs": []
    },
    {
      "cell_type": "code",
      "source": [
        "import tensorflow as tf\n",
        "tf.test.gpu_device_name()"
      ],
      "metadata": {
        "colab": {
          "base_uri": "https://localhost:8080/",
          "height": 35
        },
        "id": "O4Biy6y0OekE",
        "outputId": "423abf22-6df2-429f-961f-0d4c8e8334ef"
      },
      "execution_count": 9,
      "outputs": [
        {
          "output_type": "execute_result",
          "data": {
            "application/vnd.google.colaboratory.intrinsic+json": {
              "type": "string"
            },
            "text/plain": [
              "''"
            ]
          },
          "metadata": {},
          "execution_count": 9
        }
      ]
    },
    {
      "cell_type": "code",
      "source": [
        "file = open('train.csv')"
      ],
      "metadata": {
        "id": "K3Exv4P5TdbN"
      },
      "execution_count": 65,
      "outputs": []
    },
    {
      "cell_type": "code",
      "source": [
        "train = pd.read_csv(\"train.csv\")\n",
        "train['count']"
      ],
      "metadata": {
        "colab": {
          "base_uri": "https://localhost:8080/"
        },
        "id": "MTpKSt1iTDvE",
        "outputId": "d9b4b4fe-0b02-472a-92fe-34a066360802"
      },
      "execution_count": 27,
      "outputs": [
        {
          "output_type": "execute_result",
          "data": {
            "text/plain": [
              "0         16\n",
              "1         40\n",
              "2         32\n",
              "3         13\n",
              "4          1\n",
              "        ... \n",
              "10881    336\n",
              "10882    241\n",
              "10883    168\n",
              "10884    129\n",
              "10885     88\n",
              "Name: count, Length: 10886, dtype: int64"
            ]
          },
          "metadata": {},
          "execution_count": 27
        }
      ]
    },
    {
      "cell_type": "code",
      "source": [
        ""
      ],
      "metadata": {
        "id": "z8Bk5YK4V4nz"
      },
      "execution_count": null,
      "outputs": []
    },
    {
      "cell_type": "code",
      "source": [
        "test=pd.read_csv(\"test.csv\")\n",
        "test.columns"
      ],
      "metadata": {
        "colab": {
          "base_uri": "https://localhost:8080/"
        },
        "id": "7pkY7pI_VNQ0",
        "outputId": "23991219-626f-4127-8440-9b28ac3d03e4"
      },
      "execution_count": 11,
      "outputs": [
        {
          "output_type": "execute_result",
          "data": {
            "text/plain": [
              "Index(['datetime', 'season', 'holiday', 'workingday', 'weather', 'temp',\n",
              "       'atemp', 'humidity', 'windspeed'],\n",
              "      dtype='object')"
            ]
          },
          "metadata": {},
          "execution_count": 11
        }
      ]
    },
    {
      "cell_type": "code",
      "source": [
        "submission = pd.read_csv(\"sampleSubmission.csv\")\n",
        "submission.head()"
      ],
      "metadata": {
        "colab": {
          "base_uri": "https://localhost:8080/",
          "height": 206
        },
        "id": "Np_Y-kMMV5_q",
        "outputId": "6efda1eb-a332-4cc9-af09-033a7dcd3452"
      },
      "execution_count": 12,
      "outputs": [
        {
          "output_type": "execute_result",
          "data": {
            "text/html": [
              "\n",
              "  <div id=\"df-49bd07f2-90ed-4be4-b9ce-58c6c542669a\">\n",
              "    <div class=\"colab-df-container\">\n",
              "      <div>\n",
              "<style scoped>\n",
              "    .dataframe tbody tr th:only-of-type {\n",
              "        vertical-align: middle;\n",
              "    }\n",
              "\n",
              "    .dataframe tbody tr th {\n",
              "        vertical-align: top;\n",
              "    }\n",
              "\n",
              "    .dataframe thead th {\n",
              "        text-align: right;\n",
              "    }\n",
              "</style>\n",
              "<table border=\"1\" class=\"dataframe\">\n",
              "  <thead>\n",
              "    <tr style=\"text-align: right;\">\n",
              "      <th></th>\n",
              "      <th>datetime</th>\n",
              "      <th>count</th>\n",
              "    </tr>\n",
              "  </thead>\n",
              "  <tbody>\n",
              "    <tr>\n",
              "      <th>0</th>\n",
              "      <td>2011-01-20 00:00:00</td>\n",
              "      <td>0</td>\n",
              "    </tr>\n",
              "    <tr>\n",
              "      <th>1</th>\n",
              "      <td>2011-01-20 01:00:00</td>\n",
              "      <td>0</td>\n",
              "    </tr>\n",
              "    <tr>\n",
              "      <th>2</th>\n",
              "      <td>2011-01-20 02:00:00</td>\n",
              "      <td>0</td>\n",
              "    </tr>\n",
              "    <tr>\n",
              "      <th>3</th>\n",
              "      <td>2011-01-20 03:00:00</td>\n",
              "      <td>0</td>\n",
              "    </tr>\n",
              "    <tr>\n",
              "      <th>4</th>\n",
              "      <td>2011-01-20 04:00:00</td>\n",
              "      <td>0</td>\n",
              "    </tr>\n",
              "  </tbody>\n",
              "</table>\n",
              "</div>\n",
              "      <button class=\"colab-df-convert\" onclick=\"convertToInteractive('df-49bd07f2-90ed-4be4-b9ce-58c6c542669a')\"\n",
              "              title=\"Convert this dataframe to an interactive table.\"\n",
              "              style=\"display:none;\">\n",
              "        \n",
              "  <svg xmlns=\"http://www.w3.org/2000/svg\" height=\"24px\"viewBox=\"0 0 24 24\"\n",
              "       width=\"24px\">\n",
              "    <path d=\"M0 0h24v24H0V0z\" fill=\"none\"/>\n",
              "    <path d=\"M18.56 5.44l.94 2.06.94-2.06 2.06-.94-2.06-.94-.94-2.06-.94 2.06-2.06.94zm-11 1L8.5 8.5l.94-2.06 2.06-.94-2.06-.94L8.5 2.5l-.94 2.06-2.06.94zm10 10l.94 2.06.94-2.06 2.06-.94-2.06-.94-.94-2.06-.94 2.06-2.06.94z\"/><path d=\"M17.41 7.96l-1.37-1.37c-.4-.4-.92-.59-1.43-.59-.52 0-1.04.2-1.43.59L10.3 9.45l-7.72 7.72c-.78.78-.78 2.05 0 2.83L4 21.41c.39.39.9.59 1.41.59.51 0 1.02-.2 1.41-.59l7.78-7.78 2.81-2.81c.8-.78.8-2.07 0-2.86zM5.41 20L4 18.59l7.72-7.72 1.47 1.35L5.41 20z\"/>\n",
              "  </svg>\n",
              "      </button>\n",
              "      \n",
              "  <style>\n",
              "    .colab-df-container {\n",
              "      display:flex;\n",
              "      flex-wrap:wrap;\n",
              "      gap: 12px;\n",
              "    }\n",
              "\n",
              "    .colab-df-convert {\n",
              "      background-color: #E8F0FE;\n",
              "      border: none;\n",
              "      border-radius: 50%;\n",
              "      cursor: pointer;\n",
              "      display: none;\n",
              "      fill: #1967D2;\n",
              "      height: 32px;\n",
              "      padding: 0 0 0 0;\n",
              "      width: 32px;\n",
              "    }\n",
              "\n",
              "    .colab-df-convert:hover {\n",
              "      background-color: #E2EBFA;\n",
              "      box-shadow: 0px 1px 2px rgba(60, 64, 67, 0.3), 0px 1px 3px 1px rgba(60, 64, 67, 0.15);\n",
              "      fill: #174EA6;\n",
              "    }\n",
              "\n",
              "    [theme=dark] .colab-df-convert {\n",
              "      background-color: #3B4455;\n",
              "      fill: #D2E3FC;\n",
              "    }\n",
              "\n",
              "    [theme=dark] .colab-df-convert:hover {\n",
              "      background-color: #434B5C;\n",
              "      box-shadow: 0px 1px 3px 1px rgba(0, 0, 0, 0.15);\n",
              "      filter: drop-shadow(0px 1px 2px rgba(0, 0, 0, 0.3));\n",
              "      fill: #FFFFFF;\n",
              "    }\n",
              "  </style>\n",
              "\n",
              "      <script>\n",
              "        const buttonEl =\n",
              "          document.querySelector('#df-49bd07f2-90ed-4be4-b9ce-58c6c542669a button.colab-df-convert');\n",
              "        buttonEl.style.display =\n",
              "          google.colab.kernel.accessAllowed ? 'block' : 'none';\n",
              "\n",
              "        async function convertToInteractive(key) {\n",
              "          const element = document.querySelector('#df-49bd07f2-90ed-4be4-b9ce-58c6c542669a');\n",
              "          const dataTable =\n",
              "            await google.colab.kernel.invokeFunction('convertToInteractive',\n",
              "                                                     [key], {});\n",
              "          if (!dataTable) return;\n",
              "\n",
              "          const docLinkHtml = 'Like what you see? Visit the ' +\n",
              "            '<a target=\"_blank\" href=https://colab.research.google.com/notebooks/data_table.ipynb>data table notebook</a>'\n",
              "            + ' to learn more about interactive tables.';\n",
              "          element.innerHTML = '';\n",
              "          dataTable['output_type'] = 'display_data';\n",
              "          await google.colab.output.renderOutput(dataTable, element);\n",
              "          const docLink = document.createElement('div');\n",
              "          docLink.innerHTML = docLinkHtml;\n",
              "          element.appendChild(docLink);\n",
              "        }\n",
              "      </script>\n",
              "    </div>\n",
              "  </div>\n",
              "  "
            ],
            "text/plain": [
              "              datetime  count\n",
              "0  2011-01-20 00:00:00      0\n",
              "1  2011-01-20 01:00:00      0\n",
              "2  2011-01-20 02:00:00      0\n",
              "3  2011-01-20 03:00:00      0\n",
              "4  2011-01-20 04:00:00      0"
            ]
          },
          "metadata": {},
          "execution_count": 12
        }
      ]
    },
    {
      "cell_type": "code",
      "source": [
        "import numpy as np"
      ],
      "metadata": {
        "id": "66Bn9Q9ec4tc"
      },
      "execution_count": 70,
      "outputs": []
    },
    {
      "cell_type": "code",
      "source": [
        "train.head()"
      ],
      "metadata": {
        "colab": {
          "base_uri": "https://localhost:8080/",
          "height": 250
        },
        "id": "GhVqZRpHdpoq",
        "outputId": "49529368-0aa5-430b-9f45-22c62baf4ec8"
      },
      "execution_count": 13,
      "outputs": [
        {
          "output_type": "execute_result",
          "data": {
            "text/html": [
              "\n",
              "  <div id=\"df-ccbbf773-eea3-4f4e-a6af-49fa97bd0a7f\">\n",
              "    <div class=\"colab-df-container\">\n",
              "      <div>\n",
              "<style scoped>\n",
              "    .dataframe tbody tr th:only-of-type {\n",
              "        vertical-align: middle;\n",
              "    }\n",
              "\n",
              "    .dataframe tbody tr th {\n",
              "        vertical-align: top;\n",
              "    }\n",
              "\n",
              "    .dataframe thead th {\n",
              "        text-align: right;\n",
              "    }\n",
              "</style>\n",
              "<table border=\"1\" class=\"dataframe\">\n",
              "  <thead>\n",
              "    <tr style=\"text-align: right;\">\n",
              "      <th></th>\n",
              "      <th>datetime</th>\n",
              "      <th>season</th>\n",
              "      <th>holiday</th>\n",
              "      <th>workingday</th>\n",
              "      <th>weather</th>\n",
              "      <th>temp</th>\n",
              "      <th>atemp</th>\n",
              "      <th>humidity</th>\n",
              "      <th>windspeed</th>\n",
              "      <th>casual</th>\n",
              "      <th>registered</th>\n",
              "      <th>count</th>\n",
              "    </tr>\n",
              "  </thead>\n",
              "  <tbody>\n",
              "    <tr>\n",
              "      <th>0</th>\n",
              "      <td>2011-01-01 00:00:00</td>\n",
              "      <td>1</td>\n",
              "      <td>0</td>\n",
              "      <td>0</td>\n",
              "      <td>1</td>\n",
              "      <td>9.84</td>\n",
              "      <td>14.395</td>\n",
              "      <td>81</td>\n",
              "      <td>0.0</td>\n",
              "      <td>3</td>\n",
              "      <td>13</td>\n",
              "      <td>16</td>\n",
              "    </tr>\n",
              "    <tr>\n",
              "      <th>1</th>\n",
              "      <td>2011-01-01 01:00:00</td>\n",
              "      <td>1</td>\n",
              "      <td>0</td>\n",
              "      <td>0</td>\n",
              "      <td>1</td>\n",
              "      <td>9.02</td>\n",
              "      <td>13.635</td>\n",
              "      <td>80</td>\n",
              "      <td>0.0</td>\n",
              "      <td>8</td>\n",
              "      <td>32</td>\n",
              "      <td>40</td>\n",
              "    </tr>\n",
              "    <tr>\n",
              "      <th>2</th>\n",
              "      <td>2011-01-01 02:00:00</td>\n",
              "      <td>1</td>\n",
              "      <td>0</td>\n",
              "      <td>0</td>\n",
              "      <td>1</td>\n",
              "      <td>9.02</td>\n",
              "      <td>13.635</td>\n",
              "      <td>80</td>\n",
              "      <td>0.0</td>\n",
              "      <td>5</td>\n",
              "      <td>27</td>\n",
              "      <td>32</td>\n",
              "    </tr>\n",
              "    <tr>\n",
              "      <th>3</th>\n",
              "      <td>2011-01-01 03:00:00</td>\n",
              "      <td>1</td>\n",
              "      <td>0</td>\n",
              "      <td>0</td>\n",
              "      <td>1</td>\n",
              "      <td>9.84</td>\n",
              "      <td>14.395</td>\n",
              "      <td>75</td>\n",
              "      <td>0.0</td>\n",
              "      <td>3</td>\n",
              "      <td>10</td>\n",
              "      <td>13</td>\n",
              "    </tr>\n",
              "    <tr>\n",
              "      <th>4</th>\n",
              "      <td>2011-01-01 04:00:00</td>\n",
              "      <td>1</td>\n",
              "      <td>0</td>\n",
              "      <td>0</td>\n",
              "      <td>1</td>\n",
              "      <td>9.84</td>\n",
              "      <td>14.395</td>\n",
              "      <td>75</td>\n",
              "      <td>0.0</td>\n",
              "      <td>0</td>\n",
              "      <td>1</td>\n",
              "      <td>1</td>\n",
              "    </tr>\n",
              "  </tbody>\n",
              "</table>\n",
              "</div>\n",
              "      <button class=\"colab-df-convert\" onclick=\"convertToInteractive('df-ccbbf773-eea3-4f4e-a6af-49fa97bd0a7f')\"\n",
              "              title=\"Convert this dataframe to an interactive table.\"\n",
              "              style=\"display:none;\">\n",
              "        \n",
              "  <svg xmlns=\"http://www.w3.org/2000/svg\" height=\"24px\"viewBox=\"0 0 24 24\"\n",
              "       width=\"24px\">\n",
              "    <path d=\"M0 0h24v24H0V0z\" fill=\"none\"/>\n",
              "    <path d=\"M18.56 5.44l.94 2.06.94-2.06 2.06-.94-2.06-.94-.94-2.06-.94 2.06-2.06.94zm-11 1L8.5 8.5l.94-2.06 2.06-.94-2.06-.94L8.5 2.5l-.94 2.06-2.06.94zm10 10l.94 2.06.94-2.06 2.06-.94-2.06-.94-.94-2.06-.94 2.06-2.06.94z\"/><path d=\"M17.41 7.96l-1.37-1.37c-.4-.4-.92-.59-1.43-.59-.52 0-1.04.2-1.43.59L10.3 9.45l-7.72 7.72c-.78.78-.78 2.05 0 2.83L4 21.41c.39.39.9.59 1.41.59.51 0 1.02-.2 1.41-.59l7.78-7.78 2.81-2.81c.8-.78.8-2.07 0-2.86zM5.41 20L4 18.59l7.72-7.72 1.47 1.35L5.41 20z\"/>\n",
              "  </svg>\n",
              "      </button>\n",
              "      \n",
              "  <style>\n",
              "    .colab-df-container {\n",
              "      display:flex;\n",
              "      flex-wrap:wrap;\n",
              "      gap: 12px;\n",
              "    }\n",
              "\n",
              "    .colab-df-convert {\n",
              "      background-color: #E8F0FE;\n",
              "      border: none;\n",
              "      border-radius: 50%;\n",
              "      cursor: pointer;\n",
              "      display: none;\n",
              "      fill: #1967D2;\n",
              "      height: 32px;\n",
              "      padding: 0 0 0 0;\n",
              "      width: 32px;\n",
              "    }\n",
              "\n",
              "    .colab-df-convert:hover {\n",
              "      background-color: #E2EBFA;\n",
              "      box-shadow: 0px 1px 2px rgba(60, 64, 67, 0.3), 0px 1px 3px 1px rgba(60, 64, 67, 0.15);\n",
              "      fill: #174EA6;\n",
              "    }\n",
              "\n",
              "    [theme=dark] .colab-df-convert {\n",
              "      background-color: #3B4455;\n",
              "      fill: #D2E3FC;\n",
              "    }\n",
              "\n",
              "    [theme=dark] .colab-df-convert:hover {\n",
              "      background-color: #434B5C;\n",
              "      box-shadow: 0px 1px 3px 1px rgba(0, 0, 0, 0.15);\n",
              "      filter: drop-shadow(0px 1px 2px rgba(0, 0, 0, 0.3));\n",
              "      fill: #FFFFFF;\n",
              "    }\n",
              "  </style>\n",
              "\n",
              "      <script>\n",
              "        const buttonEl =\n",
              "          document.querySelector('#df-ccbbf773-eea3-4f4e-a6af-49fa97bd0a7f button.colab-df-convert');\n",
              "        buttonEl.style.display =\n",
              "          google.colab.kernel.accessAllowed ? 'block' : 'none';\n",
              "\n",
              "        async function convertToInteractive(key) {\n",
              "          const element = document.querySelector('#df-ccbbf773-eea3-4f4e-a6af-49fa97bd0a7f');\n",
              "          const dataTable =\n",
              "            await google.colab.kernel.invokeFunction('convertToInteractive',\n",
              "                                                     [key], {});\n",
              "          if (!dataTable) return;\n",
              "\n",
              "          const docLinkHtml = 'Like what you see? Visit the ' +\n",
              "            '<a target=\"_blank\" href=https://colab.research.google.com/notebooks/data_table.ipynb>data table notebook</a>'\n",
              "            + ' to learn more about interactive tables.';\n",
              "          element.innerHTML = '';\n",
              "          dataTable['output_type'] = 'display_data';\n",
              "          await google.colab.output.renderOutput(dataTable, element);\n",
              "          const docLink = document.createElement('div');\n",
              "          docLink.innerHTML = docLinkHtml;\n",
              "          element.appendChild(docLink);\n",
              "        }\n",
              "      </script>\n",
              "    </div>\n",
              "  </div>\n",
              "  "
            ],
            "text/plain": [
              "              datetime  season  holiday  ...  casual  registered  count\n",
              "0  2011-01-01 00:00:00       1        0  ...       3          13     16\n",
              "1  2011-01-01 01:00:00       1        0  ...       8          32     40\n",
              "2  2011-01-01 02:00:00       1        0  ...       5          27     32\n",
              "3  2011-01-01 03:00:00       1        0  ...       3          10     13\n",
              "4  2011-01-01 04:00:00       1        0  ...       0           1      1\n",
              "\n",
              "[5 rows x 12 columns]"
            ]
          },
          "metadata": {},
          "execution_count": 13
        }
      ]
    },
    {
      "cell_type": "code",
      "source": [
        "predictor.fit_summary()"
      ],
      "metadata": {
        "colab": {
          "base_uri": "https://localhost:8080/"
        },
        "id": "hqBciErvaoRT",
        "outputId": "2f25ad85-3408-44c0-fe28-535bf5f3c31f"
      },
      "execution_count": 73,
      "outputs": [
        {
          "output_type": "stream",
          "name": "stdout",
          "text": [
            "*** Summary of fit() ***\n",
            "Estimated performance of each model:\n",
            "                     model  score_val  pred_time_val     fit_time  pred_time_val_marginal  fit_time_marginal  stack_level  can_infer  fit_order\n",
            "0      WeightedEnsemble_L3  -1.275424      27.712534  2905.363056                0.000583           0.362776            3       True         22\n",
            "1     ExtraTreesMSE_BAG_L2  -1.350878      18.489982  1641.687880                0.411485           4.538968            2       True         17\n",
            "2   RandomForestMSE_BAG_L2  -1.378284      18.465343  1657.300578                0.386846          20.151666            2       True         15\n",
            "3      WeightedEnsemble_L2  -1.580284      17.796350  1614.564681                0.000605           0.485872            2       True         12\n",
            "4     LightGBMLarge_BAG_L2  -1.704827      18.382631  1667.797233                0.304134          30.648322            2       True         21\n",
            "5          LightGBM_BAG_L2  -2.018158      18.259929  1649.988864                0.181433          12.839953            2       True         14\n",
            "6           XGBoost_BAG_L2  -2.213821      18.182611  1657.202859                0.104114          20.053948            2       True         19\n",
            "7     ExtraTreesMSE_BAG_L1  -2.381391       0.412435     3.517239                0.412435           3.517239            1       True          7\n",
            "8   NeuralNetFastAI_BAG_L2  -2.400986      18.390882  1744.940259                0.312386         107.791348            2       True         18\n",
            "9    NeuralNetMXNet_BAG_L2  -2.557786      20.522351  2598.041589                2.443854         960.892678            2       True         20\n",
            "10         CatBoost_BAG_L2  -2.601147      18.162501  1930.541426                0.084004         293.392514            2       True         16\n",
            "11  RandomForestMSE_BAG_L1  -2.749920       0.390452     8.333850                0.390452           8.333850            1       True          5\n",
            "12       LightGBMXT_BAG_L2  -2.941115      23.749132  1760.923351                5.670635         123.774440            2       True         13\n",
            "13  NeuralNetFastAI_BAG_L1  -2.980127       0.267737   106.186105                0.267737         106.186105            1       True          8\n",
            "14         CatBoost_BAG_L1  -3.094052       0.052187    80.572001                0.052187          80.572001            1       True          6\n",
            "15         LightGBM_BAG_L1  -3.096023       1.273686    27.263005                1.273686          27.263005            1       True          4\n",
            "16   KNeighborsDist_BAG_L1  -3.670507       0.105719     0.016913                0.105719           0.016913            1       True          2\n",
            "17       LightGBMXT_BAG_L1  -3.698283       7.422729   122.324764                7.422729         122.324764            1       True          3\n",
            "18   NeuralNetMXNet_BAG_L1  -3.823986       2.346629  1101.933107                2.346629        1101.933107            1       True         10\n",
            "19   KNeighborsUnif_BAG_L1  -3.867353       0.103203     0.014747                0.103203           0.014747            1       True          1\n",
            "20    LightGBMLarge_BAG_L1  -4.137593       5.524171   163.931826                5.524171         163.931826            1       True         11\n",
            "21          XGBoost_BAG_L1  -4.937990       0.179549    23.055355                0.179549          23.055355            1       True          9\n",
            "Number of models trained: 22\n",
            "Types of models trained:\n",
            "{'WeightedEnsembleModel', 'StackerEnsembleModel_XGBoost', 'StackerEnsembleModel_LGB', 'StackerEnsembleModel_XT', 'StackerEnsembleModel_CatBoost', 'StackerEnsembleModel_RF', 'StackerEnsembleModel_TabularNeuralNet', 'StackerEnsembleModel_KNN', 'StackerEnsembleModel_NNFastAiTabular'}\n",
            "Bagging used: True  (with 10 folds)\n",
            "Multi-layer stack-ensembling used: True  (with 3 levels)\n",
            "Feature Metadata (Processed):\n",
            "(raw dtype, special dtypes):\n",
            "('float', [])                : 3 | ['temp', 'atemp', 'windspeed']\n",
            "('int', [])                  : 5 | ['season', 'weather', 'humidity', 'casual', 'registered']\n",
            "('int', ['bool'])            : 2 | ['holiday', 'workingday']\n",
            "('int', ['datetime_as_int']) : 1 | ['datetime']\n",
            "Plot summary of models saved to file: AutogluonModels/ag-20220116_203905/SummaryOfModels.html\n",
            "*** End of fit() summary ***\n"
          ]
        },
        {
          "output_type": "execute_result",
          "data": {
            "text/plain": [
              "{'leaderboard':                      model  score_val  ...  can_infer  fit_order\n",
              " 0      WeightedEnsemble_L3  -1.275424  ...       True         22\n",
              " 1     ExtraTreesMSE_BAG_L2  -1.350878  ...       True         17\n",
              " 2   RandomForestMSE_BAG_L2  -1.378284  ...       True         15\n",
              " 3      WeightedEnsemble_L2  -1.580284  ...       True         12\n",
              " 4     LightGBMLarge_BAG_L2  -1.704827  ...       True         21\n",
              " 5          LightGBM_BAG_L2  -2.018158  ...       True         14\n",
              " 6           XGBoost_BAG_L2  -2.213821  ...       True         19\n",
              " 7     ExtraTreesMSE_BAG_L1  -2.381391  ...       True          7\n",
              " 8   NeuralNetFastAI_BAG_L2  -2.400986  ...       True         18\n",
              " 9    NeuralNetMXNet_BAG_L2  -2.557786  ...       True         20\n",
              " 10         CatBoost_BAG_L2  -2.601147  ...       True         16\n",
              " 11  RandomForestMSE_BAG_L1  -2.749920  ...       True          5\n",
              " 12       LightGBMXT_BAG_L2  -2.941115  ...       True         13\n",
              " 13  NeuralNetFastAI_BAG_L1  -2.980127  ...       True          8\n",
              " 14         CatBoost_BAG_L1  -3.094052  ...       True          6\n",
              " 15         LightGBM_BAG_L1  -3.096023  ...       True          4\n",
              " 16   KNeighborsDist_BAG_L1  -3.670507  ...       True          2\n",
              " 17       LightGBMXT_BAG_L1  -3.698283  ...       True          3\n",
              " 18   NeuralNetMXNet_BAG_L1  -3.823986  ...       True         10\n",
              " 19   KNeighborsUnif_BAG_L1  -3.867353  ...       True          1\n",
              " 20    LightGBMLarge_BAG_L1  -4.137593  ...       True         11\n",
              " 21          XGBoost_BAG_L1  -4.937990  ...       True          9\n",
              " \n",
              " [22 rows x 9 columns],\n",
              " 'max_stack_level': 3,\n",
              " 'model_best': 'WeightedEnsemble_L3',\n",
              " 'model_fit_times': {'CatBoost_BAG_L1': 80.57200074195862,\n",
              "  'CatBoost_BAG_L2': 293.3925139904022,\n",
              "  'ExtraTreesMSE_BAG_L1': 3.5172390937805176,\n",
              "  'ExtraTreesMSE_BAG_L2': 4.538967847824097,\n",
              "  'KNeighborsDist_BAG_L1': 0.01691293716430664,\n",
              "  'KNeighborsUnif_BAG_L1': 0.014747142791748047,\n",
              "  'LightGBMLarge_BAG_L1': 163.93182587623596,\n",
              "  'LightGBMLarge_BAG_L2': 30.648321628570557,\n",
              "  'LightGBMXT_BAG_L1': 122.32476377487183,\n",
              "  'LightGBMXT_BAG_L2': 123.77443957328796,\n",
              "  'LightGBM_BAG_L1': 27.263004541397095,\n",
              "  'LightGBM_BAG_L2': 12.83995270729065,\n",
              "  'NeuralNetFastAI_BAG_L1': 106.18610548973083,\n",
              "  'NeuralNetFastAI_BAG_L2': 107.79134750366211,\n",
              "  'NeuralNetMXNet_BAG_L1': 1101.93310713768,\n",
              "  'NeuralNetMXNet_BAG_L2': 960.8926777839661,\n",
              "  'RandomForestMSE_BAG_L1': 8.333849668502808,\n",
              "  'RandomForestMSE_BAG_L2': 20.151666164398193,\n",
              "  'WeightedEnsemble_L2': 0.4858717918395996,\n",
              "  'WeightedEnsemble_L3': 0.3627758026123047,\n",
              "  'XGBoost_BAG_L1': 23.055355310440063,\n",
              "  'XGBoost_BAG_L2': 20.053947687149048},\n",
              " 'model_hyperparams': {'CatBoost_BAG_L1': {'max_base_models': 25,\n",
              "   'max_base_models_per_type': 5,\n",
              "   'save_bag_folds': True,\n",
              "   'use_orig_features': True},\n",
              "  'CatBoost_BAG_L2': {'max_base_models': 25,\n",
              "   'max_base_models_per_type': 5,\n",
              "   'save_bag_folds': True,\n",
              "   'use_orig_features': True},\n",
              "  'ExtraTreesMSE_BAG_L1': {'max_base_models': 25,\n",
              "   'max_base_models_per_type': 5,\n",
              "   'save_bag_folds': True,\n",
              "   'use_child_oof': True,\n",
              "   'use_orig_features': True},\n",
              "  'ExtraTreesMSE_BAG_L2': {'max_base_models': 25,\n",
              "   'max_base_models_per_type': 5,\n",
              "   'save_bag_folds': True,\n",
              "   'use_child_oof': True,\n",
              "   'use_orig_features': True},\n",
              "  'KNeighborsDist_BAG_L1': {'max_base_models': 25,\n",
              "   'max_base_models_per_type': 5,\n",
              "   'save_bag_folds': True,\n",
              "   'use_child_oof': True,\n",
              "   'use_orig_features': True},\n",
              "  'KNeighborsUnif_BAG_L1': {'max_base_models': 25,\n",
              "   'max_base_models_per_type': 5,\n",
              "   'save_bag_folds': True,\n",
              "   'use_child_oof': True,\n",
              "   'use_orig_features': True},\n",
              "  'LightGBMLarge_BAG_L1': {'max_base_models': 25,\n",
              "   'max_base_models_per_type': 5,\n",
              "   'save_bag_folds': True,\n",
              "   'use_orig_features': True},\n",
              "  'LightGBMLarge_BAG_L2': {'max_base_models': 25,\n",
              "   'max_base_models_per_type': 5,\n",
              "   'save_bag_folds': True,\n",
              "   'use_orig_features': True},\n",
              "  'LightGBMXT_BAG_L1': {'max_base_models': 25,\n",
              "   'max_base_models_per_type': 5,\n",
              "   'save_bag_folds': True,\n",
              "   'use_orig_features': True},\n",
              "  'LightGBMXT_BAG_L2': {'max_base_models': 25,\n",
              "   'max_base_models_per_type': 5,\n",
              "   'save_bag_folds': True,\n",
              "   'use_orig_features': True},\n",
              "  'LightGBM_BAG_L1': {'max_base_models': 25,\n",
              "   'max_base_models_per_type': 5,\n",
              "   'save_bag_folds': True,\n",
              "   'use_orig_features': True},\n",
              "  'LightGBM_BAG_L2': {'max_base_models': 25,\n",
              "   'max_base_models_per_type': 5,\n",
              "   'save_bag_folds': True,\n",
              "   'use_orig_features': True},\n",
              "  'NeuralNetFastAI_BAG_L1': {'max_base_models': 25,\n",
              "   'max_base_models_per_type': 5,\n",
              "   'save_bag_folds': True,\n",
              "   'use_orig_features': True},\n",
              "  'NeuralNetFastAI_BAG_L2': {'max_base_models': 25,\n",
              "   'max_base_models_per_type': 5,\n",
              "   'save_bag_folds': True,\n",
              "   'use_orig_features': True},\n",
              "  'NeuralNetMXNet_BAG_L1': {'max_base_models': 25,\n",
              "   'max_base_models_per_type': 5,\n",
              "   'save_bag_folds': True,\n",
              "   'use_orig_features': True},\n",
              "  'NeuralNetMXNet_BAG_L2': {'max_base_models': 25,\n",
              "   'max_base_models_per_type': 5,\n",
              "   'save_bag_folds': True,\n",
              "   'use_orig_features': True},\n",
              "  'RandomForestMSE_BAG_L1': {'max_base_models': 25,\n",
              "   'max_base_models_per_type': 5,\n",
              "   'save_bag_folds': True,\n",
              "   'use_child_oof': True,\n",
              "   'use_orig_features': True},\n",
              "  'RandomForestMSE_BAG_L2': {'max_base_models': 25,\n",
              "   'max_base_models_per_type': 5,\n",
              "   'save_bag_folds': True,\n",
              "   'use_child_oof': True,\n",
              "   'use_orig_features': True},\n",
              "  'WeightedEnsemble_L2': {'max_base_models': 25,\n",
              "   'max_base_models_per_type': 5,\n",
              "   'save_bag_folds': True,\n",
              "   'use_orig_features': False},\n",
              "  'WeightedEnsemble_L3': {'max_base_models': 25,\n",
              "   'max_base_models_per_type': 5,\n",
              "   'save_bag_folds': True,\n",
              "   'use_orig_features': False},\n",
              "  'XGBoost_BAG_L1': {'max_base_models': 25,\n",
              "   'max_base_models_per_type': 5,\n",
              "   'save_bag_folds': True,\n",
              "   'use_orig_features': True},\n",
              "  'XGBoost_BAG_L2': {'max_base_models': 25,\n",
              "   'max_base_models_per_type': 5,\n",
              "   'save_bag_folds': True,\n",
              "   'use_orig_features': True}},\n",
              " 'model_paths': {'CatBoost_BAG_L1': 'AutogluonModels/ag-20220116_203905/models/CatBoost_BAG_L1/',\n",
              "  'CatBoost_BAG_L2': 'AutogluonModels/ag-20220116_203905/models/CatBoost_BAG_L2/',\n",
              "  'ExtraTreesMSE_BAG_L1': 'AutogluonModels/ag-20220116_203905/models/ExtraTreesMSE_BAG_L1/',\n",
              "  'ExtraTreesMSE_BAG_L2': 'AutogluonModels/ag-20220116_203905/models/ExtraTreesMSE_BAG_L2/',\n",
              "  'KNeighborsDist_BAG_L1': 'AutogluonModels/ag-20220116_203905/models/KNeighborsDist_BAG_L1/',\n",
              "  'KNeighborsUnif_BAG_L1': 'AutogluonModels/ag-20220116_203905/models/KNeighborsUnif_BAG_L1/',\n",
              "  'LightGBMLarge_BAG_L1': 'AutogluonModels/ag-20220116_203905/models/LightGBMLarge_BAG_L1/',\n",
              "  'LightGBMLarge_BAG_L2': 'AutogluonModels/ag-20220116_203905/models/LightGBMLarge_BAG_L2/',\n",
              "  'LightGBMXT_BAG_L1': 'AutogluonModels/ag-20220116_203905/models/LightGBMXT_BAG_L1/',\n",
              "  'LightGBMXT_BAG_L2': 'AutogluonModels/ag-20220116_203905/models/LightGBMXT_BAG_L2/',\n",
              "  'LightGBM_BAG_L1': 'AutogluonModels/ag-20220116_203905/models/LightGBM_BAG_L1/',\n",
              "  'LightGBM_BAG_L2': 'AutogluonModels/ag-20220116_203905/models/LightGBM_BAG_L2/',\n",
              "  'NeuralNetFastAI_BAG_L1': 'AutogluonModels/ag-20220116_203905/models/NeuralNetFastAI_BAG_L1/',\n",
              "  'NeuralNetFastAI_BAG_L2': 'AutogluonModels/ag-20220116_203905/models/NeuralNetFastAI_BAG_L2/',\n",
              "  'NeuralNetMXNet_BAG_L1': 'AutogluonModels/ag-20220116_203905/models/NeuralNetMXNet_BAG_L1/',\n",
              "  'NeuralNetMXNet_BAG_L2': 'AutogluonModels/ag-20220116_203905/models/NeuralNetMXNet_BAG_L2/',\n",
              "  'RandomForestMSE_BAG_L1': 'AutogluonModels/ag-20220116_203905/models/RandomForestMSE_BAG_L1/',\n",
              "  'RandomForestMSE_BAG_L2': 'AutogluonModels/ag-20220116_203905/models/RandomForestMSE_BAG_L2/',\n",
              "  'WeightedEnsemble_L2': 'AutogluonModels/ag-20220116_203905/models/WeightedEnsemble_L2/',\n",
              "  'WeightedEnsemble_L3': 'AutogluonModels/ag-20220116_203905/models/WeightedEnsemble_L3/',\n",
              "  'XGBoost_BAG_L1': 'AutogluonModels/ag-20220116_203905/models/XGBoost_BAG_L1/',\n",
              "  'XGBoost_BAG_L2': 'AutogluonModels/ag-20220116_203905/models/XGBoost_BAG_L2/'},\n",
              " 'model_performance': {'CatBoost_BAG_L1': -3.0940522484245876,\n",
              "  'CatBoost_BAG_L2': -2.6011470493624596,\n",
              "  'ExtraTreesMSE_BAG_L1': -2.3813910715215467,\n",
              "  'ExtraTreesMSE_BAG_L2': -1.3508781305570678,\n",
              "  'KNeighborsDist_BAG_L1': -3.6705067753337373,\n",
              "  'KNeighborsUnif_BAG_L1': -3.86735262779357,\n",
              "  'LightGBMLarge_BAG_L1': -4.13759330596427,\n",
              "  'LightGBMLarge_BAG_L2': -1.7048274831277612,\n",
              "  'LightGBMXT_BAG_L1': -3.6982828784577952,\n",
              "  'LightGBMXT_BAG_L2': -2.9411147206641113,\n",
              "  'LightGBM_BAG_L1': -3.0960227779730465,\n",
              "  'LightGBM_BAG_L2': -2.0181583461941397,\n",
              "  'NeuralNetFastAI_BAG_L1': -2.9801267535705978,\n",
              "  'NeuralNetFastAI_BAG_L2': -2.400985678843591,\n",
              "  'NeuralNetMXNet_BAG_L1': -3.823985745033909,\n",
              "  'NeuralNetMXNet_BAG_L2': -2.557786038026531,\n",
              "  'RandomForestMSE_BAG_L1': -2.7499198186229212,\n",
              "  'RandomForestMSE_BAG_L2': -1.3782838722032065,\n",
              "  'WeightedEnsemble_L2': -1.5802836767654593,\n",
              "  'WeightedEnsemble_L3': -1.2754243194601556,\n",
              "  'XGBoost_BAG_L1': -4.937989553972502,\n",
              "  'XGBoost_BAG_L2': -2.2138212594057096},\n",
              " 'model_pred_times': {'CatBoost_BAG_L1': 0.052187204360961914,\n",
              "  'CatBoost_BAG_L2': 0.08400440216064453,\n",
              "  'ExtraTreesMSE_BAG_L1': 0.41243505477905273,\n",
              "  'ExtraTreesMSE_BAG_L2': 0.4114854335784912,\n",
              "  'KNeighborsDist_BAG_L1': 0.10571908950805664,\n",
              "  'KNeighborsUnif_BAG_L1': 0.10320329666137695,\n",
              "  'LightGBMLarge_BAG_L1': 5.524170875549316,\n",
              "  'LightGBMLarge_BAG_L2': 0.30413389205932617,\n",
              "  'LightGBMXT_BAG_L1': 7.422729253768921,\n",
              "  'LightGBMXT_BAG_L2': 5.670635223388672,\n",
              "  'LightGBM_BAG_L1': 1.2736859321594238,\n",
              "  'LightGBM_BAG_L2': 0.18143272399902344,\n",
              "  'NeuralNetFastAI_BAG_L1': 0.26773691177368164,\n",
              "  'NeuralNetFastAI_BAG_L2': 0.31238579750061035,\n",
              "  'NeuralNetMXNet_BAG_L1': 2.3466289043426514,\n",
              "  'NeuralNetMXNet_BAG_L2': 2.4438538551330566,\n",
              "  'RandomForestMSE_BAG_L1': 0.39045166969299316,\n",
              "  'RandomForestMSE_BAG_L2': 0.38684630393981934,\n",
              "  'WeightedEnsemble_L2': 0.0006051063537597656,\n",
              "  'WeightedEnsemble_L3': 0.0005829334259033203,\n",
              "  'XGBoost_BAG_L1': 0.1795485019683838,\n",
              "  'XGBoost_BAG_L2': 0.10411405563354492},\n",
              " 'model_types': {'CatBoost_BAG_L1': 'StackerEnsembleModel_CatBoost',\n",
              "  'CatBoost_BAG_L2': 'StackerEnsembleModel_CatBoost',\n",
              "  'ExtraTreesMSE_BAG_L1': 'StackerEnsembleModel_XT',\n",
              "  'ExtraTreesMSE_BAG_L2': 'StackerEnsembleModel_XT',\n",
              "  'KNeighborsDist_BAG_L1': 'StackerEnsembleModel_KNN',\n",
              "  'KNeighborsUnif_BAG_L1': 'StackerEnsembleModel_KNN',\n",
              "  'LightGBMLarge_BAG_L1': 'StackerEnsembleModel_LGB',\n",
              "  'LightGBMLarge_BAG_L2': 'StackerEnsembleModel_LGB',\n",
              "  'LightGBMXT_BAG_L1': 'StackerEnsembleModel_LGB',\n",
              "  'LightGBMXT_BAG_L2': 'StackerEnsembleModel_LGB',\n",
              "  'LightGBM_BAG_L1': 'StackerEnsembleModel_LGB',\n",
              "  'LightGBM_BAG_L2': 'StackerEnsembleModel_LGB',\n",
              "  'NeuralNetFastAI_BAG_L1': 'StackerEnsembleModel_NNFastAiTabular',\n",
              "  'NeuralNetFastAI_BAG_L2': 'StackerEnsembleModel_NNFastAiTabular',\n",
              "  'NeuralNetMXNet_BAG_L1': 'StackerEnsembleModel_TabularNeuralNet',\n",
              "  'NeuralNetMXNet_BAG_L2': 'StackerEnsembleModel_TabularNeuralNet',\n",
              "  'RandomForestMSE_BAG_L1': 'StackerEnsembleModel_RF',\n",
              "  'RandomForestMSE_BAG_L2': 'StackerEnsembleModel_RF',\n",
              "  'WeightedEnsemble_L2': 'WeightedEnsembleModel',\n",
              "  'WeightedEnsemble_L3': 'WeightedEnsembleModel',\n",
              "  'XGBoost_BAG_L1': 'StackerEnsembleModel_XGBoost',\n",
              "  'XGBoost_BAG_L2': 'StackerEnsembleModel_XGBoost'},\n",
              " 'num_bag_folds': 10}"
            ]
          },
          "metadata": {},
          "execution_count": 73
        }
      ]
    },
    {
      "cell_type": "code",
      "source": [
        "predictor= TabularPredictor(label =\"count\").fit(train_data = train, verbosity = 2,presets='best_quality')"
      ],
      "metadata": {
        "colab": {
          "base_uri": "https://localhost:8080/"
        },
        "id": "lacnGWINWpgn",
        "outputId": "7e6bfb3d-41e8-42d4-8227-9ee8dc9850e1"
      },
      "execution_count": 72,
      "outputs": [
        {
          "output_type": "stream",
          "name": "stderr",
          "text": [
            "No path specified. Models will be saved in: \"AutogluonModels/ag-20220116_203905/\"\n",
            "Presets specified: ['best_quality']\n",
            "Beginning AutoGluon training ...\n",
            "AutoGluon will save models to \"AutogluonModels/ag-20220116_203905/\"\n",
            "AutoGluon Version:  0.3.1\n",
            "Train Data Rows:    10886\n",
            "Train Data Columns: 11\n",
            "Preprocessing data ...\n",
            "AutoGluon infers your prediction problem is: 'regression' (because dtype of label-column == int and many unique label-values observed).\n",
            "\tLabel info (max, min, mean, stddev): (977, 1, 191.57413, 181.14445)\n",
            "\tIf 'regression' is not the correct problem_type, please manually specify the problem_type argument in fit() (You may specify problem_type as one of: ['binary', 'multiclass', 'regression'])\n",
            "Using Feature Generators to preprocess the data ...\n",
            "Fitting AutoMLPipelineFeatureGenerator...\n",
            "\tAvailable Memory:                    9825.21 MB\n",
            "\tTrain Data (Original)  Memory Usage: 1.7 MB (0.0% of available memory)\n",
            "\tInferring data type of each feature based on column values. Set feature_metadata_in to manually specify special dtypes of the features.\n",
            "\tStage 1 Generators:\n",
            "\t\tFitting AsTypeFeatureGenerator...\n",
            "\t\t\tNote: Converting 2 features to boolean dtype as they only contain 2 unique values.\n",
            "\tStage 2 Generators:\n",
            "\t\tFitting FillNaFeatureGenerator...\n",
            "\tStage 3 Generators:\n",
            "\t\tFitting IdentityFeatureGenerator...\n",
            "\t\tFitting DatetimeFeatureGenerator...\n",
            "\tStage 4 Generators:\n",
            "\t\tFitting DropUniqueFeatureGenerator...\n",
            "\tTypes of features in original data (raw dtype, special dtypes):\n",
            "\t\t('float', [])                      : 3 | ['temp', 'atemp', 'windspeed']\n",
            "\t\t('int', [])                        : 7 | ['season', 'holiday', 'workingday', 'weather', 'humidity', ...]\n",
            "\t\t('object', ['datetime_as_object']) : 1 | ['datetime']\n",
            "\tTypes of features in processed data (raw dtype, special dtypes):\n",
            "\t\t('float', [])                : 3 | ['temp', 'atemp', 'windspeed']\n",
            "\t\t('int', [])                  : 5 | ['season', 'weather', 'humidity', 'casual', 'registered']\n",
            "\t\t('int', ['bool'])            : 2 | ['holiday', 'workingday']\n",
            "\t\t('int', ['datetime_as_int']) : 1 | ['datetime']\n",
            "\t0.1s = Fit runtime\n",
            "\t11 features in original data used to generate 11 features in processed data.\n",
            "\tTrain Data (Processed) Memory Usage: 0.81 MB (0.0% of available memory)\n",
            "Data preprocessing and feature engineering runtime = 0.16s ...\n",
            "AutoGluon will gauge predictive performance using evaluation metric: 'root_mean_squared_error'\n",
            "\tTo change this, specify the eval_metric argument of fit()\n",
            "AutoGluon will fit 2 stack levels (L1 to L2) ...\n",
            "Fitting 11 L1 models ...\n",
            "Fitting model: KNeighborsUnif_BAG_L1 ...\n",
            "\t-3.8674\t = Validation score   (root_mean_squared_error)\n",
            "\t0.01s\t = Training   runtime\n",
            "\t0.1s\t = Validation runtime\n",
            "Fitting model: KNeighborsDist_BAG_L1 ...\n",
            "\t-3.6705\t = Validation score   (root_mean_squared_error)\n",
            "\t0.02s\t = Training   runtime\n",
            "\t0.11s\t = Validation runtime\n",
            "Fitting model: LightGBMXT_BAG_L1 ...\n",
            "/usr/local/lib/python3.7/dist-packages/lightgbm/engine.py:239: UserWarning: 'verbose_eval' argument is deprecated and will be removed in a future release of LightGBM. Pass 'log_evaluation()' callback via 'callbacks' argument instead.\n",
            "  _log_warning(\"'verbose_eval' argument is deprecated and will be removed in a future release of LightGBM. \"\n"
          ]
        },
        {
          "output_type": "stream",
          "name": "stdout",
          "text": [
            "[1000]\ttrain_set's rmse: 3.81021\tvalid_set's rmse: 4.45826\n",
            "[2000]\ttrain_set's rmse: 3.00188\tvalid_set's rmse: 4.00347\n",
            "[3000]\ttrain_set's rmse: 2.57549\tvalid_set's rmse: 3.79608\n",
            "[4000]\ttrain_set's rmse: 2.27743\tvalid_set's rmse: 3.68307\n",
            "[5000]\ttrain_set's rmse: 2.05305\tvalid_set's rmse: 3.61236\n",
            "[6000]\ttrain_set's rmse: 1.87048\tvalid_set's rmse: 3.55501\n",
            "[7000]\ttrain_set's rmse: 1.72197\tvalid_set's rmse: 3.51712\n",
            "[8000]\ttrain_set's rmse: 1.59492\tvalid_set's rmse: 3.48937\n",
            "[9000]\ttrain_set's rmse: 1.48596\tvalid_set's rmse: 3.46443\n",
            "[10000]\ttrain_set's rmse: 1.39249\tvalid_set's rmse: 3.44008\n"
          ]
        },
        {
          "output_type": "stream",
          "name": "stderr",
          "text": [
            "/usr/local/lib/python3.7/dist-packages/lightgbm/engine.py:239: UserWarning: 'verbose_eval' argument is deprecated and will be removed in a future release of LightGBM. Pass 'log_evaluation()' callback via 'callbacks' argument instead.\n",
            "  _log_warning(\"'verbose_eval' argument is deprecated and will be removed in a future release of LightGBM. \"\n"
          ]
        },
        {
          "output_type": "stream",
          "name": "stdout",
          "text": [
            "[1000]\ttrain_set's rmse: 4.24075\tvalid_set's rmse: 5.53525\n",
            "[2000]\ttrain_set's rmse: 3.18891\tvalid_set's rmse: 4.68387\n",
            "[3000]\ttrain_set's rmse: 2.71965\tvalid_set's rmse: 4.43005\n",
            "[4000]\ttrain_set's rmse: 2.39864\tvalid_set's rmse: 4.26434\n",
            "[5000]\ttrain_set's rmse: 2.16259\tvalid_set's rmse: 4.16369\n",
            "[6000]\ttrain_set's rmse: 1.97398\tvalid_set's rmse: 4.09425\n",
            "[7000]\ttrain_set's rmse: 1.81746\tvalid_set's rmse: 4.03951\n",
            "[8000]\ttrain_set's rmse: 1.68692\tvalid_set's rmse: 3.99898\n",
            "[9000]\ttrain_set's rmse: 1.57016\tvalid_set's rmse: 3.96068\n",
            "[10000]\ttrain_set's rmse: 1.46793\tvalid_set's rmse: 3.9359\n"
          ]
        },
        {
          "output_type": "stream",
          "name": "stderr",
          "text": [
            "/usr/local/lib/python3.7/dist-packages/lightgbm/engine.py:239: UserWarning: 'verbose_eval' argument is deprecated and will be removed in a future release of LightGBM. Pass 'log_evaluation()' callback via 'callbacks' argument instead.\n",
            "  _log_warning(\"'verbose_eval' argument is deprecated and will be removed in a future release of LightGBM. \"\n"
          ]
        },
        {
          "output_type": "stream",
          "name": "stdout",
          "text": [
            "[1000]\ttrain_set's rmse: 4.07554\tvalid_set's rmse: 5.13386\n",
            "[2000]\ttrain_set's rmse: 3.15046\tvalid_set's rmse: 4.60472\n",
            "[3000]\ttrain_set's rmse: 2.6831\tvalid_set's rmse: 4.36115\n",
            "[4000]\ttrain_set's rmse: 2.36702\tvalid_set's rmse: 4.23357\n",
            "[5000]\ttrain_set's rmse: 2.12522\tvalid_set's rmse: 4.14519\n",
            "[6000]\ttrain_set's rmse: 1.93463\tvalid_set's rmse: 4.06913\n",
            "[7000]\ttrain_set's rmse: 1.78024\tvalid_set's rmse: 4.02963\n",
            "[8000]\ttrain_set's rmse: 1.6523\tvalid_set's rmse: 3.99146\n",
            "[9000]\ttrain_set's rmse: 1.53811\tvalid_set's rmse: 3.96651\n",
            "[10000]\ttrain_set's rmse: 1.4378\tvalid_set's rmse: 3.93954\n"
          ]
        },
        {
          "output_type": "stream",
          "name": "stderr",
          "text": [
            "/usr/local/lib/python3.7/dist-packages/lightgbm/engine.py:239: UserWarning: 'verbose_eval' argument is deprecated and will be removed in a future release of LightGBM. Pass 'log_evaluation()' callback via 'callbacks' argument instead.\n",
            "  _log_warning(\"'verbose_eval' argument is deprecated and will be removed in a future release of LightGBM. \"\n"
          ]
        },
        {
          "output_type": "stream",
          "name": "stdout",
          "text": [
            "[1000]\ttrain_set's rmse: 3.90445\tvalid_set's rmse: 5.71146\n",
            "[2000]\ttrain_set's rmse: 3.0128\tvalid_set's rmse: 5.07119\n",
            "[3000]\ttrain_set's rmse: 2.56036\tvalid_set's rmse: 4.80976\n",
            "[4000]\ttrain_set's rmse: 2.24963\tvalid_set's rmse: 4.65115\n",
            "[5000]\ttrain_set's rmse: 2.01789\tvalid_set's rmse: 4.55473\n",
            "[6000]\ttrain_set's rmse: 1.83795\tvalid_set's rmse: 4.49121\n",
            "[7000]\ttrain_set's rmse: 1.68689\tvalid_set's rmse: 4.44133\n",
            "[8000]\ttrain_set's rmse: 1.55812\tvalid_set's rmse: 4.39665\n",
            "[9000]\ttrain_set's rmse: 1.45057\tvalid_set's rmse: 4.36889\n",
            "[10000]\ttrain_set's rmse: 1.3585\tvalid_set's rmse: 4.34192\n"
          ]
        },
        {
          "output_type": "stream",
          "name": "stderr",
          "text": [
            "/usr/local/lib/python3.7/dist-packages/lightgbm/engine.py:239: UserWarning: 'verbose_eval' argument is deprecated and will be removed in a future release of LightGBM. Pass 'log_evaluation()' callback via 'callbacks' argument instead.\n",
            "  _log_warning(\"'verbose_eval' argument is deprecated and will be removed in a future release of LightGBM. \"\n"
          ]
        },
        {
          "output_type": "stream",
          "name": "stdout",
          "text": [
            "[1000]\ttrain_set's rmse: 3.79387\tvalid_set's rmse: 4.16408\n",
            "[2000]\ttrain_set's rmse: 2.9718\tvalid_set's rmse: 3.6992\n",
            "[3000]\ttrain_set's rmse: 2.54905\tvalid_set's rmse: 3.51888\n",
            "[4000]\ttrain_set's rmse: 2.26218\tvalid_set's rmse: 3.4266\n",
            "[5000]\ttrain_set's rmse: 2.03384\tvalid_set's rmse: 3.35388\n",
            "[6000]\ttrain_set's rmse: 1.85843\tvalid_set's rmse: 3.31955\n",
            "[7000]\ttrain_set's rmse: 1.71589\tvalid_set's rmse: 3.29353\n",
            "[8000]\ttrain_set's rmse: 1.59223\tvalid_set's rmse: 3.27782\n",
            "[9000]\ttrain_set's rmse: 1.48143\tvalid_set's rmse: 3.26781\n",
            "[10000]\ttrain_set's rmse: 1.38494\tvalid_set's rmse: 3.26056\n"
          ]
        },
        {
          "output_type": "stream",
          "name": "stderr",
          "text": [
            "/usr/local/lib/python3.7/dist-packages/lightgbm/engine.py:239: UserWarning: 'verbose_eval' argument is deprecated and will be removed in a future release of LightGBM. Pass 'log_evaluation()' callback via 'callbacks' argument instead.\n",
            "  _log_warning(\"'verbose_eval' argument is deprecated and will be removed in a future release of LightGBM. \"\n"
          ]
        },
        {
          "output_type": "stream",
          "name": "stdout",
          "text": [
            "[1000]\ttrain_set's rmse: 3.88282\tvalid_set's rmse: 5.1795\n",
            "[2000]\ttrain_set's rmse: 3.06424\tvalid_set's rmse: 4.54369\n",
            "[3000]\ttrain_set's rmse: 2.61735\tvalid_set's rmse: 4.2615\n",
            "[4000]\ttrain_set's rmse: 2.31505\tvalid_set's rmse: 4.08911\n",
            "[5000]\ttrain_set's rmse: 2.09186\tvalid_set's rmse: 3.99323\n",
            "[6000]\ttrain_set's rmse: 1.91182\tvalid_set's rmse: 3.944\n",
            "[7000]\ttrain_set's rmse: 1.76399\tvalid_set's rmse: 3.90751\n",
            "[8000]\ttrain_set's rmse: 1.63955\tvalid_set's rmse: 3.87854\n",
            "[9000]\ttrain_set's rmse: 1.52853\tvalid_set's rmse: 3.85052\n",
            "[10000]\ttrain_set's rmse: 1.43042\tvalid_set's rmse: 3.83347\n"
          ]
        },
        {
          "output_type": "stream",
          "name": "stderr",
          "text": [
            "/usr/local/lib/python3.7/dist-packages/lightgbm/engine.py:239: UserWarning: 'verbose_eval' argument is deprecated and will be removed in a future release of LightGBM. Pass 'log_evaluation()' callback via 'callbacks' argument instead.\n",
            "  _log_warning(\"'verbose_eval' argument is deprecated and will be removed in a future release of LightGBM. \"\n"
          ]
        },
        {
          "output_type": "stream",
          "name": "stdout",
          "text": [
            "[1000]\ttrain_set's rmse: 3.99577\tvalid_set's rmse: 4.77857\n",
            "[2000]\ttrain_set's rmse: 3.09812\tvalid_set's rmse: 4.1758\n",
            "[3000]\ttrain_set's rmse: 2.63443\tvalid_set's rmse: 3.95679\n",
            "[4000]\ttrain_set's rmse: 2.32518\tvalid_set's rmse: 3.84125\n",
            "[5000]\ttrain_set's rmse: 2.09146\tvalid_set's rmse: 3.78939\n",
            "[6000]\ttrain_set's rmse: 1.91683\tvalid_set's rmse: 3.74915\n",
            "[7000]\ttrain_set's rmse: 1.76487\tvalid_set's rmse: 3.73344\n",
            "[8000]\ttrain_set's rmse: 1.6352\tvalid_set's rmse: 3.73373\n",
            "[9000]\ttrain_set's rmse: 1.52314\tvalid_set's rmse: 3.7121\n",
            "[10000]\ttrain_set's rmse: 1.42703\tvalid_set's rmse: 3.71298\n"
          ]
        },
        {
          "output_type": "stream",
          "name": "stderr",
          "text": [
            "/usr/local/lib/python3.7/dist-packages/lightgbm/engine.py:239: UserWarning: 'verbose_eval' argument is deprecated and will be removed in a future release of LightGBM. Pass 'log_evaluation()' callback via 'callbacks' argument instead.\n",
            "  _log_warning(\"'verbose_eval' argument is deprecated and will be removed in a future release of LightGBM. \"\n"
          ]
        },
        {
          "output_type": "stream",
          "name": "stdout",
          "text": [
            "[1000]\ttrain_set's rmse: 3.89306\tvalid_set's rmse: 5.01599\n",
            "[2000]\ttrain_set's rmse: 2.99601\tvalid_set's rmse: 4.37975\n",
            "[3000]\ttrain_set's rmse: 2.54956\tvalid_set's rmse: 4.14702\n",
            "[4000]\ttrain_set's rmse: 2.25054\tvalid_set's rmse: 4.05135\n",
            "[5000]\ttrain_set's rmse: 2.02324\tvalid_set's rmse: 3.9619\n",
            "[6000]\ttrain_set's rmse: 1.84859\tvalid_set's rmse: 3.92701\n",
            "[7000]\ttrain_set's rmse: 1.70297\tvalid_set's rmse: 3.88864\n",
            "[8000]\ttrain_set's rmse: 1.58163\tvalid_set's rmse: 3.86369\n",
            "[9000]\ttrain_set's rmse: 1.47295\tvalid_set's rmse: 3.84563\n",
            "[10000]\ttrain_set's rmse: 1.37552\tvalid_set's rmse: 3.83929\n"
          ]
        },
        {
          "output_type": "stream",
          "name": "stderr",
          "text": [
            "/usr/local/lib/python3.7/dist-packages/lightgbm/engine.py:239: UserWarning: 'verbose_eval' argument is deprecated and will be removed in a future release of LightGBM. Pass 'log_evaluation()' callback via 'callbacks' argument instead.\n",
            "  _log_warning(\"'verbose_eval' argument is deprecated and will be removed in a future release of LightGBM. \"\n"
          ]
        },
        {
          "output_type": "stream",
          "name": "stdout",
          "text": [
            "[1000]\ttrain_set's rmse: 3.91649\tvalid_set's rmse: 4.8339\n",
            "[2000]\ttrain_set's rmse: 3.01977\tvalid_set's rmse: 4.15741\n",
            "[3000]\ttrain_set's rmse: 2.57861\tvalid_set's rmse: 3.89659\n",
            "[4000]\ttrain_set's rmse: 2.27467\tvalid_set's rmse: 3.74369\n",
            "[5000]\ttrain_set's rmse: 2.04427\tvalid_set's rmse: 3.63111\n",
            "[6000]\ttrain_set's rmse: 1.86392\tvalid_set's rmse: 3.56273\n",
            "[7000]\ttrain_set's rmse: 1.71599\tvalid_set's rmse: 3.5188\n",
            "[8000]\ttrain_set's rmse: 1.58731\tvalid_set's rmse: 3.4774\n",
            "[9000]\ttrain_set's rmse: 1.47758\tvalid_set's rmse: 3.44369\n",
            "[10000]\ttrain_set's rmse: 1.38239\tvalid_set's rmse: 3.42649\n"
          ]
        },
        {
          "output_type": "stream",
          "name": "stderr",
          "text": [
            "/usr/local/lib/python3.7/dist-packages/lightgbm/engine.py:239: UserWarning: 'verbose_eval' argument is deprecated and will be removed in a future release of LightGBM. Pass 'log_evaluation()' callback via 'callbacks' argument instead.\n",
            "  _log_warning(\"'verbose_eval' argument is deprecated and will be removed in a future release of LightGBM. \"\n"
          ]
        },
        {
          "output_type": "stream",
          "name": "stdout",
          "text": [
            "[1000]\ttrain_set's rmse: 3.97272\tvalid_set's rmse: 4.57348\n",
            "[2000]\ttrain_set's rmse: 3.11741\tvalid_set's rmse: 3.9432\n",
            "[3000]\ttrain_set's rmse: 2.66465\tvalid_set's rmse: 3.64224\n",
            "[4000]\ttrain_set's rmse: 2.35313\tvalid_set's rmse: 3.46433\n",
            "[5000]\ttrain_set's rmse: 2.12222\tvalid_set's rmse: 3.34858\n",
            "[6000]\ttrain_set's rmse: 1.93764\tvalid_set's rmse: 3.26953\n",
            "[7000]\ttrain_set's rmse: 1.78714\tvalid_set's rmse: 3.20213\n",
            "[8000]\ttrain_set's rmse: 1.65825\tvalid_set's rmse: 3.16074\n",
            "[9000]\ttrain_set's rmse: 1.5441\tvalid_set's rmse: 3.12295\n",
            "[10000]\ttrain_set's rmse: 1.44278\tvalid_set's rmse: 3.09092\n"
          ]
        },
        {
          "output_type": "stream",
          "name": "stderr",
          "text": [
            "\t-3.6983\t = Validation score   (root_mean_squared_error)\n",
            "\t122.32s\t = Training   runtime\n",
            "\t7.42s\t = Validation runtime\n",
            "Fitting model: LightGBM_BAG_L1 ...\n",
            "/usr/local/lib/python3.7/dist-packages/lightgbm/engine.py:239: UserWarning: 'verbose_eval' argument is deprecated and will be removed in a future release of LightGBM. Pass 'log_evaluation()' callback via 'callbacks' argument instead.\n",
            "  _log_warning(\"'verbose_eval' argument is deprecated and will be removed in a future release of LightGBM. \"\n"
          ]
        },
        {
          "output_type": "stream",
          "name": "stdout",
          "text": [
            "[1000]\ttrain_set's rmse: 1.13366\tvalid_set's rmse: 2.70675\n"
          ]
        },
        {
          "output_type": "stream",
          "name": "stderr",
          "text": [
            "/usr/local/lib/python3.7/dist-packages/lightgbm/engine.py:239: UserWarning: 'verbose_eval' argument is deprecated and will be removed in a future release of LightGBM. Pass 'log_evaluation()' callback via 'callbacks' argument instead.\n",
            "  _log_warning(\"'verbose_eval' argument is deprecated and will be removed in a future release of LightGBM. \"\n",
            "/usr/local/lib/python3.7/dist-packages/lightgbm/engine.py:239: UserWarning: 'verbose_eval' argument is deprecated and will be removed in a future release of LightGBM. Pass 'log_evaluation()' callback via 'callbacks' argument instead.\n",
            "  _log_warning(\"'verbose_eval' argument is deprecated and will be removed in a future release of LightGBM. \"\n",
            "/usr/local/lib/python3.7/dist-packages/lightgbm/engine.py:239: UserWarning: 'verbose_eval' argument is deprecated and will be removed in a future release of LightGBM. Pass 'log_evaluation()' callback via 'callbacks' argument instead.\n",
            "  _log_warning(\"'verbose_eval' argument is deprecated and will be removed in a future release of LightGBM. \"\n",
            "/usr/local/lib/python3.7/dist-packages/lightgbm/engine.py:239: UserWarning: 'verbose_eval' argument is deprecated and will be removed in a future release of LightGBM. Pass 'log_evaluation()' callback via 'callbacks' argument instead.\n",
            "  _log_warning(\"'verbose_eval' argument is deprecated and will be removed in a future release of LightGBM. \"\n",
            "/usr/local/lib/python3.7/dist-packages/lightgbm/engine.py:239: UserWarning: 'verbose_eval' argument is deprecated and will be removed in a future release of LightGBM. Pass 'log_evaluation()' callback via 'callbacks' argument instead.\n",
            "  _log_warning(\"'verbose_eval' argument is deprecated and will be removed in a future release of LightGBM. \"\n"
          ]
        },
        {
          "output_type": "stream",
          "name": "stdout",
          "text": [
            "[1000]\ttrain_set's rmse: 1.09904\tvalid_set's rmse: 3.56535\n",
            "[2000]\ttrain_set's rmse: 0.701408\tvalid_set's rmse: 3.51389\n",
            "[3000]\ttrain_set's rmse: 0.510153\tvalid_set's rmse: 3.48911\n",
            "[4000]\ttrain_set's rmse: 0.392257\tvalid_set's rmse: 3.48472\n",
            "[5000]\ttrain_set's rmse: 0.315532\tvalid_set's rmse: 3.47634\n",
            "[6000]\ttrain_set's rmse: 0.258849\tvalid_set's rmse: 3.46942\n",
            "[7000]\ttrain_set's rmse: 0.216709\tvalid_set's rmse: 3.46451\n",
            "[8000]\ttrain_set's rmse: 0.183002\tvalid_set's rmse: 3.46276\n",
            "[9000]\ttrain_set's rmse: 0.153653\tvalid_set's rmse: 3.46034\n",
            "[10000]\ttrain_set's rmse: 0.130523\tvalid_set's rmse: 3.45529\n"
          ]
        },
        {
          "output_type": "stream",
          "name": "stderr",
          "text": [
            "/usr/local/lib/python3.7/dist-packages/lightgbm/engine.py:239: UserWarning: 'verbose_eval' argument is deprecated and will be removed in a future release of LightGBM. Pass 'log_evaluation()' callback via 'callbacks' argument instead.\n",
            "  _log_warning(\"'verbose_eval' argument is deprecated and will be removed in a future release of LightGBM. \"\n",
            "/usr/local/lib/python3.7/dist-packages/lightgbm/engine.py:239: UserWarning: 'verbose_eval' argument is deprecated and will be removed in a future release of LightGBM. Pass 'log_evaluation()' callback via 'callbacks' argument instead.\n",
            "  _log_warning(\"'verbose_eval' argument is deprecated and will be removed in a future release of LightGBM. \"\n",
            "/usr/local/lib/python3.7/dist-packages/lightgbm/engine.py:239: UserWarning: 'verbose_eval' argument is deprecated and will be removed in a future release of LightGBM. Pass 'log_evaluation()' callback via 'callbacks' argument instead.\n",
            "  _log_warning(\"'verbose_eval' argument is deprecated and will be removed in a future release of LightGBM. \"\n"
          ]
        },
        {
          "output_type": "stream",
          "name": "stdout",
          "text": [
            "[1000]\ttrain_set's rmse: 1.15667\tvalid_set's rmse: 2.44063\n"
          ]
        },
        {
          "output_type": "stream",
          "name": "stderr",
          "text": [
            "/usr/local/lib/python3.7/dist-packages/lightgbm/engine.py:239: UserWarning: 'verbose_eval' argument is deprecated and will be removed in a future release of LightGBM. Pass 'log_evaluation()' callback via 'callbacks' argument instead.\n",
            "  _log_warning(\"'verbose_eval' argument is deprecated and will be removed in a future release of LightGBM. \"\n"
          ]
        },
        {
          "output_type": "stream",
          "name": "stdout",
          "text": [
            "[1000]\ttrain_set's rmse: 1.1813\tvalid_set's rmse: 2.47803\n",
            "[2000]\ttrain_set's rmse: 0.772656\tvalid_set's rmse: 2.35518\n",
            "[3000]\ttrain_set's rmse: 0.548053\tvalid_set's rmse: 2.33727\n",
            "[4000]\ttrain_set's rmse: 0.415909\tvalid_set's rmse: 2.33007\n",
            "[5000]\ttrain_set's rmse: 0.330345\tvalid_set's rmse: 2.32992\n"
          ]
        },
        {
          "output_type": "stream",
          "name": "stderr",
          "text": [
            "\t-3.096\t = Validation score   (root_mean_squared_error)\n",
            "\t27.26s\t = Training   runtime\n",
            "\t1.27s\t = Validation runtime\n",
            "Fitting model: RandomForestMSE_BAG_L1 ...\n",
            "\t-2.7499\t = Validation score   (root_mean_squared_error)\n",
            "\t8.33s\t = Training   runtime\n",
            "\t0.39s\t = Validation runtime\n",
            "Fitting model: CatBoost_BAG_L1 ...\n",
            "\t-3.0941\t = Validation score   (root_mean_squared_error)\n",
            "\t80.57s\t = Training   runtime\n",
            "\t0.05s\t = Validation runtime\n",
            "Fitting model: ExtraTreesMSE_BAG_L1 ...\n",
            "\t-2.3814\t = Validation score   (root_mean_squared_error)\n",
            "\t3.52s\t = Training   runtime\n",
            "\t0.41s\t = Validation runtime\n",
            "Fitting model: NeuralNetFastAI_BAG_L1 ...\n",
            "\t-2.9801\t = Validation score   (root_mean_squared_error)\n",
            "\t106.19s\t = Training   runtime\n",
            "\t0.27s\t = Validation runtime\n",
            "Fitting model: XGBoost_BAG_L1 ...\n",
            "\t-4.938\t = Validation score   (root_mean_squared_error)\n",
            "\t23.06s\t = Training   runtime\n",
            "\t0.18s\t = Validation runtime\n",
            "Fitting model: NeuralNetMXNet_BAG_L1 ...\n",
            "\t-3.824\t = Validation score   (root_mean_squared_error)\n",
            "\t1101.93s\t = Training   runtime\n",
            "\t2.35s\t = Validation runtime\n",
            "Fitting model: LightGBMLarge_BAG_L1 ...\n",
            "/usr/local/lib/python3.7/dist-packages/lightgbm/engine.py:239: UserWarning: 'verbose_eval' argument is deprecated and will be removed in a future release of LightGBM. Pass 'log_evaluation()' callback via 'callbacks' argument instead.\n",
            "  _log_warning(\"'verbose_eval' argument is deprecated and will be removed in a future release of LightGBM. \"\n"
          ]
        },
        {
          "output_type": "stream",
          "name": "stdout",
          "text": [
            "[1000]\ttrain_set's rmse: 0.402428\tvalid_set's rmse: 4.13675\n",
            "[2000]\ttrain_set's rmse: 0.141146\tvalid_set's rmse: 4.12141\n",
            "[3000]\ttrain_set's rmse: 0.0606962\tvalid_set's rmse: 4.1208\n"
          ]
        },
        {
          "output_type": "stream",
          "name": "stderr",
          "text": [
            "/usr/local/lib/python3.7/dist-packages/lightgbm/engine.py:239: UserWarning: 'verbose_eval' argument is deprecated and will be removed in a future release of LightGBM. Pass 'log_evaluation()' callback via 'callbacks' argument instead.\n",
            "  _log_warning(\"'verbose_eval' argument is deprecated and will be removed in a future release of LightGBM. \"\n"
          ]
        },
        {
          "output_type": "stream",
          "name": "stdout",
          "text": [
            "[1000]\ttrain_set's rmse: 0.414902\tvalid_set's rmse: 4.07654\n",
            "[2000]\ttrain_set's rmse: 0.142337\tvalid_set's rmse: 4.05677\n",
            "[3000]\ttrain_set's rmse: 0.0592196\tvalid_set's rmse: 4.05403\n",
            "[4000]\ttrain_set's rmse: 0.0265437\tvalid_set's rmse: 4.05263\n",
            "[5000]\ttrain_set's rmse: 0.0132405\tvalid_set's rmse: 4.05211\n",
            "[6000]\ttrain_set's rmse: 0.00665664\tvalid_set's rmse: 4.05202\n",
            "[7000]\ttrain_set's rmse: 0.00342804\tvalid_set's rmse: 4.05194\n",
            "[8000]\ttrain_set's rmse: 0.00187154\tvalid_set's rmse: 4.05192\n",
            "[9000]\ttrain_set's rmse: 0.00099981\tvalid_set's rmse: 4.05191\n",
            "[10000]\ttrain_set's rmse: 0.000543774\tvalid_set's rmse: 4.0519\n"
          ]
        },
        {
          "output_type": "stream",
          "name": "stderr",
          "text": [
            "/usr/local/lib/python3.7/dist-packages/lightgbm/engine.py:239: UserWarning: 'verbose_eval' argument is deprecated and will be removed in a future release of LightGBM. Pass 'log_evaluation()' callback via 'callbacks' argument instead.\n",
            "  _log_warning(\"'verbose_eval' argument is deprecated and will be removed in a future release of LightGBM. \"\n"
          ]
        },
        {
          "output_type": "stream",
          "name": "stdout",
          "text": [
            "[1000]\ttrain_set's rmse: 0.411101\tvalid_set's rmse: 4.74863\n"
          ]
        },
        {
          "output_type": "stream",
          "name": "stderr",
          "text": [
            "/usr/local/lib/python3.7/dist-packages/lightgbm/engine.py:239: UserWarning: 'verbose_eval' argument is deprecated and will be removed in a future release of LightGBM. Pass 'log_evaluation()' callback via 'callbacks' argument instead.\n",
            "  _log_warning(\"'verbose_eval' argument is deprecated and will be removed in a future release of LightGBM. \"\n"
          ]
        },
        {
          "output_type": "stream",
          "name": "stdout",
          "text": [
            "[1000]\ttrain_set's rmse: 0.3903\tvalid_set's rmse: 4.71551\n",
            "[2000]\ttrain_set's rmse: 0.137069\tvalid_set's rmse: 4.7095\n",
            "[3000]\ttrain_set's rmse: 0.0554818\tvalid_set's rmse: 4.70835\n"
          ]
        },
        {
          "output_type": "stream",
          "name": "stderr",
          "text": [
            "/usr/local/lib/python3.7/dist-packages/lightgbm/engine.py:239: UserWarning: 'verbose_eval' argument is deprecated and will be removed in a future release of LightGBM. Pass 'log_evaluation()' callback via 'callbacks' argument instead.\n",
            "  _log_warning(\"'verbose_eval' argument is deprecated and will be removed in a future release of LightGBM. \"\n"
          ]
        },
        {
          "output_type": "stream",
          "name": "stdout",
          "text": [
            "[1000]\ttrain_set's rmse: 0.404049\tvalid_set's rmse: 3.90989\n",
            "[2000]\ttrain_set's rmse: 0.135945\tvalid_set's rmse: 3.89503\n",
            "[3000]\ttrain_set's rmse: 0.055644\tvalid_set's rmse: 3.89105\n",
            "[4000]\ttrain_set's rmse: 0.0247147\tvalid_set's rmse: 3.88953\n",
            "[5000]\ttrain_set's rmse: 0.0133611\tvalid_set's rmse: 3.88943\n",
            "[6000]\ttrain_set's rmse: 0.00902486\tvalid_set's rmse: 3.88936\n",
            "[7000]\ttrain_set's rmse: 0.00765732\tvalid_set's rmse: 3.88933\n",
            "[8000]\ttrain_set's rmse: 0.00728203\tvalid_set's rmse: 3.8893\n",
            "[9000]\ttrain_set's rmse: 0.00718073\tvalid_set's rmse: 3.8893\n",
            "[10000]\ttrain_set's rmse: 0.00715353\tvalid_set's rmse: 3.8893\n"
          ]
        },
        {
          "output_type": "stream",
          "name": "stderr",
          "text": [
            "/usr/local/lib/python3.7/dist-packages/lightgbm/engine.py:239: UserWarning: 'verbose_eval' argument is deprecated and will be removed in a future release of LightGBM. Pass 'log_evaluation()' callback via 'callbacks' argument instead.\n",
            "  _log_warning(\"'verbose_eval' argument is deprecated and will be removed in a future release of LightGBM. \"\n"
          ]
        },
        {
          "output_type": "stream",
          "name": "stdout",
          "text": [
            "[1000]\ttrain_set's rmse: 0.395931\tvalid_set's rmse: 4.40914\n",
            "[2000]\ttrain_set's rmse: 0.135009\tvalid_set's rmse: 4.38671\n",
            "[3000]\ttrain_set's rmse: 0.0561617\tvalid_set's rmse: 4.38425\n",
            "[4000]\ttrain_set's rmse: 0.0266129\tvalid_set's rmse: 4.38398\n"
          ]
        },
        {
          "output_type": "stream",
          "name": "stderr",
          "text": [
            "/usr/local/lib/python3.7/dist-packages/lightgbm/engine.py:239: UserWarning: 'verbose_eval' argument is deprecated and will be removed in a future release of LightGBM. Pass 'log_evaluation()' callback via 'callbacks' argument instead.\n",
            "  _log_warning(\"'verbose_eval' argument is deprecated and will be removed in a future release of LightGBM. \"\n"
          ]
        },
        {
          "output_type": "stream",
          "name": "stdout",
          "text": [
            "[1000]\ttrain_set's rmse: 0.426378\tvalid_set's rmse: 4.23149\n",
            "[2000]\ttrain_set's rmse: 0.148852\tvalid_set's rmse: 4.2162\n",
            "[3000]\ttrain_set's rmse: 0.0617572\tvalid_set's rmse: 4.21124\n",
            "[4000]\ttrain_set's rmse: 0.02908\tvalid_set's rmse: 4.21023\n",
            "[5000]\ttrain_set's rmse: 0.0150022\tvalid_set's rmse: 4.21039\n"
          ]
        },
        {
          "output_type": "stream",
          "name": "stderr",
          "text": [
            "/usr/local/lib/python3.7/dist-packages/lightgbm/engine.py:239: UserWarning: 'verbose_eval' argument is deprecated and will be removed in a future release of LightGBM. Pass 'log_evaluation()' callback via 'callbacks' argument instead.\n",
            "  _log_warning(\"'verbose_eval' argument is deprecated and will be removed in a future release of LightGBM. \"\n"
          ]
        },
        {
          "output_type": "stream",
          "name": "stdout",
          "text": [
            "[1000]\ttrain_set's rmse: 0.424079\tvalid_set's rmse: 3.88048\n",
            "[2000]\ttrain_set's rmse: 0.144899\tvalid_set's rmse: 3.85635\n",
            "[3000]\ttrain_set's rmse: 0.0622484\tvalid_set's rmse: 3.85375\n"
          ]
        },
        {
          "output_type": "stream",
          "name": "stderr",
          "text": [
            "/usr/local/lib/python3.7/dist-packages/lightgbm/engine.py:239: UserWarning: 'verbose_eval' argument is deprecated and will be removed in a future release of LightGBM. Pass 'log_evaluation()' callback via 'callbacks' argument instead.\n",
            "  _log_warning(\"'verbose_eval' argument is deprecated and will be removed in a future release of LightGBM. \"\n"
          ]
        },
        {
          "output_type": "stream",
          "name": "stdout",
          "text": [
            "[1000]\ttrain_set's rmse: 0.414424\tvalid_set's rmse: 3.68332\n",
            "[2000]\ttrain_set's rmse: 0.142956\tvalid_set's rmse: 3.66235\n",
            "[3000]\ttrain_set's rmse: 0.0601627\tvalid_set's rmse: 3.65737\n"
          ]
        },
        {
          "output_type": "stream",
          "name": "stderr",
          "text": [
            "/usr/local/lib/python3.7/dist-packages/lightgbm/engine.py:239: UserWarning: 'verbose_eval' argument is deprecated and will be removed in a future release of LightGBM. Pass 'log_evaluation()' callback via 'callbacks' argument instead.\n",
            "  _log_warning(\"'verbose_eval' argument is deprecated and will be removed in a future release of LightGBM. \"\n"
          ]
        },
        {
          "output_type": "stream",
          "name": "stdout",
          "text": [
            "[1000]\ttrain_set's rmse: 0.414451\tvalid_set's rmse: 3.60926\n",
            "[2000]\ttrain_set's rmse: 0.142759\tvalid_set's rmse: 3.59677\n",
            "[3000]\ttrain_set's rmse: 0.0588287\tvalid_set's rmse: 3.59384\n",
            "[4000]\ttrain_set's rmse: 0.0274684\tvalid_set's rmse: 3.59251\n",
            "[5000]\ttrain_set's rmse: 0.0151439\tvalid_set's rmse: 3.59215\n",
            "[6000]\ttrain_set's rmse: 0.00979479\tvalid_set's rmse: 3.59204\n",
            "[7000]\ttrain_set's rmse: 0.00793995\tvalid_set's rmse: 3.59194\n",
            "[8000]\ttrain_set's rmse: 0.00738737\tvalid_set's rmse: 3.59191\n",
            "[9000]\ttrain_set's rmse: 0.00721841\tvalid_set's rmse: 3.59189\n",
            "[10000]\ttrain_set's rmse: 0.00716584\tvalid_set's rmse: 3.59188\n"
          ]
        },
        {
          "output_type": "stream",
          "name": "stderr",
          "text": [
            "\t-4.1376\t = Validation score   (root_mean_squared_error)\n",
            "\t163.93s\t = Training   runtime\n",
            "\t5.52s\t = Validation runtime\n",
            "Fitting model: WeightedEnsemble_L2 ...\n",
            "\t-1.5803\t = Validation score   (root_mean_squared_error)\n",
            "\t0.49s\t = Training   runtime\n",
            "\t0.0s\t = Validation runtime\n",
            "Fitting 9 L2 models ...\n",
            "Fitting model: LightGBMXT_BAG_L2 ...\n",
            "/usr/local/lib/python3.7/dist-packages/lightgbm/engine.py:239: UserWarning: 'verbose_eval' argument is deprecated and will be removed in a future release of LightGBM. Pass 'log_evaluation()' callback via 'callbacks' argument instead.\n",
            "  _log_warning(\"'verbose_eval' argument is deprecated and will be removed in a future release of LightGBM. \"\n"
          ]
        },
        {
          "output_type": "stream",
          "name": "stdout",
          "text": [
            "[1000]\ttrain_set's rmse: 2.38665\tvalid_set's rmse: 3.60674\n",
            "[2000]\ttrain_set's rmse: 1.89183\tvalid_set's rmse: 3.51722\n",
            "[3000]\ttrain_set's rmse: 1.59722\tvalid_set's rmse: 3.47009\n"
          ]
        },
        {
          "output_type": "stream",
          "name": "stderr",
          "text": [
            "/usr/local/lib/python3.7/dist-packages/lightgbm/engine.py:239: UserWarning: 'verbose_eval' argument is deprecated and will be removed in a future release of LightGBM. Pass 'log_evaluation()' callback via 'callbacks' argument instead.\n",
            "  _log_warning(\"'verbose_eval' argument is deprecated and will be removed in a future release of LightGBM. \"\n"
          ]
        },
        {
          "output_type": "stream",
          "name": "stdout",
          "text": [
            "[1000]\ttrain_set's rmse: 2.42089\tvalid_set's rmse: 3.69098\n",
            "[2000]\ttrain_set's rmse: 1.91912\tvalid_set's rmse: 3.55019\n",
            "[3000]\ttrain_set's rmse: 1.61584\tvalid_set's rmse: 3.47099\n",
            "[4000]\ttrain_set's rmse: 1.41072\tvalid_set's rmse: 3.46126\n",
            "[5000]\ttrain_set's rmse: 1.25428\tvalid_set's rmse: 3.44407\n"
          ]
        },
        {
          "output_type": "stream",
          "name": "stderr",
          "text": [
            "/usr/local/lib/python3.7/dist-packages/lightgbm/engine.py:239: UserWarning: 'verbose_eval' argument is deprecated and will be removed in a future release of LightGBM. Pass 'log_evaluation()' callback via 'callbacks' argument instead.\n",
            "  _log_warning(\"'verbose_eval' argument is deprecated and will be removed in a future release of LightGBM. \"\n"
          ]
        },
        {
          "output_type": "stream",
          "name": "stdout",
          "text": [
            "[1000]\ttrain_set's rmse: 2.55421\tvalid_set's rmse: 3.035\n",
            "[2000]\ttrain_set's rmse: 2.01178\tvalid_set's rmse: 2.88986\n",
            "[3000]\ttrain_set's rmse: 1.68246\tvalid_set's rmse: 2.8168\n",
            "[4000]\ttrain_set's rmse: 1.46825\tvalid_set's rmse: 2.78882\n",
            "[5000]\ttrain_set's rmse: 1.29651\tvalid_set's rmse: 2.78073\n",
            "[6000]\ttrain_set's rmse: 1.16238\tvalid_set's rmse: 2.77158\n",
            "[7000]\ttrain_set's rmse: 1.05179\tvalid_set's rmse: 2.76838\n"
          ]
        },
        {
          "output_type": "stream",
          "name": "stderr",
          "text": [
            "/usr/local/lib/python3.7/dist-packages/lightgbm/engine.py:239: UserWarning: 'verbose_eval' argument is deprecated and will be removed in a future release of LightGBM. Pass 'log_evaluation()' callback via 'callbacks' argument instead.\n",
            "  _log_warning(\"'verbose_eval' argument is deprecated and will be removed in a future release of LightGBM. \"\n"
          ]
        },
        {
          "output_type": "stream",
          "name": "stdout",
          "text": [
            "[1000]\ttrain_set's rmse: 2.56945\tvalid_set's rmse: 3.2311\n",
            "[2000]\ttrain_set's rmse: 2.00644\tvalid_set's rmse: 2.98961\n",
            "[3000]\ttrain_set's rmse: 1.69606\tvalid_set's rmse: 2.88683\n",
            "[4000]\ttrain_set's rmse: 1.48712\tvalid_set's rmse: 2.83994\n",
            "[5000]\ttrain_set's rmse: 1.32139\tvalid_set's rmse: 2.78264\n",
            "[6000]\ttrain_set's rmse: 1.18873\tvalid_set's rmse: 2.75508\n",
            "[7000]\ttrain_set's rmse: 1.07705\tvalid_set's rmse: 2.72854\n",
            "[8000]\ttrain_set's rmse: 0.982356\tvalid_set's rmse: 2.70938\n",
            "[9000]\ttrain_set's rmse: 0.900296\tvalid_set's rmse: 2.69157\n",
            "[10000]\ttrain_set's rmse: 0.828962\tvalid_set's rmse: 2.67761\n"
          ]
        },
        {
          "output_type": "stream",
          "name": "stderr",
          "text": [
            "/usr/local/lib/python3.7/dist-packages/lightgbm/engine.py:239: UserWarning: 'verbose_eval' argument is deprecated and will be removed in a future release of LightGBM. Pass 'log_evaluation()' callback via 'callbacks' argument instead.\n",
            "  _log_warning(\"'verbose_eval' argument is deprecated and will be removed in a future release of LightGBM. \"\n"
          ]
        },
        {
          "output_type": "stream",
          "name": "stdout",
          "text": [
            "[1000]\ttrain_set's rmse: 2.42828\tvalid_set's rmse: 3.30059\n",
            "[2000]\ttrain_set's rmse: 1.96177\tvalid_set's rmse: 3.02205\n",
            "[3000]\ttrain_set's rmse: 1.66356\tvalid_set's rmse: 2.89049\n",
            "[4000]\ttrain_set's rmse: 1.45568\tvalid_set's rmse: 2.82236\n",
            "[5000]\ttrain_set's rmse: 1.29566\tvalid_set's rmse: 2.79615\n",
            "[6000]\ttrain_set's rmse: 1.16547\tvalid_set's rmse: 2.78668\n",
            "[7000]\ttrain_set's rmse: 1.05994\tvalid_set's rmse: 2.77887\n",
            "[8000]\ttrain_set's rmse: 0.968415\tvalid_set's rmse: 2.78954\n"
          ]
        },
        {
          "output_type": "stream",
          "name": "stderr",
          "text": [
            "/usr/local/lib/python3.7/dist-packages/lightgbm/engine.py:239: UserWarning: 'verbose_eval' argument is deprecated and will be removed in a future release of LightGBM. Pass 'log_evaluation()' callback via 'callbacks' argument instead.\n",
            "  _log_warning(\"'verbose_eval' argument is deprecated and will be removed in a future release of LightGBM. \"\n"
          ]
        },
        {
          "output_type": "stream",
          "name": "stdout",
          "text": [
            "[1000]\ttrain_set's rmse: 2.53884\tvalid_set's rmse: 3.36707\n",
            "[2000]\ttrain_set's rmse: 1.97621\tvalid_set's rmse: 3.12459\n",
            "[3000]\ttrain_set's rmse: 1.65691\tvalid_set's rmse: 3.04098\n",
            "[4000]\ttrain_set's rmse: 1.43233\tvalid_set's rmse: 2.98873\n",
            "[5000]\ttrain_set's rmse: 1.26393\tvalid_set's rmse: 2.97232\n"
          ]
        },
        {
          "output_type": "stream",
          "name": "stderr",
          "text": [
            "/usr/local/lib/python3.7/dist-packages/lightgbm/engine.py:239: UserWarning: 'verbose_eval' argument is deprecated and will be removed in a future release of LightGBM. Pass 'log_evaluation()' callback via 'callbacks' argument instead.\n",
            "  _log_warning(\"'verbose_eval' argument is deprecated and will be removed in a future release of LightGBM. \"\n"
          ]
        },
        {
          "output_type": "stream",
          "name": "stdout",
          "text": [
            "[1000]\ttrain_set's rmse: 2.67668\tvalid_set's rmse: 3.43358\n",
            "[2000]\ttrain_set's rmse: 2.01637\tvalid_set's rmse: 3.24279\n",
            "[3000]\ttrain_set's rmse: 1.66525\tvalid_set's rmse: 3.14145\n",
            "[4000]\ttrain_set's rmse: 1.44017\tvalid_set's rmse: 3.10205\n",
            "[5000]\ttrain_set's rmse: 1.27364\tvalid_set's rmse: 3.08817\n",
            "[6000]\ttrain_set's rmse: 1.1409\tvalid_set's rmse: 3.07966\n",
            "[7000]\ttrain_set's rmse: 1.03246\tvalid_set's rmse: 3.08127\n",
            "[8000]\ttrain_set's rmse: 0.943643\tvalid_set's rmse: 3.06928\n",
            "[9000]\ttrain_set's rmse: 0.863518\tvalid_set's rmse: 3.06405\n",
            "[10000]\ttrain_set's rmse: 0.796248\tvalid_set's rmse: 3.05744\n"
          ]
        },
        {
          "output_type": "stream",
          "name": "stderr",
          "text": [
            "/usr/local/lib/python3.7/dist-packages/lightgbm/engine.py:239: UserWarning: 'verbose_eval' argument is deprecated and will be removed in a future release of LightGBM. Pass 'log_evaluation()' callback via 'callbacks' argument instead.\n",
            "  _log_warning(\"'verbose_eval' argument is deprecated and will be removed in a future release of LightGBM. \"\n"
          ]
        },
        {
          "output_type": "stream",
          "name": "stdout",
          "text": [
            "[1000]\ttrain_set's rmse: 2.65199\tvalid_set's rmse: 3.08017\n",
            "[2000]\ttrain_set's rmse: 2.0423\tvalid_set's rmse: 2.87327\n",
            "[3000]\ttrain_set's rmse: 1.70479\tvalid_set's rmse: 2.78963\n",
            "[4000]\ttrain_set's rmse: 1.46483\tvalid_set's rmse: 2.72426\n",
            "[5000]\ttrain_set's rmse: 1.29658\tvalid_set's rmse: 2.68579\n",
            "[6000]\ttrain_set's rmse: 1.16781\tvalid_set's rmse: 2.66825\n",
            "[7000]\ttrain_set's rmse: 1.0584\tvalid_set's rmse: 2.65772\n",
            "[8000]\ttrain_set's rmse: 0.963435\tvalid_set's rmse: 2.64027\n",
            "[9000]\ttrain_set's rmse: 0.886606\tvalid_set's rmse: 2.63912\n",
            "[10000]\ttrain_set's rmse: 0.81699\tvalid_set's rmse: 2.6355\n"
          ]
        },
        {
          "output_type": "stream",
          "name": "stderr",
          "text": [
            "/usr/local/lib/python3.7/dist-packages/lightgbm/engine.py:239: UserWarning: 'verbose_eval' argument is deprecated and will be removed in a future release of LightGBM. Pass 'log_evaluation()' callback via 'callbacks' argument instead.\n",
            "  _log_warning(\"'verbose_eval' argument is deprecated and will be removed in a future release of LightGBM. \"\n"
          ]
        },
        {
          "output_type": "stream",
          "name": "stdout",
          "text": [
            "[1000]\ttrain_set's rmse: 2.67241\tvalid_set's rmse: 3.10137\n",
            "[2000]\ttrain_set's rmse: 2.11983\tvalid_set's rmse: 2.90877\n",
            "[3000]\ttrain_set's rmse: 1.78646\tvalid_set's rmse: 2.80268\n",
            "[4000]\ttrain_set's rmse: 1.552\tvalid_set's rmse: 2.74268\n",
            "[5000]\ttrain_set's rmse: 1.37141\tvalid_set's rmse: 2.6904\n",
            "[6000]\ttrain_set's rmse: 1.23499\tvalid_set's rmse: 2.65793\n",
            "[7000]\ttrain_set's rmse: 1.11532\tvalid_set's rmse: 2.63147\n",
            "[8000]\ttrain_set's rmse: 1.01837\tvalid_set's rmse: 2.60706\n",
            "[9000]\ttrain_set's rmse: 0.930566\tvalid_set's rmse: 2.58136\n",
            "[10000]\ttrain_set's rmse: 0.856756\tvalid_set's rmse: 2.57065\n"
          ]
        },
        {
          "output_type": "stream",
          "name": "stderr",
          "text": [
            "/usr/local/lib/python3.7/dist-packages/lightgbm/engine.py:239: UserWarning: 'verbose_eval' argument is deprecated and will be removed in a future release of LightGBM. Pass 'log_evaluation()' callback via 'callbacks' argument instead.\n",
            "  _log_warning(\"'verbose_eval' argument is deprecated and will be removed in a future release of LightGBM. \"\n"
          ]
        },
        {
          "output_type": "stream",
          "name": "stdout",
          "text": [
            "[1000]\ttrain_set's rmse: 2.58044\tvalid_set's rmse: 3.51945\n",
            "[2000]\ttrain_set's rmse: 2.02648\tvalid_set's rmse: 3.3583\n",
            "[3000]\ttrain_set's rmse: 1.69887\tvalid_set's rmse: 3.23927\n",
            "[4000]\ttrain_set's rmse: 1.47574\tvalid_set's rmse: 3.13058\n",
            "[5000]\ttrain_set's rmse: 1.30579\tvalid_set's rmse: 3.05768\n",
            "[6000]\ttrain_set's rmse: 1.16775\tvalid_set's rmse: 3.00912\n",
            "[7000]\ttrain_set's rmse: 1.06189\tvalid_set's rmse: 2.97533\n",
            "[8000]\ttrain_set's rmse: 0.964469\tvalid_set's rmse: 2.94265\n",
            "[9000]\ttrain_set's rmse: 0.882811\tvalid_set's rmse: 2.91846\n",
            "[10000]\ttrain_set's rmse: 0.813462\tvalid_set's rmse: 2.90617\n"
          ]
        },
        {
          "output_type": "stream",
          "name": "stderr",
          "text": [
            "\t-2.9411\t = Validation score   (root_mean_squared_error)\n",
            "\t123.77s\t = Training   runtime\n",
            "\t5.67s\t = Validation runtime\n",
            "Fitting model: LightGBM_BAG_L2 ...\n",
            "/usr/local/lib/python3.7/dist-packages/lightgbm/engine.py:239: UserWarning: 'verbose_eval' argument is deprecated and will be removed in a future release of LightGBM. Pass 'log_evaluation()' callback via 'callbacks' argument instead.\n",
            "  _log_warning(\"'verbose_eval' argument is deprecated and will be removed in a future release of LightGBM. \"\n",
            "/usr/local/lib/python3.7/dist-packages/lightgbm/engine.py:239: UserWarning: 'verbose_eval' argument is deprecated and will be removed in a future release of LightGBM. Pass 'log_evaluation()' callback via 'callbacks' argument instead.\n",
            "  _log_warning(\"'verbose_eval' argument is deprecated and will be removed in a future release of LightGBM. \"\n",
            "/usr/local/lib/python3.7/dist-packages/lightgbm/engine.py:239: UserWarning: 'verbose_eval' argument is deprecated and will be removed in a future release of LightGBM. Pass 'log_evaluation()' callback via 'callbacks' argument instead.\n",
            "  _log_warning(\"'verbose_eval' argument is deprecated and will be removed in a future release of LightGBM. \"\n",
            "/usr/local/lib/python3.7/dist-packages/lightgbm/engine.py:239: UserWarning: 'verbose_eval' argument is deprecated and will be removed in a future release of LightGBM. Pass 'log_evaluation()' callback via 'callbacks' argument instead.\n",
            "  _log_warning(\"'verbose_eval' argument is deprecated and will be removed in a future release of LightGBM. \"\n",
            "/usr/local/lib/python3.7/dist-packages/lightgbm/engine.py:239: UserWarning: 'verbose_eval' argument is deprecated and will be removed in a future release of LightGBM. Pass 'log_evaluation()' callback via 'callbacks' argument instead.\n",
            "  _log_warning(\"'verbose_eval' argument is deprecated and will be removed in a future release of LightGBM. \"\n",
            "/usr/local/lib/python3.7/dist-packages/lightgbm/engine.py:239: UserWarning: 'verbose_eval' argument is deprecated and will be removed in a future release of LightGBM. Pass 'log_evaluation()' callback via 'callbacks' argument instead.\n",
            "  _log_warning(\"'verbose_eval' argument is deprecated and will be removed in a future release of LightGBM. \"\n",
            "/usr/local/lib/python3.7/dist-packages/lightgbm/engine.py:239: UserWarning: 'verbose_eval' argument is deprecated and will be removed in a future release of LightGBM. Pass 'log_evaluation()' callback via 'callbacks' argument instead.\n",
            "  _log_warning(\"'verbose_eval' argument is deprecated and will be removed in a future release of LightGBM. \"\n",
            "/usr/local/lib/python3.7/dist-packages/lightgbm/engine.py:239: UserWarning: 'verbose_eval' argument is deprecated and will be removed in a future release of LightGBM. Pass 'log_evaluation()' callback via 'callbacks' argument instead.\n",
            "  _log_warning(\"'verbose_eval' argument is deprecated and will be removed in a future release of LightGBM. \"\n",
            "/usr/local/lib/python3.7/dist-packages/lightgbm/engine.py:239: UserWarning: 'verbose_eval' argument is deprecated and will be removed in a future release of LightGBM. Pass 'log_evaluation()' callback via 'callbacks' argument instead.\n",
            "  _log_warning(\"'verbose_eval' argument is deprecated and will be removed in a future release of LightGBM. \"\n",
            "/usr/local/lib/python3.7/dist-packages/lightgbm/engine.py:239: UserWarning: 'verbose_eval' argument is deprecated and will be removed in a future release of LightGBM. Pass 'log_evaluation()' callback via 'callbacks' argument instead.\n",
            "  _log_warning(\"'verbose_eval' argument is deprecated and will be removed in a future release of LightGBM. \"\n",
            "\t-2.0182\t = Validation score   (root_mean_squared_error)\n",
            "\t12.84s\t = Training   runtime\n",
            "\t0.18s\t = Validation runtime\n",
            "Fitting model: RandomForestMSE_BAG_L2 ...\n",
            "\t-1.3783\t = Validation score   (root_mean_squared_error)\n",
            "\t20.15s\t = Training   runtime\n",
            "\t0.39s\t = Validation runtime\n",
            "Fitting model: CatBoost_BAG_L2 ...\n",
            "\t-2.6011\t = Validation score   (root_mean_squared_error)\n",
            "\t293.39s\t = Training   runtime\n",
            "\t0.08s\t = Validation runtime\n",
            "Fitting model: ExtraTreesMSE_BAG_L2 ...\n",
            "\t-1.3509\t = Validation score   (root_mean_squared_error)\n",
            "\t4.54s\t = Training   runtime\n",
            "\t0.41s\t = Validation runtime\n",
            "Fitting model: NeuralNetFastAI_BAG_L2 ...\n",
            "\t-2.401\t = Validation score   (root_mean_squared_error)\n",
            "\t107.79s\t = Training   runtime\n",
            "\t0.31s\t = Validation runtime\n",
            "Fitting model: XGBoost_BAG_L2 ...\n",
            "\t-2.2138\t = Validation score   (root_mean_squared_error)\n",
            "\t20.05s\t = Training   runtime\n",
            "\t0.1s\t = Validation runtime\n",
            "Fitting model: NeuralNetMXNet_BAG_L2 ...\n",
            "\t-2.5578\t = Validation score   (root_mean_squared_error)\n",
            "\t960.89s\t = Training   runtime\n",
            "\t2.44s\t = Validation runtime\n",
            "Fitting model: LightGBMLarge_BAG_L2 ...\n",
            "/usr/local/lib/python3.7/dist-packages/lightgbm/engine.py:239: UserWarning: 'verbose_eval' argument is deprecated and will be removed in a future release of LightGBM. Pass 'log_evaluation()' callback via 'callbacks' argument instead.\n",
            "  _log_warning(\"'verbose_eval' argument is deprecated and will be removed in a future release of LightGBM. \"\n",
            "/usr/local/lib/python3.7/dist-packages/lightgbm/engine.py:239: UserWarning: 'verbose_eval' argument is deprecated and will be removed in a future release of LightGBM. Pass 'log_evaluation()' callback via 'callbacks' argument instead.\n",
            "  _log_warning(\"'verbose_eval' argument is deprecated and will be removed in a future release of LightGBM. \"\n",
            "/usr/local/lib/python3.7/dist-packages/lightgbm/engine.py:239: UserWarning: 'verbose_eval' argument is deprecated and will be removed in a future release of LightGBM. Pass 'log_evaluation()' callback via 'callbacks' argument instead.\n",
            "  _log_warning(\"'verbose_eval' argument is deprecated and will be removed in a future release of LightGBM. \"\n",
            "/usr/local/lib/python3.7/dist-packages/lightgbm/engine.py:239: UserWarning: 'verbose_eval' argument is deprecated and will be removed in a future release of LightGBM. Pass 'log_evaluation()' callback via 'callbacks' argument instead.\n",
            "  _log_warning(\"'verbose_eval' argument is deprecated and will be removed in a future release of LightGBM. \"\n",
            "/usr/local/lib/python3.7/dist-packages/lightgbm/engine.py:239: UserWarning: 'verbose_eval' argument is deprecated and will be removed in a future release of LightGBM. Pass 'log_evaluation()' callback via 'callbacks' argument instead.\n",
            "  _log_warning(\"'verbose_eval' argument is deprecated and will be removed in a future release of LightGBM. \"\n",
            "/usr/local/lib/python3.7/dist-packages/lightgbm/engine.py:239: UserWarning: 'verbose_eval' argument is deprecated and will be removed in a future release of LightGBM. Pass 'log_evaluation()' callback via 'callbacks' argument instead.\n",
            "  _log_warning(\"'verbose_eval' argument is deprecated and will be removed in a future release of LightGBM. \"\n",
            "/usr/local/lib/python3.7/dist-packages/lightgbm/engine.py:239: UserWarning: 'verbose_eval' argument is deprecated and will be removed in a future release of LightGBM. Pass 'log_evaluation()' callback via 'callbacks' argument instead.\n",
            "  _log_warning(\"'verbose_eval' argument is deprecated and will be removed in a future release of LightGBM. \"\n",
            "/usr/local/lib/python3.7/dist-packages/lightgbm/engine.py:239: UserWarning: 'verbose_eval' argument is deprecated and will be removed in a future release of LightGBM. Pass 'log_evaluation()' callback via 'callbacks' argument instead.\n",
            "  _log_warning(\"'verbose_eval' argument is deprecated and will be removed in a future release of LightGBM. \"\n",
            "/usr/local/lib/python3.7/dist-packages/lightgbm/engine.py:239: UserWarning: 'verbose_eval' argument is deprecated and will be removed in a future release of LightGBM. Pass 'log_evaluation()' callback via 'callbacks' argument instead.\n",
            "  _log_warning(\"'verbose_eval' argument is deprecated and will be removed in a future release of LightGBM. \"\n",
            "/usr/local/lib/python3.7/dist-packages/lightgbm/engine.py:239: UserWarning: 'verbose_eval' argument is deprecated and will be removed in a future release of LightGBM. Pass 'log_evaluation()' callback via 'callbacks' argument instead.\n",
            "  _log_warning(\"'verbose_eval' argument is deprecated and will be removed in a future release of LightGBM. \"\n",
            "\t-1.7048\t = Validation score   (root_mean_squared_error)\n",
            "\t30.65s\t = Training   runtime\n",
            "\t0.3s\t = Validation runtime\n",
            "Fitting model: WeightedEnsemble_L3 ...\n",
            "\t-1.2754\t = Validation score   (root_mean_squared_error)\n",
            "\t0.36s\t = Training   runtime\n",
            "\t0.0s\t = Validation runtime\n",
            "AutoGluon training complete, total runtime = 3307.65s ...\n",
            "TabularPredictor saved. To load, use: predictor = TabularPredictor.load(\"AutogluonModels/ag-20220116_203905/\")\n"
          ]
        }
      ]
    },
    {
      "cell_type": "code",
      "source": [
        "predictions=predictor.predict(train)\n",
        "#predictions.head()\n",
        "predictions"
      ],
      "metadata": {
        "colab": {
          "base_uri": "https://localhost:8080/"
        },
        "id": "68wczIbFg9Qs",
        "outputId": "62a3ef64-2d6e-4e8d-c20a-51db9eb63d94"
      },
      "execution_count": 74,
      "outputs": [
        {
          "output_type": "execute_result",
          "data": {
            "text/plain": [
              "0         16.139292\n",
              "1         40.044376\n",
              "2         32.110439\n",
              "3         13.100709\n",
              "4          1.117791\n",
              "            ...    \n",
              "10881    336.079987\n",
              "10882    241.280334\n",
              "10883    167.783768\n",
              "10884    128.983307\n",
              "10885     87.968483\n",
              "Name: count, Length: 10886, dtype: float32"
            ]
          },
          "metadata": {},
          "execution_count": 74
        }
      ]
    },
    {
      "cell_type": "code",
      "source": [
        "predictions.describe()"
      ],
      "metadata": {
        "colab": {
          "base_uri": "https://localhost:8080/"
        },
        "id": "_mTLWfR9jdwL",
        "outputId": "deab86dc-4c87-41a7-a6d6-6d1b3dff4e42"
      },
      "execution_count": 75,
      "outputs": [
        {
          "output_type": "execute_result",
          "data": {
            "text/plain": [
              "count    10886.000000\n",
              "mean       191.599625\n",
              "std        181.179855\n",
              "min          1.048507\n",
              "25%         42.111102\n",
              "50%        144.931992\n",
              "75%        283.783043\n",
              "max        965.030090\n",
              "Name: count, dtype: float64"
            ]
          },
          "metadata": {},
          "execution_count": 75
        }
      ]
    },
    {
      "cell_type": "code",
      "source": [
        "submission[\"count\"] = predictions\n",
        "submission.to_csv(\"submission.csv\", index=False)"
      ],
      "metadata": {
        "id": "KwYjYgDJjPdR"
      },
      "execution_count": 77,
      "outputs": []
    },
    {
      "cell_type": "code",
      "source": [
        "!kaggle competitions submit -c bike-sharing-demand -f submission.csv -m \"first raw submission\""
      ],
      "metadata": {
        "colab": {
          "base_uri": "https://localhost:8080/"
        },
        "id": "2Ox8uvY714RY",
        "outputId": "32f7bcfc-6e35-4ad9-ee2b-d8e511d915f4"
      },
      "execution_count": 78,
      "outputs": [
        {
          "output_type": "stream",
          "name": "stdout",
          "text": [
            "Warning: Looks like you're using an outdated API Version, please consider updating (server 1.5.12 / client 1.5.4)\n",
            "100% 188k/188k [00:02<00:00, 64.8kB/s]\n",
            "Successfully submitted to Bike Sharing Demand"
          ]
        }
      ]
    },
    {
      "cell_type": "code",
      "source": [
        "!kaggle competitions submissions -c bike-sharing-demand | tail -n +1 | head -n 6"
      ],
      "metadata": {
        "colab": {
          "base_uri": "https://localhost:8080/"
        },
        "id": "JmFxbgTG2A7p",
        "outputId": "883db9eb-8ac0-424b-9691-fc6b1206aec2"
      },
      "execution_count": 79,
      "outputs": [
        {
          "output_type": "stream",
          "name": "stdout",
          "text": [
            "Warning: Looks like you're using an outdated API Version, please consider updating (server 1.5.12 / client 1.5.4)\n",
            "fileName        date                 description           status    publicScore  privateScore  \n",
            "--------------  -------------------  --------------------  --------  -----------  ------------  \n",
            "submission.csv  2022-01-16 21:42:39  first raw submission  complete  1.97196      1.97196       \n"
          ]
        }
      ]
    },
    {
      "cell_type": "code",
      "source": [
        "train.head()"
      ],
      "metadata": {
        "colab": {
          "base_uri": "https://localhost:8080/",
          "height": 250
        },
        "id": "LiYSKdqG3O-7",
        "outputId": "f42c8046-3fb8-4fcb-eb00-3691044e3eeb"
      },
      "execution_count": 14,
      "outputs": [
        {
          "output_type": "execute_result",
          "data": {
            "text/html": [
              "\n",
              "  <div id=\"df-38147b0d-5604-4973-bfa4-3500ac20650a\">\n",
              "    <div class=\"colab-df-container\">\n",
              "      <div>\n",
              "<style scoped>\n",
              "    .dataframe tbody tr th:only-of-type {\n",
              "        vertical-align: middle;\n",
              "    }\n",
              "\n",
              "    .dataframe tbody tr th {\n",
              "        vertical-align: top;\n",
              "    }\n",
              "\n",
              "    .dataframe thead th {\n",
              "        text-align: right;\n",
              "    }\n",
              "</style>\n",
              "<table border=\"1\" class=\"dataframe\">\n",
              "  <thead>\n",
              "    <tr style=\"text-align: right;\">\n",
              "      <th></th>\n",
              "      <th>datetime</th>\n",
              "      <th>season</th>\n",
              "      <th>holiday</th>\n",
              "      <th>workingday</th>\n",
              "      <th>weather</th>\n",
              "      <th>temp</th>\n",
              "      <th>atemp</th>\n",
              "      <th>humidity</th>\n",
              "      <th>windspeed</th>\n",
              "      <th>casual</th>\n",
              "      <th>registered</th>\n",
              "      <th>count</th>\n",
              "    </tr>\n",
              "  </thead>\n",
              "  <tbody>\n",
              "    <tr>\n",
              "      <th>0</th>\n",
              "      <td>2011-01-01 00:00:00</td>\n",
              "      <td>1</td>\n",
              "      <td>0</td>\n",
              "      <td>0</td>\n",
              "      <td>1</td>\n",
              "      <td>9.84</td>\n",
              "      <td>14.395</td>\n",
              "      <td>81</td>\n",
              "      <td>0.0</td>\n",
              "      <td>3</td>\n",
              "      <td>13</td>\n",
              "      <td>16</td>\n",
              "    </tr>\n",
              "    <tr>\n",
              "      <th>1</th>\n",
              "      <td>2011-01-01 01:00:00</td>\n",
              "      <td>1</td>\n",
              "      <td>0</td>\n",
              "      <td>0</td>\n",
              "      <td>1</td>\n",
              "      <td>9.02</td>\n",
              "      <td>13.635</td>\n",
              "      <td>80</td>\n",
              "      <td>0.0</td>\n",
              "      <td>8</td>\n",
              "      <td>32</td>\n",
              "      <td>40</td>\n",
              "    </tr>\n",
              "    <tr>\n",
              "      <th>2</th>\n",
              "      <td>2011-01-01 02:00:00</td>\n",
              "      <td>1</td>\n",
              "      <td>0</td>\n",
              "      <td>0</td>\n",
              "      <td>1</td>\n",
              "      <td>9.02</td>\n",
              "      <td>13.635</td>\n",
              "      <td>80</td>\n",
              "      <td>0.0</td>\n",
              "      <td>5</td>\n",
              "      <td>27</td>\n",
              "      <td>32</td>\n",
              "    </tr>\n",
              "    <tr>\n",
              "      <th>3</th>\n",
              "      <td>2011-01-01 03:00:00</td>\n",
              "      <td>1</td>\n",
              "      <td>0</td>\n",
              "      <td>0</td>\n",
              "      <td>1</td>\n",
              "      <td>9.84</td>\n",
              "      <td>14.395</td>\n",
              "      <td>75</td>\n",
              "      <td>0.0</td>\n",
              "      <td>3</td>\n",
              "      <td>10</td>\n",
              "      <td>13</td>\n",
              "    </tr>\n",
              "    <tr>\n",
              "      <th>4</th>\n",
              "      <td>2011-01-01 04:00:00</td>\n",
              "      <td>1</td>\n",
              "      <td>0</td>\n",
              "      <td>0</td>\n",
              "      <td>1</td>\n",
              "      <td>9.84</td>\n",
              "      <td>14.395</td>\n",
              "      <td>75</td>\n",
              "      <td>0.0</td>\n",
              "      <td>0</td>\n",
              "      <td>1</td>\n",
              "      <td>1</td>\n",
              "    </tr>\n",
              "  </tbody>\n",
              "</table>\n",
              "</div>\n",
              "      <button class=\"colab-df-convert\" onclick=\"convertToInteractive('df-38147b0d-5604-4973-bfa4-3500ac20650a')\"\n",
              "              title=\"Convert this dataframe to an interactive table.\"\n",
              "              style=\"display:none;\">\n",
              "        \n",
              "  <svg xmlns=\"http://www.w3.org/2000/svg\" height=\"24px\"viewBox=\"0 0 24 24\"\n",
              "       width=\"24px\">\n",
              "    <path d=\"M0 0h24v24H0V0z\" fill=\"none\"/>\n",
              "    <path d=\"M18.56 5.44l.94 2.06.94-2.06 2.06-.94-2.06-.94-.94-2.06-.94 2.06-2.06.94zm-11 1L8.5 8.5l.94-2.06 2.06-.94-2.06-.94L8.5 2.5l-.94 2.06-2.06.94zm10 10l.94 2.06.94-2.06 2.06-.94-2.06-.94-.94-2.06-.94 2.06-2.06.94z\"/><path d=\"M17.41 7.96l-1.37-1.37c-.4-.4-.92-.59-1.43-.59-.52 0-1.04.2-1.43.59L10.3 9.45l-7.72 7.72c-.78.78-.78 2.05 0 2.83L4 21.41c.39.39.9.59 1.41.59.51 0 1.02-.2 1.41-.59l7.78-7.78 2.81-2.81c.8-.78.8-2.07 0-2.86zM5.41 20L4 18.59l7.72-7.72 1.47 1.35L5.41 20z\"/>\n",
              "  </svg>\n",
              "      </button>\n",
              "      \n",
              "  <style>\n",
              "    .colab-df-container {\n",
              "      display:flex;\n",
              "      flex-wrap:wrap;\n",
              "      gap: 12px;\n",
              "    }\n",
              "\n",
              "    .colab-df-convert {\n",
              "      background-color: #E8F0FE;\n",
              "      border: none;\n",
              "      border-radius: 50%;\n",
              "      cursor: pointer;\n",
              "      display: none;\n",
              "      fill: #1967D2;\n",
              "      height: 32px;\n",
              "      padding: 0 0 0 0;\n",
              "      width: 32px;\n",
              "    }\n",
              "\n",
              "    .colab-df-convert:hover {\n",
              "      background-color: #E2EBFA;\n",
              "      box-shadow: 0px 1px 2px rgba(60, 64, 67, 0.3), 0px 1px 3px 1px rgba(60, 64, 67, 0.15);\n",
              "      fill: #174EA6;\n",
              "    }\n",
              "\n",
              "    [theme=dark] .colab-df-convert {\n",
              "      background-color: #3B4455;\n",
              "      fill: #D2E3FC;\n",
              "    }\n",
              "\n",
              "    [theme=dark] .colab-df-convert:hover {\n",
              "      background-color: #434B5C;\n",
              "      box-shadow: 0px 1px 3px 1px rgba(0, 0, 0, 0.15);\n",
              "      filter: drop-shadow(0px 1px 2px rgba(0, 0, 0, 0.3));\n",
              "      fill: #FFFFFF;\n",
              "    }\n",
              "  </style>\n",
              "\n",
              "      <script>\n",
              "        const buttonEl =\n",
              "          document.querySelector('#df-38147b0d-5604-4973-bfa4-3500ac20650a button.colab-df-convert');\n",
              "        buttonEl.style.display =\n",
              "          google.colab.kernel.accessAllowed ? 'block' : 'none';\n",
              "\n",
              "        async function convertToInteractive(key) {\n",
              "          const element = document.querySelector('#df-38147b0d-5604-4973-bfa4-3500ac20650a');\n",
              "          const dataTable =\n",
              "            await google.colab.kernel.invokeFunction('convertToInteractive',\n",
              "                                                     [key], {});\n",
              "          if (!dataTable) return;\n",
              "\n",
              "          const docLinkHtml = 'Like what you see? Visit the ' +\n",
              "            '<a target=\"_blank\" href=https://colab.research.google.com/notebooks/data_table.ipynb>data table notebook</a>'\n",
              "            + ' to learn more about interactive tables.';\n",
              "          element.innerHTML = '';\n",
              "          dataTable['output_type'] = 'display_data';\n",
              "          await google.colab.output.renderOutput(dataTable, element);\n",
              "          const docLink = document.createElement('div');\n",
              "          docLink.innerHTML = docLinkHtml;\n",
              "          element.appendChild(docLink);\n",
              "        }\n",
              "      </script>\n",
              "    </div>\n",
              "  </div>\n",
              "  "
            ],
            "text/plain": [
              "              datetime  season  holiday  ...  casual  registered  count\n",
              "0  2011-01-01 00:00:00       1        0  ...       3          13     16\n",
              "1  2011-01-01 01:00:00       1        0  ...       8          32     40\n",
              "2  2011-01-01 02:00:00       1        0  ...       5          27     32\n",
              "3  2011-01-01 03:00:00       1        0  ...       3          10     13\n",
              "4  2011-01-01 04:00:00       1        0  ...       0           1      1\n",
              "\n",
              "[5 rows x 12 columns]"
            ]
          },
          "metadata": {},
          "execution_count": 14
        }
      ]
    },
    {
      "cell_type": "code",
      "source": [
        "train.hist()"
      ],
      "metadata": {
        "colab": {
          "base_uri": "https://localhost:8080/",
          "height": 506
        },
        "id": "-IlOSA9cW3lL",
        "outputId": "f1fb5470-49bd-4265-cd2e-f65b164320d5"
      },
      "execution_count": 15,
      "outputs": [
        {
          "output_type": "execute_result",
          "data": {
            "text/plain": [
              "array([[<matplotlib.axes._subplots.AxesSubplot object at 0x7f7ed7f288d0>,\n",
              "        <matplotlib.axes._subplots.AxesSubplot object at 0x7f7ed7efced0>,\n",
              "        <matplotlib.axes._subplots.AxesSubplot object at 0x7f7ed7ebf510>],\n",
              "       [<matplotlib.axes._subplots.AxesSubplot object at 0x7f7ed7e72b90>,\n",
              "        <matplotlib.axes._subplots.AxesSubplot object at 0x7f7ed7e351d0>,\n",
              "        <matplotlib.axes._subplots.AxesSubplot object at 0x7f7ed7deb7d0>],\n",
              "       [<matplotlib.axes._subplots.AxesSubplot object at 0x7f7ed7da1e50>,\n",
              "        <matplotlib.axes._subplots.AxesSubplot object at 0x7f7ed7d633d0>,\n",
              "        <matplotlib.axes._subplots.AxesSubplot object at 0x7f7ed7d63410>],\n",
              "       [<matplotlib.axes._subplots.AxesSubplot object at 0x7f7ed7d18b10>,\n",
              "        <matplotlib.axes._subplots.AxesSubplot object at 0x7f7ed7d0e650>,\n",
              "        <matplotlib.axes._subplots.AxesSubplot object at 0x7f7ed7cc4c50>]],\n",
              "      dtype=object)"
            ]
          },
          "metadata": {},
          "execution_count": 15
        },
        {
          "output_type": "display_data",
          "data": {
            "image/png": "[encoded data removed]",
            "text/plain": [
              "<Figure size 432x288 with 12 Axes>"
            ]
          },
          "metadata": {
            "needs_background": "light"
          }
        }
      ]
    },
    {
      "cell_type": "code",
      "source": [
        "import  datetime as dt"
      ],
      "metadata": {
        "id": "XP7VnOq3fqGm"
      },
      "execution_count": 16,
      "outputs": []
    },
    {
      "cell_type": "code",
      "source": [
        "#train['date'] = pd.to_datetime(train['datetime']).dt.date\n",
        "train['month'] = pd.to_datetime(train['datetime']).dt.month\n",
        "train['time'] = pd.to_datetime(train['datetime']).dt.hour"
      ],
      "metadata": {
        "id": "xuBcPEC3bkWL"
      },
      "execution_count": 28,
      "outputs": []
    },
    {
      "cell_type": "code",
      "source": [
        "train"
      ],
      "metadata": {
        "colab": {
          "base_uri": "https://localhost:8080/",
          "height": 834
        },
        "id": "pVAAFEX8i_bN",
        "outputId": "9082fc85-7f65-43d7-e7cc-4ecb48610c94"
      },
      "execution_count": 29,
      "outputs": [
        {
          "output_type": "execute_result",
          "data": {
            "text/html": [
              "\n",
              "  <div id=\"df-a8ddad1c-2ffe-467f-8fe1-0aa93a00a89a\">\n",
              "    <div class=\"colab-df-container\">\n",
              "      <div>\n",
              "<style scoped>\n",
              "    .dataframe tbody tr th:only-of-type {\n",
              "        vertical-align: middle;\n",
              "    }\n",
              "\n",
              "    .dataframe tbody tr th {\n",
              "        vertical-align: top;\n",
              "    }\n",
              "\n",
              "    .dataframe thead th {\n",
              "        text-align: right;\n",
              "    }\n",
              "</style>\n",
              "<table border=\"1\" class=\"dataframe\">\n",
              "  <thead>\n",
              "    <tr style=\"text-align: right;\">\n",
              "      <th></th>\n",
              "      <th>datetime</th>\n",
              "      <th>season</th>\n",
              "      <th>holiday</th>\n",
              "      <th>workingday</th>\n",
              "      <th>weather</th>\n",
              "      <th>temp</th>\n",
              "      <th>atemp</th>\n",
              "      <th>humidity</th>\n",
              "      <th>windspeed</th>\n",
              "      <th>casual</th>\n",
              "      <th>registered</th>\n",
              "      <th>count</th>\n",
              "      <th>month</th>\n",
              "      <th>time</th>\n",
              "    </tr>\n",
              "  </thead>\n",
              "  <tbody>\n",
              "    <tr>\n",
              "      <th>0</th>\n",
              "      <td>2011-01-01 00:00:00</td>\n",
              "      <td>1</td>\n",
              "      <td>0</td>\n",
              "      <td>0</td>\n",
              "      <td>1</td>\n",
              "      <td>9.84</td>\n",
              "      <td>14.395</td>\n",
              "      <td>81</td>\n",
              "      <td>0.0000</td>\n",
              "      <td>3</td>\n",
              "      <td>13</td>\n",
              "      <td>16</td>\n",
              "      <td>1</td>\n",
              "      <td>0</td>\n",
              "    </tr>\n",
              "    <tr>\n",
              "      <th>1</th>\n",
              "      <td>2011-01-01 01:00:00</td>\n",
              "      <td>1</td>\n",
              "      <td>0</td>\n",
              "      <td>0</td>\n",
              "      <td>1</td>\n",
              "      <td>9.02</td>\n",
              "      <td>13.635</td>\n",
              "      <td>80</td>\n",
              "      <td>0.0000</td>\n",
              "      <td>8</td>\n",
              "      <td>32</td>\n",
              "      <td>40</td>\n",
              "      <td>1</td>\n",
              "      <td>1</td>\n",
              "    </tr>\n",
              "    <tr>\n",
              "      <th>2</th>\n",
              "      <td>2011-01-01 02:00:00</td>\n",
              "      <td>1</td>\n",
              "      <td>0</td>\n",
              "      <td>0</td>\n",
              "      <td>1</td>\n",
              "      <td>9.02</td>\n",
              "      <td>13.635</td>\n",
              "      <td>80</td>\n",
              "      <td>0.0000</td>\n",
              "      <td>5</td>\n",
              "      <td>27</td>\n",
              "      <td>32</td>\n",
              "      <td>1</td>\n",
              "      <td>2</td>\n",
              "    </tr>\n",
              "    <tr>\n",
              "      <th>3</th>\n",
              "      <td>2011-01-01 03:00:00</td>\n",
              "      <td>1</td>\n",
              "      <td>0</td>\n",
              "      <td>0</td>\n",
              "      <td>1</td>\n",
              "      <td>9.84</td>\n",
              "      <td>14.395</td>\n",
              "      <td>75</td>\n",
              "      <td>0.0000</td>\n",
              "      <td>3</td>\n",
              "      <td>10</td>\n",
              "      <td>13</td>\n",
              "      <td>1</td>\n",
              "      <td>3</td>\n",
              "    </tr>\n",
              "    <tr>\n",
              "      <th>4</th>\n",
              "      <td>2011-01-01 04:00:00</td>\n",
              "      <td>1</td>\n",
              "      <td>0</td>\n",
              "      <td>0</td>\n",
              "      <td>1</td>\n",
              "      <td>9.84</td>\n",
              "      <td>14.395</td>\n",
              "      <td>75</td>\n",
              "      <td>0.0000</td>\n",
              "      <td>0</td>\n",
              "      <td>1</td>\n",
              "      <td>1</td>\n",
              "      <td>1</td>\n",
              "      <td>4</td>\n",
              "    </tr>\n",
              "    <tr>\n",
              "      <th>...</th>\n",
              "      <td>...</td>\n",
              "      <td>...</td>\n",
              "      <td>...</td>\n",
              "      <td>...</td>\n",
              "      <td>...</td>\n",
              "      <td>...</td>\n",
              "      <td>...</td>\n",
              "      <td>...</td>\n",
              "      <td>...</td>\n",
              "      <td>...</td>\n",
              "      <td>...</td>\n",
              "      <td>...</td>\n",
              "      <td>...</td>\n",
              "      <td>...</td>\n",
              "    </tr>\n",
              "    <tr>\n",
              "      <th>10881</th>\n",
              "      <td>2012-12-19 19:00:00</td>\n",
              "      <td>4</td>\n",
              "      <td>0</td>\n",
              "      <td>1</td>\n",
              "      <td>1</td>\n",
              "      <td>15.58</td>\n",
              "      <td>19.695</td>\n",
              "      <td>50</td>\n",
              "      <td>26.0027</td>\n",
              "      <td>7</td>\n",
              "      <td>329</td>\n",
              "      <td>336</td>\n",
              "      <td>12</td>\n",
              "      <td>19</td>\n",
              "    </tr>\n",
              "    <tr>\n",
              "      <th>10882</th>\n",
              "      <td>2012-12-19 20:00:00</td>\n",
              "      <td>4</td>\n",
              "      <td>0</td>\n",
              "      <td>1</td>\n",
              "      <td>1</td>\n",
              "      <td>14.76</td>\n",
              "      <td>17.425</td>\n",
              "      <td>57</td>\n",
              "      <td>15.0013</td>\n",
              "      <td>10</td>\n",
              "      <td>231</td>\n",
              "      <td>241</td>\n",
              "      <td>12</td>\n",
              "      <td>20</td>\n",
              "    </tr>\n",
              "    <tr>\n",
              "      <th>10883</th>\n",
              "      <td>2012-12-19 21:00:00</td>\n",
              "      <td>4</td>\n",
              "      <td>0</td>\n",
              "      <td>1</td>\n",
              "      <td>1</td>\n",
              "      <td>13.94</td>\n",
              "      <td>15.910</td>\n",
              "      <td>61</td>\n",
              "      <td>15.0013</td>\n",
              "      <td>4</td>\n",
              "      <td>164</td>\n",
              "      <td>168</td>\n",
              "      <td>12</td>\n",
              "      <td>21</td>\n",
              "    </tr>\n",
              "    <tr>\n",
              "      <th>10884</th>\n",
              "      <td>2012-12-19 22:00:00</td>\n",
              "      <td>4</td>\n",
              "      <td>0</td>\n",
              "      <td>1</td>\n",
              "      <td>1</td>\n",
              "      <td>13.94</td>\n",
              "      <td>17.425</td>\n",
              "      <td>61</td>\n",
              "      <td>6.0032</td>\n",
              "      <td>12</td>\n",
              "      <td>117</td>\n",
              "      <td>129</td>\n",
              "      <td>12</td>\n",
              "      <td>22</td>\n",
              "    </tr>\n",
              "    <tr>\n",
              "      <th>10885</th>\n",
              "      <td>2012-12-19 23:00:00</td>\n",
              "      <td>4</td>\n",
              "      <td>0</td>\n",
              "      <td>1</td>\n",
              "      <td>1</td>\n",
              "      <td>13.12</td>\n",
              "      <td>16.665</td>\n",
              "      <td>66</td>\n",
              "      <td>8.9981</td>\n",
              "      <td>4</td>\n",
              "      <td>84</td>\n",
              "      <td>88</td>\n",
              "      <td>12</td>\n",
              "      <td>23</td>\n",
              "    </tr>\n",
              "  </tbody>\n",
              "</table>\n",
              "<p>10886 rows × 14 columns</p>\n",
              "</div>\n",
              "      <button class=\"colab-df-convert\" onclick=\"convertToInteractive('df-a8ddad1c-2ffe-467f-8fe1-0aa93a00a89a')\"\n",
              "              title=\"Convert this dataframe to an interactive table.\"\n",
              "              style=\"display:none;\">\n",
              "        \n",
              "  <svg xmlns=\"http://www.w3.org/2000/svg\" height=\"24px\"viewBox=\"0 0 24 24\"\n",
              "       width=\"24px\">\n",
              "    <path d=\"M0 0h24v24H0V0z\" fill=\"none\"/>\n",
              "    <path d=\"M18.56 5.44l.94 2.06.94-2.06 2.06-.94-2.06-.94-.94-2.06-.94 2.06-2.06.94zm-11 1L8.5 8.5l.94-2.06 2.06-.94-2.06-.94L8.5 2.5l-.94 2.06-2.06.94zm10 10l.94 2.06.94-2.06 2.06-.94-2.06-.94-.94-2.06-.94 2.06-2.06.94z\"/><path d=\"M17.41 7.96l-1.37-1.37c-.4-.4-.92-.59-1.43-.59-.52 0-1.04.2-1.43.59L10.3 9.45l-7.72 7.72c-.78.78-.78 2.05 0 2.83L4 21.41c.39.39.9.59 1.41.59.51 0 1.02-.2 1.41-.59l7.78-7.78 2.81-2.81c.8-.78.8-2.07 0-2.86zM5.41 20L4 18.59l7.72-7.72 1.47 1.35L5.41 20z\"/>\n",
              "  </svg>\n",
              "      </button>\n",
              "      \n",
              "  <style>\n",
              "    .colab-df-container {\n",
              "      display:flex;\n",
              "      flex-wrap:wrap;\n",
              "      gap: 12px;\n",
              "    }\n",
              "\n",
              "    .colab-df-convert {\n",
              "      background-color: #E8F0FE;\n",
              "      border: none;\n",
              "      border-radius: 50%;\n",
              "      cursor: pointer;\n",
              "      display: none;\n",
              "      fill: #1967D2;\n",
              "      height: 32px;\n",
              "      padding: 0 0 0 0;\n",
              "      width: 32px;\n",
              "    }\n",
              "\n",
              "    .colab-df-convert:hover {\n",
              "      background-color: #E2EBFA;\n",
              "      box-shadow: 0px 1px 2px rgba(60, 64, 67, 0.3), 0px 1px 3px 1px rgba(60, 64, 67, 0.15);\n",
              "      fill: #174EA6;\n",
              "    }\n",
              "\n",
              "    [theme=dark] .colab-df-convert {\n",
              "      background-color: #3B4455;\n",
              "      fill: #D2E3FC;\n",
              "    }\n",
              "\n",
              "    [theme=dark] .colab-df-convert:hover {\n",
              "      background-color: #434B5C;\n",
              "      box-shadow: 0px 1px 3px 1px rgba(0, 0, 0, 0.15);\n",
              "      filter: drop-shadow(0px 1px 2px rgba(0, 0, 0, 0.3));\n",
              "      fill: #FFFFFF;\n",
              "    }\n",
              "  </style>\n",
              "\n",
              "      <script>\n",
              "        const buttonEl =\n",
              "          document.querySelector('#df-a8ddad1c-2ffe-467f-8fe1-0aa93a00a89a button.colab-df-convert');\n",
              "        buttonEl.style.display =\n",
              "          google.colab.kernel.accessAllowed ? 'block' : 'none';\n",
              "\n",
              "        async function convertToInteractive(key) {\n",
              "          const element = document.querySelector('#df-a8ddad1c-2ffe-467f-8fe1-0aa93a00a89a');\n",
              "          const dataTable =\n",
              "            await google.colab.kernel.invokeFunction('convertToInteractive',\n",
              "                                                     [key], {});\n",
              "          if (!dataTable) return;\n",
              "\n",
              "          const docLinkHtml = 'Like what you see? Visit the ' +\n",
              "            '<a target=\"_blank\" href=https://colab.research.google.com/notebooks/data_table.ipynb>data table notebook</a>'\n",
              "            + ' to learn more about interactive tables.';\n",
              "          element.innerHTML = '';\n",
              "          dataTable['output_type'] = 'display_data';\n",
              "          await google.colab.output.renderOutput(dataTable, element);\n",
              "          const docLink = document.createElement('div');\n",
              "          docLink.innerHTML = docLinkHtml;\n",
              "          element.appendChild(docLink);\n",
              "        }\n",
              "      </script>\n",
              "    </div>\n",
              "  </div>\n",
              "  "
            ],
            "text/plain": [
              "                  datetime  season  holiday  ...  count  month  time\n",
              "0      2011-01-01 00:00:00       1        0  ...     16      1     0\n",
              "1      2011-01-01 01:00:00       1        0  ...     40      1     1\n",
              "2      2011-01-01 02:00:00       1        0  ...     32      1     2\n",
              "3      2011-01-01 03:00:00       1        0  ...     13      1     3\n",
              "4      2011-01-01 04:00:00       1        0  ...      1      1     4\n",
              "...                    ...     ...      ...  ...    ...    ...   ...\n",
              "10881  2012-12-19 19:00:00       4        0  ...    336     12    19\n",
              "10882  2012-12-19 20:00:00       4        0  ...    241     12    20\n",
              "10883  2012-12-19 21:00:00       4        0  ...    168     12    21\n",
              "10884  2012-12-19 22:00:00       4        0  ...    129     12    22\n",
              "10885  2012-12-19 23:00:00       4        0  ...     88     12    23\n",
              "\n",
              "[10886 rows x 14 columns]"
            ]
          },
          "metadata": {},
          "execution_count": 29
        }
      ]
    },
    {
      "cell_type": "code",
      "source": [
        "train=train.drop(columns=['datetime'])"
      ],
      "metadata": {
        "id": "MFb14f2pw1Vi"
      },
      "execution_count": 30,
      "outputs": []
    },
    {
      "cell_type": "code",
      "source": [
        "train.info()"
      ],
      "metadata": {
        "colab": {
          "base_uri": "https://localhost:8080/"
        },
        "id": "L8PGn7LX20g6",
        "outputId": "e3fc7b17-9db9-4e23-919a-5133e7e38997"
      },
      "execution_count": 31,
      "outputs": [
        {
          "output_type": "stream",
          "name": "stdout",
          "text": [
            "<class 'pandas.core.frame.DataFrame'>\n",
            "RangeIndex: 10886 entries, 0 to 10885\n",
            "Data columns (total 13 columns):\n",
            " #   Column      Non-Null Count  Dtype  \n",
            "---  ------      --------------  -----  \n",
            " 0   season      10886 non-null  int64  \n",
            " 1   holiday     10886 non-null  int64  \n",
            " 2   workingday  10886 non-null  int64  \n",
            " 3   weather     10886 non-null  int64  \n",
            " 4   temp        10886 non-null  float64\n",
            " 5   atemp       10886 non-null  float64\n",
            " 6   humidity    10886 non-null  int64  \n",
            " 7   windspeed   10886 non-null  float64\n",
            " 8   casual      10886 non-null  int64  \n",
            " 9   registered  10886 non-null  int64  \n",
            " 10  count       10886 non-null  int64  \n",
            " 11  month       10886 non-null  int64  \n",
            " 12  time        10886 non-null  int64  \n",
            "dtypes: float64(3), int64(10)\n",
            "memory usage: 1.1 MB\n"
          ]
        }
      ]
    },
    {
      "cell_type": "code",
      "source": [
        "cols=['season','holiday','weather','month','time','workingday']\n",
        "for col in cols: \n",
        "  train[col]=train[col].astype('category')"
      ],
      "metadata": {
        "id": "g9qArn0926pC"
      },
      "execution_count": 32,
      "outputs": []
    },
    {
      "cell_type": "code",
      "source": [
        "train.info()"
      ],
      "metadata": {
        "colab": {
          "base_uri": "https://localhost:8080/"
        },
        "id": "tEg84tJF3vg3",
        "outputId": "d392468e-962b-4e19-b827-1a308cfba11e"
      },
      "execution_count": 35,
      "outputs": [
        {
          "output_type": "stream",
          "name": "stdout",
          "text": [
            "<class 'pandas.core.frame.DataFrame'>\n",
            "RangeIndex: 10886 entries, 0 to 10885\n",
            "Data columns (total 13 columns):\n",
            " #   Column      Non-Null Count  Dtype   \n",
            "---  ------      --------------  -----   \n",
            " 0   season      10886 non-null  category\n",
            " 1   holiday     10886 non-null  category\n",
            " 2   workingday  10886 non-null  category\n",
            " 3   weather     10886 non-null  category\n",
            " 4   temp        10886 non-null  float64 \n",
            " 5   atemp       10886 non-null  float64 \n",
            " 6   humidity    10886 non-null  int64   \n",
            " 7   windspeed   10886 non-null  float64 \n",
            " 8   casual      10886 non-null  int64   \n",
            " 9   registered  10886 non-null  int64   \n",
            " 10  count       10886 non-null  int64   \n",
            " 11  month       10886 non-null  category\n",
            " 12  time        10886 non-null  category\n",
            "dtypes: category(6), float64(3), int64(4)\n",
            "memory usage: 661.0 KB\n"
          ]
        }
      ]
    },
    {
      "cell_type": "code",
      "source": [
        "train"
      ],
      "metadata": {
        "colab": {
          "base_uri": "https://localhost:8080/",
          "height": 467
        },
        "id": "agOzMgtv6DhI",
        "outputId": "ea278109-d58b-49f3-93ae-a7ce0cbdf62e"
      },
      "execution_count": 34,
      "outputs": [
        {
          "output_type": "execute_result",
          "data": {
            "text/html": [
              "\n",
              "  <div id=\"df-41b5e881-f3f2-4f9a-ab37-167b7e75f62e\">\n",
              "    <div class=\"colab-df-container\">\n",
              "      <div>\n",
              "<style scoped>\n",
              "    .dataframe tbody tr th:only-of-type {\n",
              "        vertical-align: middle;\n",
              "    }\n",
              "\n",
              "    .dataframe tbody tr th {\n",
              "        vertical-align: top;\n",
              "    }\n",
              "\n",
              "    .dataframe thead th {\n",
              "        text-align: right;\n",
              "    }\n",
              "</style>\n",
              "<table border=\"1\" class=\"dataframe\">\n",
              "  <thead>\n",
              "    <tr style=\"text-align: right;\">\n",
              "      <th></th>\n",
              "      <th>season</th>\n",
              "      <th>holiday</th>\n",
              "      <th>workingday</th>\n",
              "      <th>weather</th>\n",
              "      <th>temp</th>\n",
              "      <th>atemp</th>\n",
              "      <th>humidity</th>\n",
              "      <th>windspeed</th>\n",
              "      <th>casual</th>\n",
              "      <th>registered</th>\n",
              "      <th>count</th>\n",
              "      <th>month</th>\n",
              "      <th>time</th>\n",
              "    </tr>\n",
              "  </thead>\n",
              "  <tbody>\n",
              "    <tr>\n",
              "      <th>0</th>\n",
              "      <td>1</td>\n",
              "      <td>0</td>\n",
              "      <td>0</td>\n",
              "      <td>1</td>\n",
              "      <td>9.84</td>\n",
              "      <td>14.395</td>\n",
              "      <td>81</td>\n",
              "      <td>0.0000</td>\n",
              "      <td>3</td>\n",
              "      <td>13</td>\n",
              "      <td>16</td>\n",
              "      <td>1</td>\n",
              "      <td>0</td>\n",
              "    </tr>\n",
              "    <tr>\n",
              "      <th>1</th>\n",
              "      <td>1</td>\n",
              "      <td>0</td>\n",
              "      <td>0</td>\n",
              "      <td>1</td>\n",
              "      <td>9.02</td>\n",
              "      <td>13.635</td>\n",
              "      <td>80</td>\n",
              "      <td>0.0000</td>\n",
              "      <td>8</td>\n",
              "      <td>32</td>\n",
              "      <td>40</td>\n",
              "      <td>1</td>\n",
              "      <td>1</td>\n",
              "    </tr>\n",
              "    <tr>\n",
              "      <th>2</th>\n",
              "      <td>1</td>\n",
              "      <td>0</td>\n",
              "      <td>0</td>\n",
              "      <td>1</td>\n",
              "      <td>9.02</td>\n",
              "      <td>13.635</td>\n",
              "      <td>80</td>\n",
              "      <td>0.0000</td>\n",
              "      <td>5</td>\n",
              "      <td>27</td>\n",
              "      <td>32</td>\n",
              "      <td>1</td>\n",
              "      <td>2</td>\n",
              "    </tr>\n",
              "    <tr>\n",
              "      <th>3</th>\n",
              "      <td>1</td>\n",
              "      <td>0</td>\n",
              "      <td>0</td>\n",
              "      <td>1</td>\n",
              "      <td>9.84</td>\n",
              "      <td>14.395</td>\n",
              "      <td>75</td>\n",
              "      <td>0.0000</td>\n",
              "      <td>3</td>\n",
              "      <td>10</td>\n",
              "      <td>13</td>\n",
              "      <td>1</td>\n",
              "      <td>3</td>\n",
              "    </tr>\n",
              "    <tr>\n",
              "      <th>4</th>\n",
              "      <td>1</td>\n",
              "      <td>0</td>\n",
              "      <td>0</td>\n",
              "      <td>1</td>\n",
              "      <td>9.84</td>\n",
              "      <td>14.395</td>\n",
              "      <td>75</td>\n",
              "      <td>0.0000</td>\n",
              "      <td>0</td>\n",
              "      <td>1</td>\n",
              "      <td>1</td>\n",
              "      <td>1</td>\n",
              "      <td>4</td>\n",
              "    </tr>\n",
              "    <tr>\n",
              "      <th>...</th>\n",
              "      <td>...</td>\n",
              "      <td>...</td>\n",
              "      <td>...</td>\n",
              "      <td>...</td>\n",
              "      <td>...</td>\n",
              "      <td>...</td>\n",
              "      <td>...</td>\n",
              "      <td>...</td>\n",
              "      <td>...</td>\n",
              "      <td>...</td>\n",
              "      <td>...</td>\n",
              "      <td>...</td>\n",
              "      <td>...</td>\n",
              "    </tr>\n",
              "    <tr>\n",
              "      <th>10881</th>\n",
              "      <td>4</td>\n",
              "      <td>0</td>\n",
              "      <td>1</td>\n",
              "      <td>1</td>\n",
              "      <td>15.58</td>\n",
              "      <td>19.695</td>\n",
              "      <td>50</td>\n",
              "      <td>26.0027</td>\n",
              "      <td>7</td>\n",
              "      <td>329</td>\n",
              "      <td>336</td>\n",
              "      <td>12</td>\n",
              "      <td>19</td>\n",
              "    </tr>\n",
              "    <tr>\n",
              "      <th>10882</th>\n",
              "      <td>4</td>\n",
              "      <td>0</td>\n",
              "      <td>1</td>\n",
              "      <td>1</td>\n",
              "      <td>14.76</td>\n",
              "      <td>17.425</td>\n",
              "      <td>57</td>\n",
              "      <td>15.0013</td>\n",
              "      <td>10</td>\n",
              "      <td>231</td>\n",
              "      <td>241</td>\n",
              "      <td>12</td>\n",
              "      <td>20</td>\n",
              "    </tr>\n",
              "    <tr>\n",
              "      <th>10883</th>\n",
              "      <td>4</td>\n",
              "      <td>0</td>\n",
              "      <td>1</td>\n",
              "      <td>1</td>\n",
              "      <td>13.94</td>\n",
              "      <td>15.910</td>\n",
              "      <td>61</td>\n",
              "      <td>15.0013</td>\n",
              "      <td>4</td>\n",
              "      <td>164</td>\n",
              "      <td>168</td>\n",
              "      <td>12</td>\n",
              "      <td>21</td>\n",
              "    </tr>\n",
              "    <tr>\n",
              "      <th>10884</th>\n",
              "      <td>4</td>\n",
              "      <td>0</td>\n",
              "      <td>1</td>\n",
              "      <td>1</td>\n",
              "      <td>13.94</td>\n",
              "      <td>17.425</td>\n",
              "      <td>61</td>\n",
              "      <td>6.0032</td>\n",
              "      <td>12</td>\n",
              "      <td>117</td>\n",
              "      <td>129</td>\n",
              "      <td>12</td>\n",
              "      <td>22</td>\n",
              "    </tr>\n",
              "    <tr>\n",
              "      <th>10885</th>\n",
              "      <td>4</td>\n",
              "      <td>0</td>\n",
              "      <td>1</td>\n",
              "      <td>1</td>\n",
              "      <td>13.12</td>\n",
              "      <td>16.665</td>\n",
              "      <td>66</td>\n",
              "      <td>8.9981</td>\n",
              "      <td>4</td>\n",
              "      <td>84</td>\n",
              "      <td>88</td>\n",
              "      <td>12</td>\n",
              "      <td>23</td>\n",
              "    </tr>\n",
              "  </tbody>\n",
              "</table>\n",
              "<p>10886 rows × 13 columns</p>\n",
              "</div>\n",
              "      <button class=\"colab-df-convert\" onclick=\"convertToInteractive('df-41b5e881-f3f2-4f9a-ab37-167b7e75f62e')\"\n",
              "              title=\"Convert this dataframe to an interactive table.\"\n",
              "              style=\"display:none;\">\n",
              "        \n",
              "  <svg xmlns=\"http://www.w3.org/2000/svg\" height=\"24px\"viewBox=\"0 0 24 24\"\n",
              "       width=\"24px\">\n",
              "    <path d=\"M0 0h24v24H0V0z\" fill=\"none\"/>\n",
              "    <path d=\"M18.56 5.44l.94 2.06.94-2.06 2.06-.94-2.06-.94-.94-2.06-.94 2.06-2.06.94zm-11 1L8.5 8.5l.94-2.06 2.06-.94-2.06-.94L8.5 2.5l-.94 2.06-2.06.94zm10 10l.94 2.06.94-2.06 2.06-.94-2.06-.94-.94-2.06-.94 2.06-2.06.94z\"/><path d=\"M17.41 7.96l-1.37-1.37c-.4-.4-.92-.59-1.43-.59-.52 0-1.04.2-1.43.59L10.3 9.45l-7.72 7.72c-.78.78-.78 2.05 0 2.83L4 21.41c.39.39.9.59 1.41.59.51 0 1.02-.2 1.41-.59l7.78-7.78 2.81-2.81c.8-.78.8-2.07 0-2.86zM5.41 20L4 18.59l7.72-7.72 1.47 1.35L5.41 20z\"/>\n",
              "  </svg>\n",
              "      </button>\n",
              "      \n",
              "  <style>\n",
              "    .colab-df-container {\n",
              "      display:flex;\n",
              "      flex-wrap:wrap;\n",
              "      gap: 12px;\n",
              "    }\n",
              "\n",
              "    .colab-df-convert {\n",
              "      background-color: #E8F0FE;\n",
              "      border: none;\n",
              "      border-radius: 50%;\n",
              "      cursor: pointer;\n",
              "      display: none;\n",
              "      fill: #1967D2;\n",
              "      height: 32px;\n",
              "      padding: 0 0 0 0;\n",
              "      width: 32px;\n",
              "    }\n",
              "\n",
              "    .colab-df-convert:hover {\n",
              "      background-color: #E2EBFA;\n",
              "      box-shadow: 0px 1px 2px rgba(60, 64, 67, 0.3), 0px 1px 3px 1px rgba(60, 64, 67, 0.15);\n",
              "      fill: #174EA6;\n",
              "    }\n",
              "\n",
              "    [theme=dark] .colab-df-convert {\n",
              "      background-color: #3B4455;\n",
              "      fill: #D2E3FC;\n",
              "    }\n",
              "\n",
              "    [theme=dark] .colab-df-convert:hover {\n",
              "      background-color: #434B5C;\n",
              "      box-shadow: 0px 1px 3px 1px rgba(0, 0, 0, 0.15);\n",
              "      filter: drop-shadow(0px 1px 2px rgba(0, 0, 0, 0.3));\n",
              "      fill: #FFFFFF;\n",
              "    }\n",
              "  </style>\n",
              "\n",
              "      <script>\n",
              "        const buttonEl =\n",
              "          document.querySelector('#df-41b5e881-f3f2-4f9a-ab37-167b7e75f62e button.colab-df-convert');\n",
              "        buttonEl.style.display =\n",
              "          google.colab.kernel.accessAllowed ? 'block' : 'none';\n",
              "\n",
              "        async function convertToInteractive(key) {\n",
              "          const element = document.querySelector('#df-41b5e881-f3f2-4f9a-ab37-167b7e75f62e');\n",
              "          const dataTable =\n",
              "            await google.colab.kernel.invokeFunction('convertToInteractive',\n",
              "                                                     [key], {});\n",
              "          if (!dataTable) return;\n",
              "\n",
              "          const docLinkHtml = 'Like what you see? Visit the ' +\n",
              "            '<a target=\"_blank\" href=https://colab.research.google.com/notebooks/data_table.ipynb>data table notebook</a>'\n",
              "            + ' to learn more about interactive tables.';\n",
              "          element.innerHTML = '';\n",
              "          dataTable['output_type'] = 'display_data';\n",
              "          await google.colab.output.renderOutput(dataTable, element);\n",
              "          const docLink = document.createElement('div');\n",
              "          docLink.innerHTML = docLinkHtml;\n",
              "          element.appendChild(docLink);\n",
              "        }\n",
              "      </script>\n",
              "    </div>\n",
              "  </div>\n",
              "  "
            ],
            "text/plain": [
              "      season holiday workingday weather  ...  registered  count  month  time\n",
              "0          1       0          0       1  ...          13     16      1     0\n",
              "1          1       0          0       1  ...          32     40      1     1\n",
              "2          1       0          0       1  ...          27     32      1     2\n",
              "3          1       0          0       1  ...          10     13      1     3\n",
              "4          1       0          0       1  ...           1      1      1     4\n",
              "...      ...     ...        ...     ...  ...         ...    ...    ...   ...\n",
              "10881      4       0          1       1  ...         329    336     12    19\n",
              "10882      4       0          1       1  ...         231    241     12    20\n",
              "10883      4       0          1       1  ...         164    168     12    21\n",
              "10884      4       0          1       1  ...         117    129     12    22\n",
              "10885      4       0          1       1  ...          84     88     12    23\n",
              "\n",
              "[10886 rows x 13 columns]"
            ]
          },
          "metadata": {},
          "execution_count": 34
        }
      ]
    },
    {
      "cell_type": "code",
      "source": [
        "train_oh=train\n",
        "def one_hot_encoding(df,column):\n",
        "  train_oh= pd.concat([df,pd.get_dummies(df[column],prefix=column,drop_first='true')],axis=1)\n",
        "  train_oh=train_oh.drop([column],axis=1)\n",
        "  return train_oh\n",
        "\n",
        "cols=['season','holiday','weather','month','time','workingday']\n",
        "for col in cols: \n",
        "  train_oh=one_hot_encoding(train_oh,col)"
      ],
      "metadata": {
        "id": "uTq8OU9K619w"
      },
      "execution_count": 38,
      "outputs": []
    },
    {
      "cell_type": "code",
      "source": [
        "train_oh"
      ],
      "metadata": {
        "colab": {
          "base_uri": "https://localhost:8080/",
          "height": 487
        },
        "id": "VAz5sKgX9FCW",
        "outputId": "d610205e-93a3-4ba7-a3ba-99c095b3bdec"
      },
      "execution_count": 39,
      "outputs": [
        {
          "output_type": "execute_result",
          "data": {
            "text/html": [
              "\n",
              "  <div id=\"df-f388a418-6c0c-492e-82e2-d26fbcad236b\">\n",
              "    <div class=\"colab-df-container\">\n",
              "      <div>\n",
              "<style scoped>\n",
              "    .dataframe tbody tr th:only-of-type {\n",
              "        vertical-align: middle;\n",
              "    }\n",
              "\n",
              "    .dataframe tbody tr th {\n",
              "        vertical-align: top;\n",
              "    }\n",
              "\n",
              "    .dataframe thead th {\n",
              "        text-align: right;\n",
              "    }\n",
              "</style>\n",
              "<table border=\"1\" class=\"dataframe\">\n",
              "  <thead>\n",
              "    <tr style=\"text-align: right;\">\n",
              "      <th></th>\n",
              "      <th>temp</th>\n",
              "      <th>atemp</th>\n",
              "      <th>humidity</th>\n",
              "      <th>windspeed</th>\n",
              "      <th>casual</th>\n",
              "      <th>registered</th>\n",
              "      <th>count</th>\n",
              "      <th>season_2</th>\n",
              "      <th>season_3</th>\n",
              "      <th>season_4</th>\n",
              "      <th>holiday_1</th>\n",
              "      <th>weather_2</th>\n",
              "      <th>weather_3</th>\n",
              "      <th>weather_4</th>\n",
              "      <th>month_2</th>\n",
              "      <th>month_3</th>\n",
              "      <th>month_4</th>\n",
              "      <th>month_5</th>\n",
              "      <th>month_6</th>\n",
              "      <th>month_7</th>\n",
              "      <th>month_8</th>\n",
              "      <th>month_9</th>\n",
              "      <th>month_10</th>\n",
              "      <th>month_11</th>\n",
              "      <th>month_12</th>\n",
              "      <th>time_1</th>\n",
              "      <th>time_2</th>\n",
              "      <th>time_3</th>\n",
              "      <th>time_4</th>\n",
              "      <th>time_5</th>\n",
              "      <th>time_6</th>\n",
              "      <th>time_7</th>\n",
              "      <th>time_8</th>\n",
              "      <th>time_9</th>\n",
              "      <th>time_10</th>\n",
              "      <th>time_11</th>\n",
              "      <th>time_12</th>\n",
              "      <th>time_13</th>\n",
              "      <th>time_14</th>\n",
              "      <th>time_15</th>\n",
              "      <th>time_16</th>\n",
              "      <th>time_17</th>\n",
              "      <th>time_18</th>\n",
              "      <th>time_19</th>\n",
              "      <th>time_20</th>\n",
              "      <th>time_21</th>\n",
              "      <th>time_22</th>\n",
              "      <th>time_23</th>\n",
              "      <th>workingday_1</th>\n",
              "    </tr>\n",
              "  </thead>\n",
              "  <tbody>\n",
              "    <tr>\n",
              "      <th>0</th>\n",
              "      <td>9.84</td>\n",
              "      <td>14.395</td>\n",
              "      <td>81</td>\n",
              "      <td>0.0000</td>\n",
              "      <td>3</td>\n",
              "      <td>13</td>\n",
              "      <td>16</td>\n",
              "      <td>0</td>\n",
              "      <td>0</td>\n",
              "      <td>0</td>\n",
              "      <td>0</td>\n",
              "      <td>0</td>\n",
              "      <td>0</td>\n",
              "      <td>0</td>\n",
              "      <td>0</td>\n",
              "      <td>0</td>\n",
              "      <td>0</td>\n",
              "      <td>0</td>\n",
              "      <td>0</td>\n",
              "      <td>0</td>\n",
              "      <td>0</td>\n",
              "      <td>0</td>\n",
              "      <td>0</td>\n",
              "      <td>0</td>\n",
              "      <td>0</td>\n",
              "      <td>0</td>\n",
              "      <td>0</td>\n",
              "      <td>0</td>\n",
              "      <td>0</td>\n",
              "      <td>0</td>\n",
              "      <td>0</td>\n",
              "      <td>0</td>\n",
              "      <td>0</td>\n",
              "      <td>0</td>\n",
              "      <td>0</td>\n",
              "      <td>0</td>\n",
              "      <td>0</td>\n",
              "      <td>0</td>\n",
              "      <td>0</td>\n",
              "      <td>0</td>\n",
              "      <td>0</td>\n",
              "      <td>0</td>\n",
              "      <td>0</td>\n",
              "      <td>0</td>\n",
              "      <td>0</td>\n",
              "      <td>0</td>\n",
              "      <td>0</td>\n",
              "      <td>0</td>\n",
              "      <td>0</td>\n",
              "    </tr>\n",
              "    <tr>\n",
              "      <th>1</th>\n",
              "      <td>9.02</td>\n",
              "      <td>13.635</td>\n",
              "      <td>80</td>\n",
              "      <td>0.0000</td>\n",
              "      <td>8</td>\n",
              "      <td>32</td>\n",
              "      <td>40</td>\n",
              "      <td>0</td>\n",
              "      <td>0</td>\n",
              "      <td>0</td>\n",
              "      <td>0</td>\n",
              "      <td>0</td>\n",
              "      <td>0</td>\n",
              "      <td>0</td>\n",
              "      <td>0</td>\n",
              "      <td>0</td>\n",
              "      <td>0</td>\n",
              "      <td>0</td>\n",
              "      <td>0</td>\n",
              "      <td>0</td>\n",
              "      <td>0</td>\n",
              "      <td>0</td>\n",
              "      <td>0</td>\n",
              "      <td>0</td>\n",
              "      <td>0</td>\n",
              "      <td>1</td>\n",
              "      <td>0</td>\n",
              "      <td>0</td>\n",
              "      <td>0</td>\n",
              "      <td>0</td>\n",
              "      <td>0</td>\n",
              "      <td>0</td>\n",
              "      <td>0</td>\n",
              "      <td>0</td>\n",
              "      <td>0</td>\n",
              "      <td>0</td>\n",
              "      <td>0</td>\n",
              "      <td>0</td>\n",
              "      <td>0</td>\n",
              "      <td>0</td>\n",
              "      <td>0</td>\n",
              "      <td>0</td>\n",
              "      <td>0</td>\n",
              "      <td>0</td>\n",
              "      <td>0</td>\n",
              "      <td>0</td>\n",
              "      <td>0</td>\n",
              "      <td>0</td>\n",
              "      <td>0</td>\n",
              "    </tr>\n",
              "    <tr>\n",
              "      <th>2</th>\n",
              "      <td>9.02</td>\n",
              "      <td>13.635</td>\n",
              "      <td>80</td>\n",
              "      <td>0.0000</td>\n",
              "      <td>5</td>\n",
              "      <td>27</td>\n",
              "      <td>32</td>\n",
              "      <td>0</td>\n",
              "      <td>0</td>\n",
              "      <td>0</td>\n",
              "      <td>0</td>\n",
              "      <td>0</td>\n",
              "      <td>0</td>\n",
              "      <td>0</td>\n",
              "      <td>0</td>\n",
              "      <td>0</td>\n",
              "      <td>0</td>\n",
              "      <td>0</td>\n",
              "      <td>0</td>\n",
              "      <td>0</td>\n",
              "      <td>0</td>\n",
              "      <td>0</td>\n",
              "      <td>0</td>\n",
              "      <td>0</td>\n",
              "      <td>0</td>\n",
              "      <td>0</td>\n",
              "      <td>1</td>\n",
              "      <td>0</td>\n",
              "      <td>0</td>\n",
              "      <td>0</td>\n",
              "      <td>0</td>\n",
              "      <td>0</td>\n",
              "      <td>0</td>\n",
              "      <td>0</td>\n",
              "      <td>0</td>\n",
              "      <td>0</td>\n",
              "      <td>0</td>\n",
              "      <td>0</td>\n",
              "      <td>0</td>\n",
              "      <td>0</td>\n",
              "      <td>0</td>\n",
              "      <td>0</td>\n",
              "      <td>0</td>\n",
              "      <td>0</td>\n",
              "      <td>0</td>\n",
              "      <td>0</td>\n",
              "      <td>0</td>\n",
              "      <td>0</td>\n",
              "      <td>0</td>\n",
              "    </tr>\n",
              "    <tr>\n",
              "      <th>3</th>\n",
              "      <td>9.84</td>\n",
              "      <td>14.395</td>\n",
              "      <td>75</td>\n",
              "      <td>0.0000</td>\n",
              "      <td>3</td>\n",
              "      <td>10</td>\n",
              "      <td>13</td>\n",
              "      <td>0</td>\n",
              "      <td>0</td>\n",
              "      <td>0</td>\n",
              "      <td>0</td>\n",
              "      <td>0</td>\n",
              "      <td>0</td>\n",
              "      <td>0</td>\n",
              "      <td>0</td>\n",
              "      <td>0</td>\n",
              "      <td>0</td>\n",
              "      <td>0</td>\n",
              "      <td>0</td>\n",
              "      <td>0</td>\n",
              "      <td>0</td>\n",
              "      <td>0</td>\n",
              "      <td>0</td>\n",
              "      <td>0</td>\n",
              "      <td>0</td>\n",
              "      <td>0</td>\n",
              "      <td>0</td>\n",
              "      <td>1</td>\n",
              "      <td>0</td>\n",
              "      <td>0</td>\n",
              "      <td>0</td>\n",
              "      <td>0</td>\n",
              "      <td>0</td>\n",
              "      <td>0</td>\n",
              "      <td>0</td>\n",
              "      <td>0</td>\n",
              "      <td>0</td>\n",
              "      <td>0</td>\n",
              "      <td>0</td>\n",
              "      <td>0</td>\n",
              "      <td>0</td>\n",
              "      <td>0</td>\n",
              "      <td>0</td>\n",
              "      <td>0</td>\n",
              "      <td>0</td>\n",
              "      <td>0</td>\n",
              "      <td>0</td>\n",
              "      <td>0</td>\n",
              "      <td>0</td>\n",
              "    </tr>\n",
              "    <tr>\n",
              "      <th>4</th>\n",
              "      <td>9.84</td>\n",
              "      <td>14.395</td>\n",
              "      <td>75</td>\n",
              "      <td>0.0000</td>\n",
              "      <td>0</td>\n",
              "      <td>1</td>\n",
              "      <td>1</td>\n",
              "      <td>0</td>\n",
              "      <td>0</td>\n",
              "      <td>0</td>\n",
              "      <td>0</td>\n",
              "      <td>0</td>\n",
              "      <td>0</td>\n",
              "      <td>0</td>\n",
              "      <td>0</td>\n",
              "      <td>0</td>\n",
              "      <td>0</td>\n",
              "      <td>0</td>\n",
              "      <td>0</td>\n",
              "      <td>0</td>\n",
              "      <td>0</td>\n",
              "      <td>0</td>\n",
              "      <td>0</td>\n",
              "      <td>0</td>\n",
              "      <td>0</td>\n",
              "      <td>0</td>\n",
              "      <td>0</td>\n",
              "      <td>0</td>\n",
              "      <td>1</td>\n",
              "      <td>0</td>\n",
              "      <td>0</td>\n",
              "      <td>0</td>\n",
              "      <td>0</td>\n",
              "      <td>0</td>\n",
              "      <td>0</td>\n",
              "      <td>0</td>\n",
              "      <td>0</td>\n",
              "      <td>0</td>\n",
              "      <td>0</td>\n",
              "      <td>0</td>\n",
              "      <td>0</td>\n",
              "      <td>0</td>\n",
              "      <td>0</td>\n",
              "      <td>0</td>\n",
              "      <td>0</td>\n",
              "      <td>0</td>\n",
              "      <td>0</td>\n",
              "      <td>0</td>\n",
              "      <td>0</td>\n",
              "    </tr>\n",
              "    <tr>\n",
              "      <th>...</th>\n",
              "      <td>...</td>\n",
              "      <td>...</td>\n",
              "      <td>...</td>\n",
              "      <td>...</td>\n",
              "      <td>...</td>\n",
              "      <td>...</td>\n",
              "      <td>...</td>\n",
              "      <td>...</td>\n",
              "      <td>...</td>\n",
              "      <td>...</td>\n",
              "      <td>...</td>\n",
              "      <td>...</td>\n",
              "      <td>...</td>\n",
              "      <td>...</td>\n",
              "      <td>...</td>\n",
              "      <td>...</td>\n",
              "      <td>...</td>\n",
              "      <td>...</td>\n",
              "      <td>...</td>\n",
              "      <td>...</td>\n",
              "      <td>...</td>\n",
              "      <td>...</td>\n",
              "      <td>...</td>\n",
              "      <td>...</td>\n",
              "      <td>...</td>\n",
              "      <td>...</td>\n",
              "      <td>...</td>\n",
              "      <td>...</td>\n",
              "      <td>...</td>\n",
              "      <td>...</td>\n",
              "      <td>...</td>\n",
              "      <td>...</td>\n",
              "      <td>...</td>\n",
              "      <td>...</td>\n",
              "      <td>...</td>\n",
              "      <td>...</td>\n",
              "      <td>...</td>\n",
              "      <td>...</td>\n",
              "      <td>...</td>\n",
              "      <td>...</td>\n",
              "      <td>...</td>\n",
              "      <td>...</td>\n",
              "      <td>...</td>\n",
              "      <td>...</td>\n",
              "      <td>...</td>\n",
              "      <td>...</td>\n",
              "      <td>...</td>\n",
              "      <td>...</td>\n",
              "      <td>...</td>\n",
              "    </tr>\n",
              "    <tr>\n",
              "      <th>10881</th>\n",
              "      <td>15.58</td>\n",
              "      <td>19.695</td>\n",
              "      <td>50</td>\n",
              "      <td>26.0027</td>\n",
              "      <td>7</td>\n",
              "      <td>329</td>\n",
              "      <td>336</td>\n",
              "      <td>0</td>\n",
              "      <td>0</td>\n",
              "      <td>1</td>\n",
              "      <td>0</td>\n",
              "      <td>0</td>\n",
              "      <td>0</td>\n",
              "      <td>0</td>\n",
              "      <td>0</td>\n",
              "      <td>0</td>\n",
              "      <td>0</td>\n",
              "      <td>0</td>\n",
              "      <td>0</td>\n",
              "      <td>0</td>\n",
              "      <td>0</td>\n",
              "      <td>0</td>\n",
              "      <td>0</td>\n",
              "      <td>0</td>\n",
              "      <td>1</td>\n",
              "      <td>0</td>\n",
              "      <td>0</td>\n",
              "      <td>0</td>\n",
              "      <td>0</td>\n",
              "      <td>0</td>\n",
              "      <td>0</td>\n",
              "      <td>0</td>\n",
              "      <td>0</td>\n",
              "      <td>0</td>\n",
              "      <td>0</td>\n",
              "      <td>0</td>\n",
              "      <td>0</td>\n",
              "      <td>0</td>\n",
              "      <td>0</td>\n",
              "      <td>0</td>\n",
              "      <td>0</td>\n",
              "      <td>0</td>\n",
              "      <td>0</td>\n",
              "      <td>1</td>\n",
              "      <td>0</td>\n",
              "      <td>0</td>\n",
              "      <td>0</td>\n",
              "      <td>0</td>\n",
              "      <td>1</td>\n",
              "    </tr>\n",
              "    <tr>\n",
              "      <th>10882</th>\n",
              "      <td>14.76</td>\n",
              "      <td>17.425</td>\n",
              "      <td>57</td>\n",
              "      <td>15.0013</td>\n",
              "      <td>10</td>\n",
              "      <td>231</td>\n",
              "      <td>241</td>\n",
              "      <td>0</td>\n",
              "      <td>0</td>\n",
              "      <td>1</td>\n",
              "      <td>0</td>\n",
              "      <td>0</td>\n",
              "      <td>0</td>\n",
              "      <td>0</td>\n",
              "      <td>0</td>\n",
              "      <td>0</td>\n",
              "      <td>0</td>\n",
              "      <td>0</td>\n",
              "      <td>0</td>\n",
              "      <td>0</td>\n",
              "      <td>0</td>\n",
              "      <td>0</td>\n",
              "      <td>0</td>\n",
              "      <td>0</td>\n",
              "      <td>1</td>\n",
              "      <td>0</td>\n",
              "      <td>0</td>\n",
              "      <td>0</td>\n",
              "      <td>0</td>\n",
              "      <td>0</td>\n",
              "      <td>0</td>\n",
              "      <td>0</td>\n",
              "      <td>0</td>\n",
              "      <td>0</td>\n",
              "      <td>0</td>\n",
              "      <td>0</td>\n",
              "      <td>0</td>\n",
              "      <td>0</td>\n",
              "      <td>0</td>\n",
              "      <td>0</td>\n",
              "      <td>0</td>\n",
              "      <td>0</td>\n",
              "      <td>0</td>\n",
              "      <td>0</td>\n",
              "      <td>1</td>\n",
              "      <td>0</td>\n",
              "      <td>0</td>\n",
              "      <td>0</td>\n",
              "      <td>1</td>\n",
              "    </tr>\n",
              "    <tr>\n",
              "      <th>10883</th>\n",
              "      <td>13.94</td>\n",
              "      <td>15.910</td>\n",
              "      <td>61</td>\n",
              "      <td>15.0013</td>\n",
              "      <td>4</td>\n",
              "      <td>164</td>\n",
              "      <td>168</td>\n",
              "      <td>0</td>\n",
              "      <td>0</td>\n",
              "      <td>1</td>\n",
              "      <td>0</td>\n",
              "      <td>0</td>\n",
              "      <td>0</td>\n",
              "      <td>0</td>\n",
              "      <td>0</td>\n",
              "      <td>0</td>\n",
              "      <td>0</td>\n",
              "      <td>0</td>\n",
              "      <td>0</td>\n",
              "      <td>0</td>\n",
              "      <td>0</td>\n",
              "      <td>0</td>\n",
              "      <td>0</td>\n",
              "      <td>0</td>\n",
              "      <td>1</td>\n",
              "      <td>0</td>\n",
              "      <td>0</td>\n",
              "      <td>0</td>\n",
              "      <td>0</td>\n",
              "      <td>0</td>\n",
              "      <td>0</td>\n",
              "      <td>0</td>\n",
              "      <td>0</td>\n",
              "      <td>0</td>\n",
              "      <td>0</td>\n",
              "      <td>0</td>\n",
              "      <td>0</td>\n",
              "      <td>0</td>\n",
              "      <td>0</td>\n",
              "      <td>0</td>\n",
              "      <td>0</td>\n",
              "      <td>0</td>\n",
              "      <td>0</td>\n",
              "      <td>0</td>\n",
              "      <td>0</td>\n",
              "      <td>1</td>\n",
              "      <td>0</td>\n",
              "      <td>0</td>\n",
              "      <td>1</td>\n",
              "    </tr>\n",
              "    <tr>\n",
              "      <th>10884</th>\n",
              "      <td>13.94</td>\n",
              "      <td>17.425</td>\n",
              "      <td>61</td>\n",
              "      <td>6.0032</td>\n",
              "      <td>12</td>\n",
              "      <td>117</td>\n",
              "      <td>129</td>\n",
              "      <td>0</td>\n",
              "      <td>0</td>\n",
              "      <td>1</td>\n",
              "      <td>0</td>\n",
              "      <td>0</td>\n",
              "      <td>0</td>\n",
              "      <td>0</td>\n",
              "      <td>0</td>\n",
              "      <td>0</td>\n",
              "      <td>0</td>\n",
              "      <td>0</td>\n",
              "      <td>0</td>\n",
              "      <td>0</td>\n",
              "      <td>0</td>\n",
              "      <td>0</td>\n",
              "      <td>0</td>\n",
              "      <td>0</td>\n",
              "      <td>1</td>\n",
              "      <td>0</td>\n",
              "      <td>0</td>\n",
              "      <td>0</td>\n",
              "      <td>0</td>\n",
              "      <td>0</td>\n",
              "      <td>0</td>\n",
              "      <td>0</td>\n",
              "      <td>0</td>\n",
              "      <td>0</td>\n",
              "      <td>0</td>\n",
              "      <td>0</td>\n",
              "      <td>0</td>\n",
              "      <td>0</td>\n",
              "      <td>0</td>\n",
              "      <td>0</td>\n",
              "      <td>0</td>\n",
              "      <td>0</td>\n",
              "      <td>0</td>\n",
              "      <td>0</td>\n",
              "      <td>0</td>\n",
              "      <td>0</td>\n",
              "      <td>1</td>\n",
              "      <td>0</td>\n",
              "      <td>1</td>\n",
              "    </tr>\n",
              "    <tr>\n",
              "      <th>10885</th>\n",
              "      <td>13.12</td>\n",
              "      <td>16.665</td>\n",
              "      <td>66</td>\n",
              "      <td>8.9981</td>\n",
              "      <td>4</td>\n",
              "      <td>84</td>\n",
              "      <td>88</td>\n",
              "      <td>0</td>\n",
              "      <td>0</td>\n",
              "      <td>1</td>\n",
              "      <td>0</td>\n",
              "      <td>0</td>\n",
              "      <td>0</td>\n",
              "      <td>0</td>\n",
              "      <td>0</td>\n",
              "      <td>0</td>\n",
              "      <td>0</td>\n",
              "      <td>0</td>\n",
              "      <td>0</td>\n",
              "      <td>0</td>\n",
              "      <td>0</td>\n",
              "      <td>0</td>\n",
              "      <td>0</td>\n",
              "      <td>0</td>\n",
              "      <td>1</td>\n",
              "      <td>0</td>\n",
              "      <td>0</td>\n",
              "      <td>0</td>\n",
              "      <td>0</td>\n",
              "      <td>0</td>\n",
              "      <td>0</td>\n",
              "      <td>0</td>\n",
              "      <td>0</td>\n",
              "      <td>0</td>\n",
              "      <td>0</td>\n",
              "      <td>0</td>\n",
              "      <td>0</td>\n",
              "      <td>0</td>\n",
              "      <td>0</td>\n",
              "      <td>0</td>\n",
              "      <td>0</td>\n",
              "      <td>0</td>\n",
              "      <td>0</td>\n",
              "      <td>0</td>\n",
              "      <td>0</td>\n",
              "      <td>0</td>\n",
              "      <td>0</td>\n",
              "      <td>1</td>\n",
              "      <td>1</td>\n",
              "    </tr>\n",
              "  </tbody>\n",
              "</table>\n",
              "<p>10886 rows × 49 columns</p>\n",
              "</div>\n",
              "      <button class=\"colab-df-convert\" onclick=\"convertToInteractive('df-f388a418-6c0c-492e-82e2-d26fbcad236b')\"\n",
              "              title=\"Convert this dataframe to an interactive table.\"\n",
              "              style=\"display:none;\">\n",
              "        \n",
              "  <svg xmlns=\"http://www.w3.org/2000/svg\" height=\"24px\"viewBox=\"0 0 24 24\"\n",
              "       width=\"24px\">\n",
              "    <path d=\"M0 0h24v24H0V0z\" fill=\"none\"/>\n",
              "    <path d=\"M18.56 5.44l.94 2.06.94-2.06 2.06-.94-2.06-.94-.94-2.06-.94 2.06-2.06.94zm-11 1L8.5 8.5l.94-2.06 2.06-.94-2.06-.94L8.5 2.5l-.94 2.06-2.06.94zm10 10l.94 2.06.94-2.06 2.06-.94-2.06-.94-.94-2.06-.94 2.06-2.06.94z\"/><path d=\"M17.41 7.96l-1.37-1.37c-.4-.4-.92-.59-1.43-.59-.52 0-1.04.2-1.43.59L10.3 9.45l-7.72 7.72c-.78.78-.78 2.05 0 2.83L4 21.41c.39.39.9.59 1.41.59.51 0 1.02-.2 1.41-.59l7.78-7.78 2.81-2.81c.8-.78.8-2.07 0-2.86zM5.41 20L4 18.59l7.72-7.72 1.47 1.35L5.41 20z\"/>\n",
              "  </svg>\n",
              "      </button>\n",
              "      \n",
              "  <style>\n",
              "    .colab-df-container {\n",
              "      display:flex;\n",
              "      flex-wrap:wrap;\n",
              "      gap: 12px;\n",
              "    }\n",
              "\n",
              "    .colab-df-convert {\n",
              "      background-color: #E8F0FE;\n",
              "      border: none;\n",
              "      border-radius: 50%;\n",
              "      cursor: pointer;\n",
              "      display: none;\n",
              "      fill: #1967D2;\n",
              "      height: 32px;\n",
              "      padding: 0 0 0 0;\n",
              "      width: 32px;\n",
              "    }\n",
              "\n",
              "    .colab-df-convert:hover {\n",
              "      background-color: #E2EBFA;\n",
              "      box-shadow: 0px 1px 2px rgba(60, 64, 67, 0.3), 0px 1px 3px 1px rgba(60, 64, 67, 0.15);\n",
              "      fill: #174EA6;\n",
              "    }\n",
              "\n",
              "    [theme=dark] .colab-df-convert {\n",
              "      background-color: #3B4455;\n",
              "      fill: #D2E3FC;\n",
              "    }\n",
              "\n",
              "    [theme=dark] .colab-df-convert:hover {\n",
              "      background-color: #434B5C;\n",
              "      box-shadow: 0px 1px 3px 1px rgba(0, 0, 0, 0.15);\n",
              "      filter: drop-shadow(0px 1px 2px rgba(0, 0, 0, 0.3));\n",
              "      fill: #FFFFFF;\n",
              "    }\n",
              "  </style>\n",
              "\n",
              "      <script>\n",
              "        const buttonEl =\n",
              "          document.querySelector('#df-f388a418-6c0c-492e-82e2-d26fbcad236b button.colab-df-convert');\n",
              "        buttonEl.style.display =\n",
              "          google.colab.kernel.accessAllowed ? 'block' : 'none';\n",
              "\n",
              "        async function convertToInteractive(key) {\n",
              "          const element = document.querySelector('#df-f388a418-6c0c-492e-82e2-d26fbcad236b');\n",
              "          const dataTable =\n",
              "            await google.colab.kernel.invokeFunction('convertToInteractive',\n",
              "                                                     [key], {});\n",
              "          if (!dataTable) return;\n",
              "\n",
              "          const docLinkHtml = 'Like what you see? Visit the ' +\n",
              "            '<a target=\"_blank\" href=https://colab.research.google.com/notebooks/data_table.ipynb>data table notebook</a>'\n",
              "            + ' to learn more about interactive tables.';\n",
              "          element.innerHTML = '';\n",
              "          dataTable['output_type'] = 'display_data';\n",
              "          await google.colab.output.renderOutput(dataTable, element);\n",
              "          const docLink = document.createElement('div');\n",
              "          docLink.innerHTML = docLinkHtml;\n",
              "          element.appendChild(docLink);\n",
              "        }\n",
              "      </script>\n",
              "    </div>\n",
              "  </div>\n",
              "  "
            ],
            "text/plain": [
              "        temp   atemp  humidity  ...  time_22  time_23  workingday_1\n",
              "0       9.84  14.395        81  ...        0        0             0\n",
              "1       9.02  13.635        80  ...        0        0             0\n",
              "2       9.02  13.635        80  ...        0        0             0\n",
              "3       9.84  14.395        75  ...        0        0             0\n",
              "4       9.84  14.395        75  ...        0        0             0\n",
              "...      ...     ...       ...  ...      ...      ...           ...\n",
              "10881  15.58  19.695        50  ...        0        0             1\n",
              "10882  14.76  17.425        57  ...        0        0             1\n",
              "10883  13.94  15.910        61  ...        0        0             1\n",
              "10884  13.94  17.425        61  ...        1        0             1\n",
              "10885  13.12  16.665        66  ...        0        1             1\n",
              "\n",
              "[10886 rows x 49 columns]"
            ]
          },
          "metadata": {},
          "execution_count": 39
        }
      ]
    },
    {
      "cell_type": "code",
      "source": [
        "train_oh.hist()"
      ],
      "metadata": {
        "colab": {
          "base_uri": "https://localhost:8080/",
          "height": 1000
        },
        "id": "ckBc27nZ9ikB",
        "outputId": "c90cfba9-dced-4f3b-8e21-2d63c777f504"
      },
      "execution_count": 42,
      "outputs": [
        {
          "output_type": "execute_result",
          "data": {
            "text/plain": [
              "array([[<matplotlib.axes._subplots.AxesSubplot object at 0x7f7ed18cbcd0>,\n",
              "        <matplotlib.axes._subplots.AxesSubplot object at 0x7f7ed18e7f10>,\n",
              "        <matplotlib.axes._subplots.AxesSubplot object at 0x7f7ed1898550>,\n",
              "        <matplotlib.axes._subplots.AxesSubplot object at 0x7f7ed184db50>,\n",
              "        <matplotlib.axes._subplots.AxesSubplot object at 0x7f7ed180e190>,\n",
              "        <matplotlib.axes._subplots.AxesSubplot object at 0x7f7ed17c5790>,\n",
              "        <matplotlib.axes._subplots.AxesSubplot object at 0x7f7ed17f8e10>],\n",
              "       [<matplotlib.axes._subplots.AxesSubplot object at 0x7f7ed17b3d50>,\n",
              "        <matplotlib.axes._subplots.AxesSubplot object at 0x7f7ed17b3d90>,\n",
              "        <matplotlib.axes._subplots.AxesSubplot object at 0x7f7ed17763d0>,\n",
              "        <matplotlib.axes._subplots.AxesSubplot object at 0x7f7ed16e3cd0>,\n",
              "        <matplotlib.axes._subplots.AxesSubplot object at 0x7f7ed16a6210>,\n",
              "        <matplotlib.axes._subplots.AxesSubplot object at 0x7f7ed165c710>,\n",
              "        <matplotlib.axes._subplots.AxesSubplot object at 0x7f7ed1613c10>],\n",
              "       [<matplotlib.axes._subplots.AxesSubplot object at 0x7f7ed15d4150>,\n",
              "        <matplotlib.axes._subplots.AxesSubplot object at 0x7f7ed158a650>,\n",
              "        <matplotlib.axes._subplots.AxesSubplot object at 0x7f7ed15bfb50>,\n",
              "        <matplotlib.axes._subplots.AxesSubplot object at 0x7f7ed156bb90>,\n",
              "        <matplotlib.axes._subplots.AxesSubplot object at 0x7f7ed1537590>,\n",
              "        <matplotlib.axes._subplots.AxesSubplot object at 0x7f7ed14eea90>,\n",
              "        <matplotlib.axes._subplots.AxesSubplot object at 0x7f7ed14a5f90>],\n",
              "       [<matplotlib.axes._subplots.AxesSubplot object at 0x7f7ed14664d0>,\n",
              "        <matplotlib.axes._subplots.AxesSubplot object at 0x7f7ed141d9d0>,\n",
              "        <matplotlib.axes._subplots.AxesSubplot object at 0x7f7ed13d3ed0>,\n",
              "        <matplotlib.axes._subplots.AxesSubplot object at 0x7f7ed1393410>,\n",
              "        <matplotlib.axes._subplots.AxesSubplot object at 0x7f7ed134b910>,\n",
              "        <matplotlib.axes._subplots.AxesSubplot object at 0x7f7ed1381e10>,\n",
              "        <matplotlib.axes._subplots.AxesSubplot object at 0x7f7ed12c5350>],\n",
              "       [<matplotlib.axes._subplots.AxesSubplot object at 0x7f7ed12fa850>,\n",
              "        <matplotlib.axes._subplots.AxesSubplot object at 0x7f7ed12aed50>,\n",
              "        <matplotlib.axes._subplots.AxesSubplot object at 0x7f7ed1272290>,\n",
              "        <matplotlib.axes._subplots.AxesSubplot object at 0x7f7ed1227790>,\n",
              "        <matplotlib.axes._subplots.AxesSubplot object at 0x7f7ed11dec90>,\n",
              "        <matplotlib.axes._subplots.AxesSubplot object at 0x7f7ed11a01d0>,\n",
              "        <matplotlib.axes._subplots.AxesSubplot object at 0x7f7ed11566d0>],\n",
              "       [<matplotlib.axes._subplots.AxesSubplot object at 0x7f7ed110bbd0>,\n",
              "        <matplotlib.axes._subplots.AxesSubplot object at 0x7f7ed10d1110>,\n",
              "        <matplotlib.axes._subplots.AxesSubplot object at 0x7f7ed1084610>,\n",
              "        <matplotlib.axes._subplots.AxesSubplot object at 0x7f7ed10bab10>,\n",
              "        <matplotlib.axes._subplots.AxesSubplot object at 0x7f7ed1071fd0>,\n",
              "        <matplotlib.axes._subplots.AxesSubplot object at 0x7f7ed1033550>,\n",
              "        <matplotlib.axes._subplots.AxesSubplot object at 0x7f7ed0fe9a50>],\n",
              "       [<matplotlib.axes._subplots.AxesSubplot object at 0x7f7ed0f9ef50>,\n",
              "        <matplotlib.axes._subplots.AxesSubplot object at 0x7f7ed0f62490>,\n",
              "        <matplotlib.axes._subplots.AxesSubplot object at 0x7f7ed0f17990>,\n",
              "        <matplotlib.axes._subplots.AxesSubplot object at 0x7f7ed0ecde90>,\n",
              "        <matplotlib.axes._subplots.AxesSubplot object at 0x7f7ed0e903d0>,\n",
              "        <matplotlib.axes._subplots.AxesSubplot object at 0x7f7ed0e478d0>,\n",
              "        <matplotlib.axes._subplots.AxesSubplot object at 0x7f7ed0e7add0>]],\n",
              "      dtype=object)"
            ]
          },
          "metadata": {},
          "execution_count": 42
        },
        {
          "output_type": "display_data",
          "data": {
            "image/png": "[encoded data removed]",
            "text/plain": [
              "<Figure size 432x288 with 49 Axes>"
            ]
          },
          "metadata": {
            "needs_background": "light"
          }
        }
      ]
    },
    {
      "cell_type": "code",
      "source": [
        "train=train_oh\n",
        "train.hist()"
      ],
      "metadata": {
        "colab": {
          "base_uri": "https://localhost:8080/",
          "height": 1000
        },
        "id": "gPAb0pf1-7ws",
        "outputId": "959dc2ca-d98c-4889-8fe7-1796412a3c09"
      },
      "execution_count": 44,
      "outputs": [
        {
          "output_type": "execute_result",
          "data": {
            "text/plain": [
              "array([[<matplotlib.axes._subplots.AxesSubplot object at 0x7f7ed05dce50>,\n",
              "        <matplotlib.axes._subplots.AxesSubplot object at 0x7f7ed05ba7d0>,\n",
              "        <matplotlib.axes._subplots.AxesSubplot object at 0x7f7ed053b410>,\n",
              "        <matplotlib.axes._subplots.AxesSubplot object at 0x7f7ed04d9590>,\n",
              "        <matplotlib.axes._subplots.AxesSubplot object at 0x7f7ed04eda90>,\n",
              "        <matplotlib.axes._subplots.AxesSubplot object at 0x7f7ed04fff90>,\n",
              "        <matplotlib.axes._subplots.AxesSubplot object at 0x7f7ed04be550>],\n",
              "       [<matplotlib.axes._subplots.AxesSubplot object at 0x7f7ed0473990>,\n",
              "        <matplotlib.axes._subplots.AxesSubplot object at 0x7f7ed04739d0>,\n",
              "        <matplotlib.axes._subplots.AxesSubplot object at 0x7f7ed0428fd0>,\n",
              "        <matplotlib.axes._subplots.AxesSubplot object at 0x7f7ed03a0910>,\n",
              "        <matplotlib.axes._subplots.AxesSubplot object at 0x7f7ed0358e10>,\n",
              "        <matplotlib.axes._subplots.AxesSubplot object at 0x7f7ed031a350>,\n",
              "        <matplotlib.axes._subplots.AxesSubplot object at 0x7f7ed02cf850>],\n",
              "       [<matplotlib.axes._subplots.AxesSubplot object at 0x7f7ed0285d50>,\n",
              "        <matplotlib.axes._subplots.AxesSubplot object at 0x7f7ed0247290>,\n",
              "        <matplotlib.axes._subplots.AxesSubplot object at 0x7f7ed027e790>,\n",
              "        <matplotlib.axes._subplots.AxesSubplot object at 0x7f7ed0234c90>,\n",
              "        <matplotlib.axes._subplots.AxesSubplot object at 0x7f7ed01f61d0>,\n",
              "        <matplotlib.axes._subplots.AxesSubplot object at 0x7f7ed01ac6d0>,\n",
              "        <matplotlib.axes._subplots.AxesSubplot object at 0x7f7ed0162bd0>],\n",
              "       [<matplotlib.axes._subplots.AxesSubplot object at 0x7f7ed0125110>,\n",
              "        <matplotlib.axes._subplots.AxesSubplot object at 0x7f7ed00da610>,\n",
              "        <matplotlib.axes._subplots.AxesSubplot object at 0x7f7ed0090b10>,\n",
              "        <matplotlib.axes._subplots.AxesSubplot object at 0x7f7ed0048fd0>,\n",
              "        <matplotlib.axes._subplots.AxesSubplot object at 0x7f7ed000a550>,\n",
              "        <matplotlib.axes._subplots.AxesSubplot object at 0x7f7ed003da50>,\n",
              "        <matplotlib.axes._subplots.AxesSubplot object at 0x7f7ecfff5f50>],\n",
              "       [<matplotlib.axes._subplots.AxesSubplot object at 0x7f7ecffb8490>,\n",
              "        <matplotlib.axes._subplots.AxesSubplot object at 0x7f7ecff6d990>,\n",
              "        <matplotlib.axes._subplots.AxesSubplot object at 0x7f7ecff24e90>,\n",
              "        <matplotlib.axes._subplots.AxesSubplot object at 0x7f7ed7a112d0>,\n",
              "        <matplotlib.axes._subplots.AxesSubplot object at 0x7f7ed07c0490>,\n",
              "        <matplotlib.axes._subplots.AxesSubplot object at 0x7f7ed1a6c9d0>,\n",
              "        <matplotlib.axes._subplots.AxesSubplot object at 0x7f7ed0dbab10>],\n",
              "       [<matplotlib.axes._subplots.AxesSubplot object at 0x7f7ecfedded0>,\n",
              "        <matplotlib.axes._subplots.AxesSubplot object at 0x7f7ecfdc7cd0>,\n",
              "        <matplotlib.axes._subplots.AxesSubplot object at 0x7f7ecfe02390>,\n",
              "        <matplotlib.axes._subplots.AxesSubplot object at 0x7f7ecfdb5990>,\n",
              "        <matplotlib.axes._subplots.AxesSubplot object at 0x7f7ecfd6bf90>,\n",
              "        <matplotlib.axes._subplots.AxesSubplot object at 0x7f7ecfd2e5d0>,\n",
              "        <matplotlib.axes._subplots.AxesSubplot object at 0x7f7ecfce2bd0>],\n",
              "       [<matplotlib.axes._subplots.AxesSubplot object at 0x7f7ecfca4210>,\n",
              "        <matplotlib.axes._subplots.AxesSubplot object at 0x7f7ecfc5c810>,\n",
              "        <matplotlib.axes._subplots.AxesSubplot object at 0x7f7ecfc13e10>,\n",
              "        <matplotlib.axes._subplots.AxesSubplot object at 0x7f7ecfbd6450>,\n",
              "        <matplotlib.axes._subplots.AxesSubplot object at 0x7f7ecfb8ba50>,\n",
              "        <matplotlib.axes._subplots.AxesSubplot object at 0x7f7ecfbb8b90>,\n",
              "        <matplotlib.axes._subplots.AxesSubplot object at 0x7f7ecfb04690>]],\n",
              "      dtype=object)"
            ]
          },
          "metadata": {},
          "execution_count": 44
        },
        {
          "output_type": "display_data",
          "data": {
            "image/png": "[encoded data removed]",
            "text/plain": [
              "<Figure size 432x288 with 49 Axes>"
            ]
          },
          "metadata": {
            "needs_background": "light"
          }
        }
      ]
    },
    {
      "cell_type": "code",
      "source": [
        "predictor= TabularPredictor(label =\"count\").fit(train_data = train, verbosity = 2,presets='best_quality')"
      ],
      "metadata": {
        "colab": {
          "base_uri": "https://localhost:8080/"
        },
        "id": "3kQN8zQ1-noH",
        "outputId": "1577894c-b933-4c86-f562-82a897d8b1bf"
      },
      "execution_count": 45,
      "outputs": [
        {
          "metadata": {
            "tags": null
          },
          "name": "stderr",
          "output_type": "stream",
          "text": [
            "No path specified. Models will be saved in: \"AutogluonModels/ag-20220117_122159/\"\n",
            "Presets specified: ['best_quality']\n",
            "Beginning AutoGluon training ...\n",
            "AutoGluon will save models to \"AutogluonModels/ag-20220117_122159/\"\n",
            "AutoGluon Version:  0.3.1\n",
            "Train Data Rows:    10886\n",
            "Train Data Columns: 48\n",
            "Preprocessing data ...\n",
            "AutoGluon infers your prediction problem is: 'regression' (because dtype of label-column == int and many unique label-values observed).\n",
            "\tLabel info (max, min, mean, stddev): (977, 1, 191.57413, 181.14445)\n",
            "\tIf 'regression' is not the correct problem_type, please manually specify the problem_type argument in fit() (You may specify problem_type as one of: ['binary', 'multiclass', 'regression'])\n",
            "Using Feature Generators to preprocess the data ...\n",
            "Fitting AutoMLPipelineFeatureGenerator...\n",
            "\tAvailable Memory:                    12450.6 MB\n",
            "\tTrain Data (Original)  Memory Usage: 0.98 MB (0.0% of available memory)\n",
            "\tInferring data type of each feature based on column values. Set feature_metadata_in to manually specify special dtypes of the features.\n",
            "\tStage 1 Generators:\n",
            "\t\tFitting AsTypeFeatureGenerator...\n",
            "\t\t\tNote: Converting 42 features to boolean dtype as they only contain 2 unique values.\n",
            "NumExpr defaulting to 2 threads.\n",
            "\tStage 2 Generators:\n",
            "\t\tFitting FillNaFeatureGenerator...\n",
            "\tStage 3 Generators:\n",
            "\t\tFitting IdentityFeatureGenerator...\n",
            "\tStage 4 Generators:\n",
            "\t\tFitting DropUniqueFeatureGenerator...\n",
            "\tTypes of features in original data (raw dtype, special dtypes):\n",
            "\t\t('float', []) :  3 | ['temp', 'atemp', 'windspeed']\n",
            "\t\t('int', [])   : 45 | ['humidity', 'casual', 'registered', 'season_2', 'season_3', ...]\n",
            "\tTypes of features in processed data (raw dtype, special dtypes):\n",
            "\t\t('float', [])     :  3 | ['temp', 'atemp', 'windspeed']\n",
            "\t\t('int', [])       :  3 | ['humidity', 'casual', 'registered']\n",
            "\t\t('int', ['bool']) : 42 | ['season_2', 'season_3', 'season_4', 'holiday_1', 'weather_2', ...]\n",
            "\t0.3s = Fit runtime\n",
            "\t48 features in original data used to generate 48 features in processed data.\n",
            "\tTrain Data (Processed) Memory Usage: 0.98 MB (0.0% of available memory)\n",
            "Data preprocessing and feature engineering runtime = 0.38s ...\n",
            "AutoGluon will gauge predictive performance using evaluation metric: 'root_mean_squared_error'\n",
            "\tTo change this, specify the eval_metric argument of fit()\n",
            "AutoGluon will fit 2 stack levels (L1 to L2) ...\n",
            "Fitting 11 L1 models ...\n",
            "Fitting model: KNeighborsUnif_BAG_L1 ...\n",
            "\t-3.8734\t = Validation score   (root_mean_squared_error)\n",
            "\t0.02s\t = Training   runtime\n",
            "\t0.21s\t = Validation runtime\n",
            "Fitting model: KNeighborsDist_BAG_L1 ...\n",
            "\t-3.6718\t = Validation score   (root_mean_squared_error)\n",
            "\t0.02s\t = Training   runtime\n",
            "\t0.21s\t = Validation runtime\n",
            "Fitting model: LightGBMXT_BAG_L1 ...\n",
            "/usr/local/lib/python3.7/dist-packages/lightgbm/engine.py:239: UserWarning: 'verbose_eval' argument is deprecated and will be removed in a future release of LightGBM. Pass 'log_evaluation()' callback via 'callbacks' argument instead.\n",
            "  _log_warning(\"'verbose_eval' argument is deprecated and will be removed in a future release of LightGBM. \"\n"
          ]
        },
        {
          "metadata": {
            "tags": null
          },
          "name": "stdout",
          "output_type": "stream",
          "text": [
            "[1000]\ttrain_set's rmse: 3.5291\tvalid_set's rmse: 5.23732\n",
            "[2000]\ttrain_set's rmse: 2.4715\tvalid_set's rmse: 4.57927\n",
            "[3000]\ttrain_set's rmse: 1.94485\tvalid_set's rmse: 4.33534\n",
            "[4000]\ttrain_set's rmse: 1.61099\tvalid_set's rmse: 4.22917\n",
            "[5000]\ttrain_set's rmse: 1.37612\tvalid_set's rmse: 4.17491\n",
            "[6000]\ttrain_set's rmse: 1.19156\tvalid_set's rmse: 4.14066\n",
            "[7000]\ttrain_set's rmse: 1.04698\tvalid_set's rmse: 4.1081\n",
            "[8000]\ttrain_set's rmse: 0.9288\tvalid_set's rmse: 4.09685\n",
            "[9000]\ttrain_set's rmse: 0.830444\tvalid_set's rmse: 4.08484\n",
            "[10000]\ttrain_set's rmse: 0.749589\tvalid_set's rmse: 4.07855\n"
          ]
        },
        {
          "metadata": {
            "tags": null
          },
          "name": "stderr",
          "output_type": "stream",
          "text": [
            "/usr/local/lib/python3.7/dist-packages/lightgbm/engine.py:239: UserWarning: 'verbose_eval' argument is deprecated and will be removed in a future release of LightGBM. Pass 'log_evaluation()' callback via 'callbacks' argument instead.\n",
            "  _log_warning(\"'verbose_eval' argument is deprecated and will be removed in a future release of LightGBM. \"\n"
          ]
        },
        {
          "metadata": {
            "tags": null
          },
          "name": "stdout",
          "output_type": "stream",
          "text": [
            "[1000]\ttrain_set's rmse: 3.67619\tvalid_set's rmse: 6.00644\n",
            "[2000]\ttrain_set's rmse: 2.59731\tvalid_set's rmse: 5.25526\n",
            "[3000]\ttrain_set's rmse: 2.0756\tvalid_set's rmse: 4.99892\n",
            "[4000]\ttrain_set's rmse: 1.73358\tvalid_set's rmse: 4.88006\n",
            "[5000]\ttrain_set's rmse: 1.47988\tvalid_set's rmse: 4.83429\n",
            "[6000]\ttrain_set's rmse: 1.28827\tvalid_set's rmse: 4.81244\n",
            "[7000]\ttrain_set's rmse: 1.13938\tvalid_set's rmse: 4.8014\n",
            "[8000]\ttrain_set's rmse: 1.01328\tvalid_set's rmse: 4.79735\n",
            "[9000]\ttrain_set's rmse: 0.907616\tvalid_set's rmse: 4.78961\n",
            "[10000]\ttrain_set's rmse: 0.818467\tvalid_set's rmse: 4.78495\n"
          ]
        },
        {
          "metadata": {
            "tags": null
          },
          "name": "stderr",
          "output_type": "stream",
          "text": [
            "/usr/local/lib/python3.7/dist-packages/lightgbm/engine.py:239: UserWarning: 'verbose_eval' argument is deprecated and will be removed in a future release of LightGBM. Pass 'log_evaluation()' callback via 'callbacks' argument instead.\n",
            "  _log_warning(\"'verbose_eval' argument is deprecated and will be removed in a future release of LightGBM. \"\n"
          ]
        },
        {
          "metadata": {
            "tags": null
          },
          "name": "stdout",
          "output_type": "stream",
          "text": [
            "[1000]\ttrain_set's rmse: 3.5965\tvalid_set's rmse: 5.32757\n",
            "[2000]\ttrain_set's rmse: 2.50391\tvalid_set's rmse: 4.69219\n",
            "[3000]\ttrain_set's rmse: 1.97965\tvalid_set's rmse: 4.47111\n",
            "[4000]\ttrain_set's rmse: 1.64555\tvalid_set's rmse: 4.36476\n",
            "[5000]\ttrain_set's rmse: 1.40729\tvalid_set's rmse: 4.29775\n",
            "[6000]\ttrain_set's rmse: 1.22663\tvalid_set's rmse: 4.24974\n",
            "[7000]\ttrain_set's rmse: 1.08256\tvalid_set's rmse: 4.215\n",
            "[8000]\ttrain_set's rmse: 0.962963\tvalid_set's rmse: 4.19163\n",
            "[9000]\ttrain_set's rmse: 0.86407\tvalid_set's rmse: 4.17307\n",
            "[10000]\ttrain_set's rmse: 0.780415\tvalid_set's rmse: 4.15552\n"
          ]
        },
        {
          "metadata": {
            "tags": null
          },
          "name": "stderr",
          "output_type": "stream",
          "text": [
            "/usr/local/lib/python3.7/dist-packages/lightgbm/engine.py:239: UserWarning: 'verbose_eval' argument is deprecated and will be removed in a future release of LightGBM. Pass 'log_evaluation()' callback via 'callbacks' argument instead.\n",
            "  _log_warning(\"'verbose_eval' argument is deprecated and will be removed in a future release of LightGBM. \"\n"
          ]
        },
        {
          "metadata": {
            "tags": null
          },
          "name": "stdout",
          "output_type": "stream",
          "text": [
            "[1000]\ttrain_set's rmse: 3.6039\tvalid_set's rmse: 6.73067\n",
            "[2000]\ttrain_set's rmse: 2.56378\tvalid_set's rmse: 6.22213\n",
            "[3000]\ttrain_set's rmse: 2.0395\tvalid_set's rmse: 6.04624\n",
            "[4000]\ttrain_set's rmse: 1.70408\tvalid_set's rmse: 5.95209\n",
            "[5000]\ttrain_set's rmse: 1.46801\tvalid_set's rmse: 5.90878\n",
            "[6000]\ttrain_set's rmse: 1.28011\tvalid_set's rmse: 5.88785\n",
            "[7000]\ttrain_set's rmse: 1.13164\tvalid_set's rmse: 5.87525\n",
            "[8000]\ttrain_set's rmse: 1.011\tvalid_set's rmse: 5.85839\n",
            "[9000]\ttrain_set's rmse: 0.910784\tvalid_set's rmse: 5.85131\n",
            "[10000]\ttrain_set's rmse: 0.825093\tvalid_set's rmse: 5.84625\n"
          ]
        },
        {
          "metadata": {
            "tags": null
          },
          "name": "stderr",
          "output_type": "stream",
          "text": [
            "/usr/local/lib/python3.7/dist-packages/lightgbm/engine.py:239: UserWarning: 'verbose_eval' argument is deprecated and will be removed in a future release of LightGBM. Pass 'log_evaluation()' callback via 'callbacks' argument instead.\n",
            "  _log_warning(\"'verbose_eval' argument is deprecated and will be removed in a future release of LightGBM. \"\n"
          ]
        },
        {
          "metadata": {
            "tags": null
          },
          "name": "stdout",
          "output_type": "stream",
          "text": [
            "[1000]\ttrain_set's rmse: 3.56197\tvalid_set's rmse: 4.81294\n",
            "[2000]\ttrain_set's rmse: 2.53556\tvalid_set's rmse: 4.42635\n",
            "[3000]\ttrain_set's rmse: 1.99581\tvalid_set's rmse: 4.33163\n",
            "[4000]\ttrain_set's rmse: 1.65391\tvalid_set's rmse: 4.30368\n",
            "[5000]\ttrain_set's rmse: 1.40924\tvalid_set's rmse: 4.29548\n",
            "[6000]\ttrain_set's rmse: 1.22367\tvalid_set's rmse: 4.29047\n"
          ]
        },
        {
          "metadata": {
            "tags": null
          },
          "name": "stderr",
          "output_type": "stream",
          "text": [
            "/usr/local/lib/python3.7/dist-packages/lightgbm/engine.py:239: UserWarning: 'verbose_eval' argument is deprecated and will be removed in a future release of LightGBM. Pass 'log_evaluation()' callback via 'callbacks' argument instead.\n",
            "  _log_warning(\"'verbose_eval' argument is deprecated and will be removed in a future release of LightGBM. \"\n"
          ]
        },
        {
          "metadata": {
            "tags": null
          },
          "name": "stdout",
          "output_type": "stream",
          "text": [
            "[1000]\ttrain_set's rmse: 3.4989\tvalid_set's rmse: 5.66885\n",
            "[2000]\ttrain_set's rmse: 2.46129\tvalid_set's rmse: 5.14569\n",
            "[3000]\ttrain_set's rmse: 1.96578\tvalid_set's rmse: 4.95681\n",
            "[4000]\ttrain_set's rmse: 1.63596\tvalid_set's rmse: 4.85436\n",
            "[5000]\ttrain_set's rmse: 1.39708\tvalid_set's rmse: 4.80242\n",
            "[6000]\ttrain_set's rmse: 1.21669\tvalid_set's rmse: 4.78304\n",
            "[7000]\ttrain_set's rmse: 1.07122\tvalid_set's rmse: 4.76645\n",
            "[8000]\ttrain_set's rmse: 0.950701\tvalid_set's rmse: 4.75439\n",
            "[9000]\ttrain_set's rmse: 0.849091\tvalid_set's rmse: 4.74612\n",
            "[10000]\ttrain_set's rmse: 0.764626\tvalid_set's rmse: 4.73619\n"
          ]
        },
        {
          "metadata": {
            "tags": null
          },
          "name": "stderr",
          "output_type": "stream",
          "text": [
            "/usr/local/lib/python3.7/dist-packages/lightgbm/engine.py:239: UserWarning: 'verbose_eval' argument is deprecated and will be removed in a future release of LightGBM. Pass 'log_evaluation()' callback via 'callbacks' argument instead.\n",
            "  _log_warning(\"'verbose_eval' argument is deprecated and will be removed in a future release of LightGBM. \"\n"
          ]
        },
        {
          "metadata": {
            "tags": null
          },
          "name": "stdout",
          "output_type": "stream",
          "text": [
            "[1000]\ttrain_set's rmse: 3.65352\tvalid_set's rmse: 5.85591\n",
            "[2000]\ttrain_set's rmse: 2.58494\tvalid_set's rmse: 5.35733\n",
            "[3000]\ttrain_set's rmse: 2.0609\tvalid_set's rmse: 5.2229\n",
            "[4000]\ttrain_set's rmse: 1.71864\tvalid_set's rmse: 5.15866\n",
            "[5000]\ttrain_set's rmse: 1.47236\tvalid_set's rmse: 5.13131\n",
            "[6000]\ttrain_set's rmse: 1.27748\tvalid_set's rmse: 5.10722\n",
            "[7000]\ttrain_set's rmse: 1.12629\tvalid_set's rmse: 5.10044\n",
            "[8000]\ttrain_set's rmse: 1.00168\tvalid_set's rmse: 5.08639\n",
            "[9000]\ttrain_set's rmse: 0.898388\tvalid_set's rmse: 5.08076\n",
            "[10000]\ttrain_set's rmse: 0.809352\tvalid_set's rmse: 5.07438\n"
          ]
        },
        {
          "metadata": {
            "tags": null
          },
          "name": "stderr",
          "output_type": "stream",
          "text": [
            "/usr/local/lib/python3.7/dist-packages/lightgbm/engine.py:239: UserWarning: 'verbose_eval' argument is deprecated and will be removed in a future release of LightGBM. Pass 'log_evaluation()' callback via 'callbacks' argument instead.\n",
            "  _log_warning(\"'verbose_eval' argument is deprecated and will be removed in a future release of LightGBM. \"\n"
          ]
        },
        {
          "metadata": {
            "tags": null
          },
          "name": "stdout",
          "output_type": "stream",
          "text": [
            "[1000]\ttrain_set's rmse: 3.47365\tvalid_set's rmse: 5.27772\n",
            "[2000]\ttrain_set's rmse: 2.46346\tvalid_set's rmse: 4.86123\n",
            "[3000]\ttrain_set's rmse: 1.98186\tvalid_set's rmse: 4.73834\n",
            "[4000]\ttrain_set's rmse: 1.65441\tvalid_set's rmse: 4.65916\n",
            "[5000]\ttrain_set's rmse: 1.41973\tvalid_set's rmse: 4.62788\n",
            "[6000]\ttrain_set's rmse: 1.22687\tvalid_set's rmse: 4.60776\n",
            "[7000]\ttrain_set's rmse: 1.07753\tvalid_set's rmse: 4.59088\n",
            "[8000]\ttrain_set's rmse: 0.959117\tvalid_set's rmse: 4.58998\n"
          ]
        },
        {
          "metadata": {
            "tags": null
          },
          "name": "stderr",
          "output_type": "stream",
          "text": [
            "/usr/local/lib/python3.7/dist-packages/lightgbm/engine.py:239: UserWarning: 'verbose_eval' argument is deprecated and will be removed in a future release of LightGBM. Pass 'log_evaluation()' callback via 'callbacks' argument instead.\n",
            "  _log_warning(\"'verbose_eval' argument is deprecated and will be removed in a future release of LightGBM. \"\n"
          ]
        },
        {
          "metadata": {
            "tags": null
          },
          "name": "stdout",
          "output_type": "stream",
          "text": [
            "[1000]\ttrain_set's rmse: 3.48843\tvalid_set's rmse: 4.91044\n",
            "[2000]\ttrain_set's rmse: 2.47541\tvalid_set's rmse: 4.42035\n",
            "[3000]\ttrain_set's rmse: 1.96813\tvalid_set's rmse: 4.22927\n",
            "[4000]\ttrain_set's rmse: 1.64574\tvalid_set's rmse: 4.1346\n",
            "[5000]\ttrain_set's rmse: 1.40907\tvalid_set's rmse: 4.06683\n",
            "[6000]\ttrain_set's rmse: 1.23117\tvalid_set's rmse: 4.02801\n",
            "[7000]\ttrain_set's rmse: 1.0848\tvalid_set's rmse: 3.99256\n",
            "[8000]\ttrain_set's rmse: 0.966698\tvalid_set's rmse: 3.97044\n",
            "[9000]\ttrain_set's rmse: 0.866167\tvalid_set's rmse: 3.95227\n",
            "[10000]\ttrain_set's rmse: 0.781388\tvalid_set's rmse: 3.94018\n"
          ]
        },
        {
          "metadata": {
            "tags": null
          },
          "name": "stderr",
          "output_type": "stream",
          "text": [
            "/usr/local/lib/python3.7/dist-packages/lightgbm/engine.py:239: UserWarning: 'verbose_eval' argument is deprecated and will be removed in a future release of LightGBM. Pass 'log_evaluation()' callback via 'callbacks' argument instead.\n",
            "  _log_warning(\"'verbose_eval' argument is deprecated and will be removed in a future release of LightGBM. \"\n"
          ]
        },
        {
          "metadata": {
            "tags": null
          },
          "name": "stdout",
          "output_type": "stream",
          "text": [
            "[1000]\ttrain_set's rmse: 3.77167\tvalid_set's rmse: 4.97778\n",
            "[2000]\ttrain_set's rmse: 2.67867\tvalid_set's rmse: 4.46693\n",
            "[3000]\ttrain_set's rmse: 2.13751\tvalid_set's rmse: 4.28471\n",
            "[4000]\ttrain_set's rmse: 1.77579\tvalid_set's rmse: 4.17515\n",
            "[5000]\ttrain_set's rmse: 1.51642\tvalid_set's rmse: 4.11413\n",
            "[6000]\ttrain_set's rmse: 1.32012\tvalid_set's rmse: 4.08602\n",
            "[7000]\ttrain_set's rmse: 1.16303\tvalid_set's rmse: 4.06376\n",
            "[8000]\ttrain_set's rmse: 1.03406\tvalid_set's rmse: 4.04304\n",
            "[9000]\ttrain_set's rmse: 0.928224\tvalid_set's rmse: 4.03116\n",
            "[10000]\ttrain_set's rmse: 0.836352\tvalid_set's rmse: 4.02666\n"
          ]
        },
        {
          "metadata": {
            "tags": null
          },
          "name": "stderr",
          "output_type": "stream",
          "text": [
            "\t-4.5852\t = Validation score   (root_mean_squared_error)\n",
            "\t154.86s\t = Training   runtime\n",
            "\t24.51s\t = Validation runtime\n",
            "Fitting model: LightGBM_BAG_L1 ...\n",
            "/usr/local/lib/python3.7/dist-packages/lightgbm/engine.py:239: UserWarning: 'verbose_eval' argument is deprecated and will be removed in a future release of LightGBM. Pass 'log_evaluation()' callback via 'callbacks' argument instead.\n",
            "  _log_warning(\"'verbose_eval' argument is deprecated and will be removed in a future release of LightGBM. \"\n"
          ]
        },
        {
          "metadata": {
            "tags": null
          },
          "name": "stdout",
          "output_type": "stream",
          "text": [
            "[1000]\ttrain_set's rmse: 1.12806\tvalid_set's rmse: 2.8228\n"
          ]
        },
        {
          "metadata": {
            "tags": null
          },
          "name": "stderr",
          "output_type": "stream",
          "text": [
            "/usr/local/lib/python3.7/dist-packages/lightgbm/engine.py:239: UserWarning: 'verbose_eval' argument is deprecated and will be removed in a future release of LightGBM. Pass 'log_evaluation()' callback via 'callbacks' argument instead.\n",
            "  _log_warning(\"'verbose_eval' argument is deprecated and will be removed in a future release of LightGBM. \"\n",
            "/usr/local/lib/python3.7/dist-packages/lightgbm/engine.py:239: UserWarning: 'verbose_eval' argument is deprecated and will be removed in a future release of LightGBM. Pass 'log_evaluation()' callback via 'callbacks' argument instead.\n",
            "  _log_warning(\"'verbose_eval' argument is deprecated and will be removed in a future release of LightGBM. \"\n"
          ]
        },
        {
          "metadata": {
            "tags": null
          },
          "name": "stdout",
          "output_type": "stream",
          "text": [
            "[1000]\ttrain_set's rmse: 1.09532\tvalid_set's rmse: 3.25146\n"
          ]
        },
        {
          "metadata": {
            "tags": null
          },
          "name": "stderr",
          "output_type": "stream",
          "text": [
            "/usr/local/lib/python3.7/dist-packages/lightgbm/engine.py:239: UserWarning: 'verbose_eval' argument is deprecated and will be removed in a future release of LightGBM. Pass 'log_evaluation()' callback via 'callbacks' argument instead.\n",
            "  _log_warning(\"'verbose_eval' argument is deprecated and will be removed in a future release of LightGBM. \"\n",
            "/usr/local/lib/python3.7/dist-packages/lightgbm/engine.py:239: UserWarning: 'verbose_eval' argument is deprecated and will be removed in a future release of LightGBM. Pass 'log_evaluation()' callback via 'callbacks' argument instead.\n",
            "  _log_warning(\"'verbose_eval' argument is deprecated and will be removed in a future release of LightGBM. \"\n",
            "/usr/local/lib/python3.7/dist-packages/lightgbm/engine.py:239: UserWarning: 'verbose_eval' argument is deprecated and will be removed in a future release of LightGBM. Pass 'log_evaluation()' callback via 'callbacks' argument instead.\n",
            "  _log_warning(\"'verbose_eval' argument is deprecated and will be removed in a future release of LightGBM. \"\n"
          ]
        },
        {
          "metadata": {
            "tags": null
          },
          "name": "stdout",
          "output_type": "stream",
          "text": [
            "[1000]\ttrain_set's rmse: 1.04632\tvalid_set's rmse: 3.55532\n",
            "[2000]\ttrain_set's rmse: 0.630897\tvalid_set's rmse: 3.50304\n",
            "[3000]\ttrain_set's rmse: 0.426188\tvalid_set's rmse: 3.48754\n"
          ]
        },
        {
          "metadata": {
            "tags": null
          },
          "name": "stderr",
          "output_type": "stream",
          "text": [
            "/usr/local/lib/python3.7/dist-packages/lightgbm/engine.py:239: UserWarning: 'verbose_eval' argument is deprecated and will be removed in a future release of LightGBM. Pass 'log_evaluation()' callback via 'callbacks' argument instead.\n",
            "  _log_warning(\"'verbose_eval' argument is deprecated and will be removed in a future release of LightGBM. \"\n",
            "/usr/local/lib/python3.7/dist-packages/lightgbm/engine.py:239: UserWarning: 'verbose_eval' argument is deprecated and will be removed in a future release of LightGBM. Pass 'log_evaluation()' callback via 'callbacks' argument instead.\n",
            "  _log_warning(\"'verbose_eval' argument is deprecated and will be removed in a future release of LightGBM. \"\n",
            "/usr/local/lib/python3.7/dist-packages/lightgbm/engine.py:239: UserWarning: 'verbose_eval' argument is deprecated and will be removed in a future release of LightGBM. Pass 'log_evaluation()' callback via 'callbacks' argument instead.\n",
            "  _log_warning(\"'verbose_eval' argument is deprecated and will be removed in a future release of LightGBM. \"\n"
          ]
        },
        {
          "metadata": {
            "tags": null
          },
          "name": "stdout",
          "output_type": "stream",
          "text": [
            "[1000]\ttrain_set's rmse: 1.16635\tvalid_set's rmse: 2.46323\n"
          ]
        },
        {
          "metadata": {
            "tags": null
          },
          "name": "stderr",
          "output_type": "stream",
          "text": [
            "/usr/local/lib/python3.7/dist-packages/lightgbm/engine.py:239: UserWarning: 'verbose_eval' argument is deprecated and will be removed in a future release of LightGBM. Pass 'log_evaluation()' callback via 'callbacks' argument instead.\n",
            "  _log_warning(\"'verbose_eval' argument is deprecated and will be removed in a future release of LightGBM. \"\n"
          ]
        },
        {
          "metadata": {
            "tags": null
          },
          "name": "stdout",
          "output_type": "stream",
          "text": [
            "[1000]\ttrain_set's rmse: 1.16893\tvalid_set's rmse: 2.49303\n",
            "[2000]\ttrain_set's rmse: 0.724698\tvalid_set's rmse: 2.39551\n",
            "[3000]\ttrain_set's rmse: 0.517053\tvalid_set's rmse: 2.34691\n",
            "[4000]\ttrain_set's rmse: 0.392745\tvalid_set's rmse: 2.33022\n",
            "[5000]\ttrain_set's rmse: 0.313196\tvalid_set's rmse: 2.32325\n",
            "[6000]\ttrain_set's rmse: 0.25787\tvalid_set's rmse: 2.31876\n",
            "[7000]\ttrain_set's rmse: 0.211156\tvalid_set's rmse: 2.32084\n"
          ]
        },
        {
          "metadata": {
            "tags": null
          },
          "name": "stderr",
          "output_type": "stream",
          "text": [
            "\t-3.1433\t = Validation score   (root_mean_squared_error)\n",
            "\t36.48s\t = Training   runtime\n",
            "\t2.55s\t = Validation runtime\n",
            "Fitting model: RandomForestMSE_BAG_L1 ...\n",
            "\t-2.7735\t = Validation score   (root_mean_squared_error)\n",
            "\t15.28s\t = Training   runtime\n",
            "\t1.09s\t = Validation runtime\n",
            "Fitting model: CatBoost_BAG_L1 ...\n",
            "\t-3.234\t = Validation score   (root_mean_squared_error)\n",
            "\t113.02s\t = Training   runtime\n",
            "\t0.12s\t = Validation runtime\n",
            "Fitting model: ExtraTreesMSE_BAG_L1 ...\n",
            "\t-2.8868\t = Validation score   (root_mean_squared_error)\n",
            "\t10.73s\t = Training   runtime\n",
            "\t1.12s\t = Validation runtime\n",
            "Fitting model: NeuralNetFastAI_BAG_L1 ...\n",
            "\t-3.0643\t = Validation score   (root_mean_squared_error)\n",
            "\t198.67s\t = Training   runtime\n",
            "\t0.64s\t = Validation runtime\n",
            "Fitting model: XGBoost_BAG_L1 ...\n",
            "\t-4.9586\t = Validation score   (root_mean_squared_error)\n",
            "\t26.15s\t = Training   runtime\n",
            "\t0.25s\t = Validation runtime\n",
            "Fitting model: NeuralNetMXNet_BAG_L1 ...\n",
            "\t-4.106\t = Validation score   (root_mean_squared_error)\n",
            "\t1821.29s\t = Training   runtime\n",
            "\t6.81s\t = Validation runtime\n",
            "Fitting model: LightGBMLarge_BAG_L1 ...\n",
            "/usr/local/lib/python3.7/dist-packages/lightgbm/engine.py:239: UserWarning: 'verbose_eval' argument is deprecated and will be removed in a future release of LightGBM. Pass 'log_evaluation()' callback via 'callbacks' argument instead.\n",
            "  _log_warning(\"'verbose_eval' argument is deprecated and will be removed in a future release of LightGBM. \"\n"
          ]
        },
        {
          "metadata": {
            "tags": null
          },
          "name": "stdout",
          "output_type": "stream",
          "text": [
            "[1000]\ttrain_set's rmse: 0.430044\tvalid_set's rmse: 4.22972\n",
            "[2000]\ttrain_set's rmse: 0.151249\tvalid_set's rmse: 4.20859\n",
            "[3000]\ttrain_set's rmse: 0.0636219\tvalid_set's rmse: 4.20505\n",
            "[4000]\ttrain_set's rmse: 0.0279603\tvalid_set's rmse: 4.20454\n",
            "[5000]\ttrain_set's rmse: 0.0124448\tvalid_set's rmse: 4.20428\n",
            "[6000]\ttrain_set's rmse: 0.0058006\tvalid_set's rmse: 4.20415\n",
            "[7000]\ttrain_set's rmse: 0.00280905\tvalid_set's rmse: 4.2041\n",
            "[8000]\ttrain_set's rmse: 0.00136055\tvalid_set's rmse: 4.2041\n",
            "[9000]\ttrain_set's rmse: 0.000684059\tvalid_set's rmse: 4.20409\n",
            "[10000]\ttrain_set's rmse: 0.000356917\tvalid_set's rmse: 4.20408\n"
          ]
        },
        {
          "metadata": {
            "tags": null
          },
          "name": "stderr",
          "output_type": "stream",
          "text": [
            "/usr/local/lib/python3.7/dist-packages/lightgbm/engine.py:239: UserWarning: 'verbose_eval' argument is deprecated and will be removed in a future release of LightGBM. Pass 'log_evaluation()' callback via 'callbacks' argument instead.\n",
            "  _log_warning(\"'verbose_eval' argument is deprecated and will be removed in a future release of LightGBM. \"\n"
          ]
        },
        {
          "metadata": {
            "tags": null
          },
          "name": "stdout",
          "output_type": "stream",
          "text": [
            "[1000]\ttrain_set's rmse: 0.413681\tvalid_set's rmse: 3.92253\n",
            "[2000]\ttrain_set's rmse: 0.140592\tvalid_set's rmse: 3.9049\n",
            "[3000]\ttrain_set's rmse: 0.0573521\tvalid_set's rmse: 3.9018\n",
            "[4000]\ttrain_set's rmse: 0.0261545\tvalid_set's rmse: 3.90087\n",
            "[5000]\ttrain_set's rmse: 0.0119339\tvalid_set's rmse: 3.9007\n",
            "[6000]\ttrain_set's rmse: 0.00575217\tvalid_set's rmse: 3.90056\n",
            "[7000]\ttrain_set's rmse: 0.00283664\tvalid_set's rmse: 3.90053\n",
            "[8000]\ttrain_set's rmse: 0.00141787\tvalid_set's rmse: 3.90051\n",
            "[9000]\ttrain_set's rmse: 0.000759011\tvalid_set's rmse: 3.90049\n",
            "[10000]\ttrain_set's rmse: 0.000386442\tvalid_set's rmse: 3.90048\n"
          ]
        },
        {
          "metadata": {
            "tags": null
          },
          "name": "stderr",
          "output_type": "stream",
          "text": [
            "/usr/local/lib/python3.7/dist-packages/lightgbm/engine.py:239: UserWarning: 'verbose_eval' argument is deprecated and will be removed in a future release of LightGBM. Pass 'log_evaluation()' callback via 'callbacks' argument instead.\n",
            "  _log_warning(\"'verbose_eval' argument is deprecated and will be removed in a future release of LightGBM. \"\n"
          ]
        },
        {
          "metadata": {
            "tags": null
          },
          "name": "stdout",
          "output_type": "stream",
          "text": [
            "[1000]\ttrain_set's rmse: 0.420208\tvalid_set's rmse: 4.11201\n",
            "[2000]\ttrain_set's rmse: 0.147475\tvalid_set's rmse: 4.10526\n"
          ]
        },
        {
          "metadata": {
            "tags": null
          },
          "name": "stderr",
          "output_type": "stream",
          "text": [
            "/usr/local/lib/python3.7/dist-packages/lightgbm/engine.py:239: UserWarning: 'verbose_eval' argument is deprecated and will be removed in a future release of LightGBM. Pass 'log_evaluation()' callback via 'callbacks' argument instead.\n",
            "  _log_warning(\"'verbose_eval' argument is deprecated and will be removed in a future release of LightGBM. \"\n"
          ]
        },
        {
          "metadata": {
            "tags": null
          },
          "name": "stdout",
          "output_type": "stream",
          "text": [
            "[1000]\ttrain_set's rmse: 0.428903\tvalid_set's rmse: 4.18771\n",
            "[2000]\ttrain_set's rmse: 0.156403\tvalid_set's rmse: 4.16922\n",
            "[3000]\ttrain_set's rmse: 0.0639708\tvalid_set's rmse: 4.16492\n"
          ]
        },
        {
          "metadata": {
            "tags": null
          },
          "name": "stderr",
          "output_type": "stream",
          "text": [
            "/usr/local/lib/python3.7/dist-packages/lightgbm/engine.py:239: UserWarning: 'verbose_eval' argument is deprecated and will be removed in a future release of LightGBM. Pass 'log_evaluation()' callback via 'callbacks' argument instead.\n",
            "  _log_warning(\"'verbose_eval' argument is deprecated and will be removed in a future release of LightGBM. \"\n"
          ]
        },
        {
          "metadata": {
            "tags": null
          },
          "name": "stdout",
          "output_type": "stream",
          "text": [
            "[1000]\ttrain_set's rmse: 0.427791\tvalid_set's rmse: 3.98454\n",
            "[2000]\ttrain_set's rmse: 0.148653\tvalid_set's rmse: 3.97443\n",
            "[3000]\ttrain_set's rmse: 0.0630657\tvalid_set's rmse: 3.97241\n",
            "[4000]\ttrain_set's rmse: 0.0283489\tvalid_set's rmse: 3.97229\n",
            "[5000]\ttrain_set's rmse: 0.0124462\tvalid_set's rmse: 3.97231\n"
          ]
        },
        {
          "metadata": {
            "tags": null
          },
          "name": "stderr",
          "output_type": "stream",
          "text": [
            "/usr/local/lib/python3.7/dist-packages/lightgbm/engine.py:239: UserWarning: 'verbose_eval' argument is deprecated and will be removed in a future release of LightGBM. Pass 'log_evaluation()' callback via 'callbacks' argument instead.\n",
            "  _log_warning(\"'verbose_eval' argument is deprecated and will be removed in a future release of LightGBM. \"\n"
          ]
        },
        {
          "metadata": {
            "tags": null
          },
          "name": "stdout",
          "output_type": "stream",
          "text": [
            "[1000]\ttrain_set's rmse: 0.412522\tvalid_set's rmse: 4.34759\n",
            "[2000]\ttrain_set's rmse: 0.137365\tvalid_set's rmse: 4.33043\n",
            "[3000]\ttrain_set's rmse: 0.0542449\tvalid_set's rmse: 4.32722\n",
            "[4000]\ttrain_set's rmse: 0.0232676\tvalid_set's rmse: 4.32645\n",
            "[5000]\ttrain_set's rmse: 0.0107674\tvalid_set's rmse: 4.32624\n",
            "[6000]\ttrain_set's rmse: 0.00507542\tvalid_set's rmse: 4.32614\n",
            "[7000]\ttrain_set's rmse: 0.00241634\tvalid_set's rmse: 4.32609\n",
            "[8000]\ttrain_set's rmse: 0.00124207\tvalid_set's rmse: 4.32605\n",
            "[9000]\ttrain_set's rmse: 0.000619222\tvalid_set's rmse: 4.32603\n",
            "[10000]\ttrain_set's rmse: 0.000302087\tvalid_set's rmse: 4.32603\n"
          ]
        },
        {
          "metadata": {
            "tags": null
          },
          "name": "stderr",
          "output_type": "stream",
          "text": [
            "/usr/local/lib/python3.7/dist-packages/lightgbm/engine.py:239: UserWarning: 'verbose_eval' argument is deprecated and will be removed in a future release of LightGBM. Pass 'log_evaluation()' callback via 'callbacks' argument instead.\n",
            "  _log_warning(\"'verbose_eval' argument is deprecated and will be removed in a future release of LightGBM. \"\n"
          ]
        },
        {
          "metadata": {
            "tags": null
          },
          "name": "stdout",
          "output_type": "stream",
          "text": [
            "[1000]\ttrain_set's rmse: 0.429851\tvalid_set's rmse: 4.2367\n",
            "[2000]\ttrain_set's rmse: 0.153166\tvalid_set's rmse: 4.21772\n",
            "[3000]\ttrain_set's rmse: 0.0596866\tvalid_set's rmse: 4.21441\n",
            "[4000]\ttrain_set's rmse: 0.0264977\tvalid_set's rmse: 4.21366\n",
            "[5000]\ttrain_set's rmse: 0.0127731\tvalid_set's rmse: 4.21358\n",
            "[6000]\ttrain_set's rmse: 0.00585547\tvalid_set's rmse: 4.21347\n",
            "[7000]\ttrain_set's rmse: 0.00277721\tvalid_set's rmse: 4.21345\n",
            "[8000]\ttrain_set's rmse: 0.00129714\tvalid_set's rmse: 4.21344\n",
            "[9000]\ttrain_set's rmse: 0.000646003\tvalid_set's rmse: 4.21344\n",
            "[10000]\ttrain_set's rmse: 0.000314125\tvalid_set's rmse: 4.21344\n"
          ]
        },
        {
          "metadata": {
            "tags": null
          },
          "name": "stderr",
          "output_type": "stream",
          "text": [
            "/usr/local/lib/python3.7/dist-packages/lightgbm/engine.py:239: UserWarning: 'verbose_eval' argument is deprecated and will be removed in a future release of LightGBM. Pass 'log_evaluation()' callback via 'callbacks' argument instead.\n",
            "  _log_warning(\"'verbose_eval' argument is deprecated and will be removed in a future release of LightGBM. \"\n"
          ]
        },
        {
          "metadata": {
            "tags": null
          },
          "name": "stdout",
          "output_type": "stream",
          "text": [
            "[1000]\ttrain_set's rmse: 0.433969\tvalid_set's rmse: 3.81026\n",
            "[2000]\ttrain_set's rmse: 0.151171\tvalid_set's rmse: 3.78467\n",
            "[3000]\ttrain_set's rmse: 0.061373\tvalid_set's rmse: 3.77981\n",
            "[4000]\ttrain_set's rmse: 0.0290501\tvalid_set's rmse: 3.77909\n",
            "[5000]\ttrain_set's rmse: 0.0136539\tvalid_set's rmse: 3.77871\n",
            "[6000]\ttrain_set's rmse: 0.00641817\tvalid_set's rmse: 3.77866\n",
            "[7000]\ttrain_set's rmse: 0.00320187\tvalid_set's rmse: 3.77851\n",
            "[8000]\ttrain_set's rmse: 0.00153737\tvalid_set's rmse: 3.7785\n",
            "[9000]\ttrain_set's rmse: 0.000782115\tvalid_set's rmse: 3.77847\n",
            "[10000]\ttrain_set's rmse: 0.000380484\tvalid_set's rmse: 3.77847\n"
          ]
        },
        {
          "metadata": {
            "tags": null
          },
          "name": "stderr",
          "output_type": "stream",
          "text": [
            "/usr/local/lib/python3.7/dist-packages/lightgbm/engine.py:239: UserWarning: 'verbose_eval' argument is deprecated and will be removed in a future release of LightGBM. Pass 'log_evaluation()' callback via 'callbacks' argument instead.\n",
            "  _log_warning(\"'verbose_eval' argument is deprecated and will be removed in a future release of LightGBM. \"\n"
          ]
        },
        {
          "metadata": {
            "tags": null
          },
          "name": "stdout",
          "output_type": "stream",
          "text": [
            "[1000]\ttrain_set's rmse: 0.418784\tvalid_set's rmse: 3.75826\n",
            "[2000]\ttrain_set's rmse: 0.14041\tvalid_set's rmse: 3.73888\n",
            "[3000]\ttrain_set's rmse: 0.0557709\tvalid_set's rmse: 3.73506\n",
            "[4000]\ttrain_set's rmse: 0.0249139\tvalid_set's rmse: 3.73435\n",
            "[5000]\ttrain_set's rmse: 0.0112865\tvalid_set's rmse: 3.73398\n",
            "[6000]\ttrain_set's rmse: 0.00526426\tvalid_set's rmse: 3.73397\n",
            "[7000]\ttrain_set's rmse: 0.00260711\tvalid_set's rmse: 3.73396\n"
          ]
        },
        {
          "metadata": {
            "tags": null
          },
          "name": "stderr",
          "output_type": "stream",
          "text": [
            "/usr/local/lib/python3.7/dist-packages/lightgbm/engine.py:239: UserWarning: 'verbose_eval' argument is deprecated and will be removed in a future release of LightGBM. Pass 'log_evaluation()' callback via 'callbacks' argument instead.\n",
            "  _log_warning(\"'verbose_eval' argument is deprecated and will be removed in a future release of LightGBM. \"\n"
          ]
        },
        {
          "metadata": {
            "tags": null
          },
          "name": "stdout",
          "output_type": "stream",
          "text": [
            "[1000]\ttrain_set's rmse: 0.41613\tvalid_set's rmse: 3.39074\n",
            "[2000]\ttrain_set's rmse: 0.136813\tvalid_set's rmse: 3.36703\n",
            "[3000]\ttrain_set's rmse: 0.0549653\tvalid_set's rmse: 3.36274\n",
            "[4000]\ttrain_set's rmse: 0.0243976\tvalid_set's rmse: 3.36119\n",
            "[5000]\ttrain_set's rmse: 0.0112145\tvalid_set's rmse: 3.36075\n",
            "[6000]\ttrain_set's rmse: 0.00508363\tvalid_set's rmse: 3.36052\n",
            "[7000]\ttrain_set's rmse: 0.00231101\tvalid_set's rmse: 3.36049\n",
            "[8000]\ttrain_set's rmse: 0.00110054\tvalid_set's rmse: 3.36048\n",
            "[9000]\ttrain_set's rmse: 0.000536821\tvalid_set's rmse: 3.36047\n",
            "[10000]\ttrain_set's rmse: 0.000265246\tvalid_set's rmse: 3.36046\n"
          ]
        },
        {
          "metadata": {
            "tags": null
          },
          "name": "stderr",
          "output_type": "stream",
          "text": [
            "\t-3.9856\t = Validation score   (root_mean_squared_error)\n",
            "\t359.18s\t = Training   runtime\n",
            "\t34.49s\t = Validation runtime\n",
            "Fitting model: WeightedEnsemble_L2 ...\n",
            "\t-1.7307\t = Validation score   (root_mean_squared_error)\n",
            "\t0.83s\t = Training   runtime\n",
            "\t0.0s\t = Validation runtime\n",
            "Fitting 9 L2 models ...\n",
            "Fitting model: LightGBMXT_BAG_L2 ...\n",
            "/usr/local/lib/python3.7/dist-packages/lightgbm/engine.py:239: UserWarning: 'verbose_eval' argument is deprecated and will be removed in a future release of LightGBM. Pass 'log_evaluation()' callback via 'callbacks' argument instead.\n",
            "  _log_warning(\"'verbose_eval' argument is deprecated and will be removed in a future release of LightGBM. \"\n"
          ]
        },
        {
          "metadata": {
            "tags": null
          },
          "name": "stdout",
          "output_type": "stream",
          "text": [
            "[1000]\ttrain_set's rmse: 2.20079\tvalid_set's rmse: 4.40048\n",
            "[2000]\ttrain_set's rmse: 1.59389\tvalid_set's rmse: 4.25589\n",
            "[3000]\ttrain_set's rmse: 1.25116\tvalid_set's rmse: 4.14853\n",
            "[4000]\ttrain_set's rmse: 1.02589\tvalid_set's rmse: 4.11261\n",
            "[5000]\ttrain_set's rmse: 0.860146\tvalid_set's rmse: 4.10101\n",
            "[6000]\ttrain_set's rmse: 0.735154\tvalid_set's rmse: 4.09628\n",
            "[7000]\ttrain_set's rmse: 0.636506\tvalid_set's rmse: 4.09849\n"
          ]
        },
        {
          "metadata": {
            "tags": null
          },
          "name": "stderr",
          "output_type": "stream",
          "text": [
            "/usr/local/lib/python3.7/dist-packages/lightgbm/engine.py:239: UserWarning: 'verbose_eval' argument is deprecated and will be removed in a future release of LightGBM. Pass 'log_evaluation()' callback via 'callbacks' argument instead.\n",
            "  _log_warning(\"'verbose_eval' argument is deprecated and will be removed in a future release of LightGBM. \"\n"
          ]
        },
        {
          "metadata": {
            "tags": null
          },
          "name": "stdout",
          "output_type": "stream",
          "text": [
            "[1000]\ttrain_set's rmse: 2.19619\tvalid_set's rmse: 4.50877\n",
            "[2000]\ttrain_set's rmse: 1.57137\tvalid_set's rmse: 4.38997\n",
            "[3000]\ttrain_set's rmse: 1.2422\tvalid_set's rmse: 4.37019\n"
          ]
        },
        {
          "metadata": {
            "tags": null
          },
          "name": "stderr",
          "output_type": "stream",
          "text": [
            "/usr/local/lib/python3.7/dist-packages/lightgbm/engine.py:239: UserWarning: 'verbose_eval' argument is deprecated and will be removed in a future release of LightGBM. Pass 'log_evaluation()' callback via 'callbacks' argument instead.\n",
            "  _log_warning(\"'verbose_eval' argument is deprecated and will be removed in a future release of LightGBM. \"\n"
          ]
        },
        {
          "metadata": {
            "tags": null
          },
          "name": "stdout",
          "output_type": "stream",
          "text": [
            "[1000]\ttrain_set's rmse: 2.28841\tvalid_set's rmse: 3.59232\n",
            "[2000]\ttrain_set's rmse: 1.69098\tvalid_set's rmse: 3.35176\n",
            "[3000]\ttrain_set's rmse: 1.34462\tvalid_set's rmse: 3.23577\n",
            "[4000]\ttrain_set's rmse: 1.10219\tvalid_set's rmse: 3.18726\n",
            "[5000]\ttrain_set's rmse: 0.932871\tvalid_set's rmse: 3.16316\n",
            "[6000]\ttrain_set's rmse: 0.796008\tvalid_set's rmse: 3.14348\n",
            "[7000]\ttrain_set's rmse: 0.689008\tvalid_set's rmse: 3.12921\n",
            "[8000]\ttrain_set's rmse: 0.603755\tvalid_set's rmse: 3.12053\n",
            "[9000]\ttrain_set's rmse: 0.531715\tvalid_set's rmse: 3.11344\n",
            "[10000]\ttrain_set's rmse: 0.47062\tvalid_set's rmse: 3.11069\n"
          ]
        },
        {
          "metadata": {
            "tags": null
          },
          "name": "stderr",
          "output_type": "stream",
          "text": [
            "/usr/local/lib/python3.7/dist-packages/lightgbm/engine.py:239: UserWarning: 'verbose_eval' argument is deprecated and will be removed in a future release of LightGBM. Pass 'log_evaluation()' callback via 'callbacks' argument instead.\n",
            "  _log_warning(\"'verbose_eval' argument is deprecated and will be removed in a future release of LightGBM. \"\n"
          ]
        },
        {
          "metadata": {
            "tags": null
          },
          "name": "stdout",
          "output_type": "stream",
          "text": [
            "[1000]\ttrain_set's rmse: 2.1836\tvalid_set's rmse: 3.2768\n",
            "[2000]\ttrain_set's rmse: 1.59221\tvalid_set's rmse: 3.1631\n",
            "[3000]\ttrain_set's rmse: 1.25894\tvalid_set's rmse: 3.09197\n",
            "[4000]\ttrain_set's rmse: 1.03301\tvalid_set's rmse: 3.07408\n",
            "[5000]\ttrain_set's rmse: 0.871652\tvalid_set's rmse: 3.05759\n",
            "[6000]\ttrain_set's rmse: 0.74574\tvalid_set's rmse: 3.04331\n",
            "[7000]\ttrain_set's rmse: 0.64772\tvalid_set's rmse: 3.03138\n",
            "[8000]\ttrain_set's rmse: 0.565019\tvalid_set's rmse: 3.02426\n",
            "[9000]\ttrain_set's rmse: 0.497561\tvalid_set's rmse: 3.01704\n",
            "[10000]\ttrain_set's rmse: 0.441273\tvalid_set's rmse: 3.01434\n"
          ]
        },
        {
          "metadata": {
            "tags": null
          },
          "name": "stderr",
          "output_type": "stream",
          "text": [
            "/usr/local/lib/python3.7/dist-packages/lightgbm/engine.py:239: UserWarning: 'verbose_eval' argument is deprecated and will be removed in a future release of LightGBM. Pass 'log_evaluation()' callback via 'callbacks' argument instead.\n",
            "  _log_warning(\"'verbose_eval' argument is deprecated and will be removed in a future release of LightGBM. \"\n"
          ]
        },
        {
          "metadata": {
            "tags": null
          },
          "name": "stdout",
          "output_type": "stream",
          "text": [
            "[1000]\ttrain_set's rmse: 2.19788\tvalid_set's rmse: 3.96462\n",
            "[2000]\ttrain_set's rmse: 1.60654\tvalid_set's rmse: 3.80389\n",
            "[3000]\ttrain_set's rmse: 1.26898\tvalid_set's rmse: 3.76682\n"
          ]
        },
        {
          "metadata": {
            "tags": null
          },
          "name": "stderr",
          "output_type": "stream",
          "text": [
            "/usr/local/lib/python3.7/dist-packages/lightgbm/engine.py:239: UserWarning: 'verbose_eval' argument is deprecated and will be removed in a future release of LightGBM. Pass 'log_evaluation()' callback via 'callbacks' argument instead.\n",
            "  _log_warning(\"'verbose_eval' argument is deprecated and will be removed in a future release of LightGBM. \"\n"
          ]
        },
        {
          "metadata": {
            "tags": null
          },
          "name": "stdout",
          "output_type": "stream",
          "text": [
            "[1000]\ttrain_set's rmse: 2.22186\tvalid_set's rmse: 4.11607\n",
            "[2000]\ttrain_set's rmse: 1.5996\tvalid_set's rmse: 3.80357\n",
            "[3000]\ttrain_set's rmse: 1.253\tvalid_set's rmse: 3.73227\n",
            "[4000]\ttrain_set's rmse: 1.02554\tvalid_set's rmse: 3.70477\n",
            "[5000]\ttrain_set's rmse: 0.865138\tvalid_set's rmse: 3.70236\n"
          ]
        },
        {
          "metadata": {
            "tags": null
          },
          "name": "stderr",
          "output_type": "stream",
          "text": [
            "/usr/local/lib/python3.7/dist-packages/lightgbm/engine.py:239: UserWarning: 'verbose_eval' argument is deprecated and will be removed in a future release of LightGBM. Pass 'log_evaluation()' callback via 'callbacks' argument instead.\n",
            "  _log_warning(\"'verbose_eval' argument is deprecated and will be removed in a future release of LightGBM. \"\n"
          ]
        },
        {
          "metadata": {
            "tags": null
          },
          "name": "stdout",
          "output_type": "stream",
          "text": [
            "[1000]\ttrain_set's rmse: 2.22383\tvalid_set's rmse: 3.67511\n",
            "[2000]\ttrain_set's rmse: 1.58402\tvalid_set's rmse: 3.54262\n"
          ]
        },
        {
          "metadata": {
            "tags": null
          },
          "name": "stderr",
          "output_type": "stream",
          "text": [
            "/usr/local/lib/python3.7/dist-packages/lightgbm/engine.py:239: UserWarning: 'verbose_eval' argument is deprecated and will be removed in a future release of LightGBM. Pass 'log_evaluation()' callback via 'callbacks' argument instead.\n",
            "  _log_warning(\"'verbose_eval' argument is deprecated and will be removed in a future release of LightGBM. \"\n"
          ]
        },
        {
          "metadata": {
            "tags": null
          },
          "name": "stdout",
          "output_type": "stream",
          "text": [
            "[1000]\ttrain_set's rmse: 2.25183\tvalid_set's rmse: 3.28616\n",
            "[2000]\ttrain_set's rmse: 1.59394\tvalid_set's rmse: 3.1277\n",
            "[3000]\ttrain_set's rmse: 1.2583\tvalid_set's rmse: 3.08171\n",
            "[4000]\ttrain_set's rmse: 1.04946\tvalid_set's rmse: 3.04939\n",
            "[5000]\ttrain_set's rmse: 0.887082\tvalid_set's rmse: 3.03776\n"
          ]
        },
        {
          "metadata": {
            "tags": null
          },
          "name": "stderr",
          "output_type": "stream",
          "text": [
            "/usr/local/lib/python3.7/dist-packages/lightgbm/engine.py:239: UserWarning: 'verbose_eval' argument is deprecated and will be removed in a future release of LightGBM. Pass 'log_evaluation()' callback via 'callbacks' argument instead.\n",
            "  _log_warning(\"'verbose_eval' argument is deprecated and will be removed in a future release of LightGBM. \"\n"
          ]
        },
        {
          "metadata": {
            "tags": null
          },
          "name": "stdout",
          "output_type": "stream",
          "text": [
            "[1000]\ttrain_set's rmse: 2.30465\tvalid_set's rmse: 3.52489\n",
            "[2000]\ttrain_set's rmse: 1.63465\tvalid_set's rmse: 3.26091\n",
            "[3000]\ttrain_set's rmse: 1.27969\tvalid_set's rmse: 3.16365\n",
            "[4000]\ttrain_set's rmse: 1.04167\tvalid_set's rmse: 3.11487\n",
            "[5000]\ttrain_set's rmse: 0.873227\tvalid_set's rmse: 3.07527\n",
            "[6000]\ttrain_set's rmse: 0.747191\tvalid_set's rmse: 3.04685\n",
            "[7000]\ttrain_set's rmse: 0.646032\tvalid_set's rmse: 3.03324\n",
            "[8000]\ttrain_set's rmse: 0.564975\tvalid_set's rmse: 3.02001\n",
            "[9000]\ttrain_set's rmse: 0.496492\tvalid_set's rmse: 3.01024\n",
            "[10000]\ttrain_set's rmse: 0.440758\tvalid_set's rmse: 3.00358\n"
          ]
        },
        {
          "metadata": {
            "tags": null
          },
          "name": "stderr",
          "output_type": "stream",
          "text": [
            "/usr/local/lib/python3.7/dist-packages/lightgbm/engine.py:239: UserWarning: 'verbose_eval' argument is deprecated and will be removed in a future release of LightGBM. Pass 'log_evaluation()' callback via 'callbacks' argument instead.\n",
            "  _log_warning(\"'verbose_eval' argument is deprecated and will be removed in a future release of LightGBM. \"\n"
          ]
        },
        {
          "metadata": {
            "tags": null
          },
          "name": "stdout",
          "output_type": "stream",
          "text": [
            "[1000]\ttrain_set's rmse: 2.25587\tvalid_set's rmse: 4.12745\n",
            "[2000]\ttrain_set's rmse: 1.58904\tvalid_set's rmse: 3.9658\n",
            "[3000]\ttrain_set's rmse: 1.25426\tvalid_set's rmse: 3.94118\n",
            "[4000]\ttrain_set's rmse: 1.02671\tvalid_set's rmse: 3.92336\n"
          ]
        },
        {
          "metadata": {
            "tags": null
          },
          "name": "stderr",
          "output_type": "stream",
          "text": [
            "\t-3.5847\t = Validation score   (root_mean_squared_error)\n",
            "\t135.56s\t = Training   runtime\n",
            "\t12.27s\t = Validation runtime\n",
            "Fitting model: LightGBM_BAG_L2 ...\n",
            "/usr/local/lib/python3.7/dist-packages/lightgbm/engine.py:239: UserWarning: 'verbose_eval' argument is deprecated and will be removed in a future release of LightGBM. Pass 'log_evaluation()' callback via 'callbacks' argument instead.\n",
            "  _log_warning(\"'verbose_eval' argument is deprecated and will be removed in a future release of LightGBM. \"\n",
            "/usr/local/lib/python3.7/dist-packages/lightgbm/engine.py:239: UserWarning: 'verbose_eval' argument is deprecated and will be removed in a future release of LightGBM. Pass 'log_evaluation()' callback via 'callbacks' argument instead.\n",
            "  _log_warning(\"'verbose_eval' argument is deprecated and will be removed in a future release of LightGBM. \"\n",
            "/usr/local/lib/python3.7/dist-packages/lightgbm/engine.py:239: UserWarning: 'verbose_eval' argument is deprecated and will be removed in a future release of LightGBM. Pass 'log_evaluation()' callback via 'callbacks' argument instead.\n",
            "  _log_warning(\"'verbose_eval' argument is deprecated and will be removed in a future release of LightGBM. \"\n",
            "/usr/local/lib/python3.7/dist-packages/lightgbm/engine.py:239: UserWarning: 'verbose_eval' argument is deprecated and will be removed in a future release of LightGBM. Pass 'log_evaluation()' callback via 'callbacks' argument instead.\n",
            "  _log_warning(\"'verbose_eval' argument is deprecated and will be removed in a future release of LightGBM. \"\n"
          ]
        },
        {
          "metadata": {
            "tags": null
          },
          "name": "stdout",
          "output_type": "stream",
          "text": [
            "[1000]\ttrain_set's rmse: 1.0497\tvalid_set's rmse: 1.45146\n"
          ]
        },
        {
          "output_type": "stream",
          "name": "stderr",
          "text": [
            "/usr/local/lib/python3.7/dist-packages/lightgbm/engine.py:239: UserWarning: 'verbose_eval' argument is deprecated and will be removed in a future release of LightGBM. Pass 'log_evaluation()' callback via 'callbacks' argument instead.\n",
            "  _log_warning(\"'verbose_eval' argument is deprecated and will be removed in a future release of LightGBM. \"\n",
            "/usr/local/lib/python3.7/dist-packages/lightgbm/engine.py:239: UserWarning: 'verbose_eval' argument is deprecated and will be removed in a future release of LightGBM. Pass 'log_evaluation()' callback via 'callbacks' argument instead.\n",
            "  _log_warning(\"'verbose_eval' argument is deprecated and will be removed in a future release of LightGBM. \"\n",
            "/usr/local/lib/python3.7/dist-packages/lightgbm/engine.py:239: UserWarning: 'verbose_eval' argument is deprecated and will be removed in a future release of LightGBM. Pass 'log_evaluation()' callback via 'callbacks' argument instead.\n",
            "  _log_warning(\"'verbose_eval' argument is deprecated and will be removed in a future release of LightGBM. \"\n",
            "/usr/local/lib/python3.7/dist-packages/lightgbm/engine.py:239: UserWarning: 'verbose_eval' argument is deprecated and will be removed in a future release of LightGBM. Pass 'log_evaluation()' callback via 'callbacks' argument instead.\n",
            "  _log_warning(\"'verbose_eval' argument is deprecated and will be removed in a future release of LightGBM. \"\n",
            "/usr/local/lib/python3.7/dist-packages/lightgbm/engine.py:239: UserWarning: 'verbose_eval' argument is deprecated and will be removed in a future release of LightGBM. Pass 'log_evaluation()' callback via 'callbacks' argument instead.\n",
            "  _log_warning(\"'verbose_eval' argument is deprecated and will be removed in a future release of LightGBM. \"\n",
            "/usr/local/lib/python3.7/dist-packages/lightgbm/engine.py:239: UserWarning: 'verbose_eval' argument is deprecated and will be removed in a future release of LightGBM. Pass 'log_evaluation()' callback via 'callbacks' argument instead.\n",
            "  _log_warning(\"'verbose_eval' argument is deprecated and will be removed in a future release of LightGBM. \"\n",
            "\t-2.115\t = Validation score   (root_mean_squared_error)\n",
            "\t24.27s\t = Training   runtime\n",
            "\t0.32s\t = Validation runtime\n",
            "Fitting model: RandomForestMSE_BAG_L2 ...\n",
            "\t-1.3901\t = Validation score   (root_mean_squared_error)\n",
            "\t28.24s\t = Training   runtime\n",
            "\t0.93s\t = Validation runtime\n",
            "Fitting model: CatBoost_BAG_L2 ...\n",
            "\t-2.7171\t = Validation score   (root_mean_squared_error)\n",
            "\t299.57s\t = Training   runtime\n",
            "\t0.13s\t = Validation runtime\n",
            "Fitting model: ExtraTreesMSE_BAG_L2 ...\n",
            "\t-1.4003\t = Validation score   (root_mean_squared_error)\n",
            "\t10.55s\t = Training   runtime\n",
            "\t1.07s\t = Validation runtime\n",
            "Fitting model: NeuralNetFastAI_BAG_L2 ...\n",
            "\t-2.6676\t = Validation score   (root_mean_squared_error)\n",
            "\t201.28s\t = Training   runtime\n",
            "\t0.71s\t = Validation runtime\n",
            "Fitting model: XGBoost_BAG_L2 ...\n",
            "\t-2.3373\t = Validation score   (root_mean_squared_error)\n",
            "\t46.59s\t = Training   runtime\n",
            "\t0.26s\t = Validation runtime\n",
            "Fitting model: NeuralNetMXNet_BAG_L2 ...\n",
            "\t-2.2737\t = Validation score   (root_mean_squared_error)\n",
            "\t1710.12s\t = Training   runtime\n",
            "\t7.04s\t = Validation runtime\n",
            "Fitting model: LightGBMLarge_BAG_L2 ...\n",
            "/usr/local/lib/python3.7/dist-packages/lightgbm/engine.py:239: UserWarning: 'verbose_eval' argument is deprecated and will be removed in a future release of LightGBM. Pass 'log_evaluation()' callback via 'callbacks' argument instead.\n",
            "  _log_warning(\"'verbose_eval' argument is deprecated and will be removed in a future release of LightGBM. \"\n",
            "/usr/local/lib/python3.7/dist-packages/lightgbm/engine.py:239: UserWarning: 'verbose_eval' argument is deprecated and will be removed in a future release of LightGBM. Pass 'log_evaluation()' callback via 'callbacks' argument instead.\n",
            "  _log_warning(\"'verbose_eval' argument is deprecated and will be removed in a future release of LightGBM. \"\n",
            "/usr/local/lib/python3.7/dist-packages/lightgbm/engine.py:239: UserWarning: 'verbose_eval' argument is deprecated and will be removed in a future release of LightGBM. Pass 'log_evaluation()' callback via 'callbacks' argument instead.\n",
            "  _log_warning(\"'verbose_eval' argument is deprecated and will be removed in a future release of LightGBM. \"\n",
            "/usr/local/lib/python3.7/dist-packages/lightgbm/engine.py:239: UserWarning: 'verbose_eval' argument is deprecated and will be removed in a future release of LightGBM. Pass 'log_evaluation()' callback via 'callbacks' argument instead.\n",
            "  _log_warning(\"'verbose_eval' argument is deprecated and will be removed in a future release of LightGBM. \"\n",
            "/usr/local/lib/python3.7/dist-packages/lightgbm/engine.py:239: UserWarning: 'verbose_eval' argument is deprecated and will be removed in a future release of LightGBM. Pass 'log_evaluation()' callback via 'callbacks' argument instead.\n",
            "  _log_warning(\"'verbose_eval' argument is deprecated and will be removed in a future release of LightGBM. \"\n",
            "/usr/local/lib/python3.7/dist-packages/lightgbm/engine.py:239: UserWarning: 'verbose_eval' argument is deprecated and will be removed in a future release of LightGBM. Pass 'log_evaluation()' callback via 'callbacks' argument instead.\n",
            "  _log_warning(\"'verbose_eval' argument is deprecated and will be removed in a future release of LightGBM. \"\n",
            "/usr/local/lib/python3.7/dist-packages/lightgbm/engine.py:239: UserWarning: 'verbose_eval' argument is deprecated and will be removed in a future release of LightGBM. Pass 'log_evaluation()' callback via 'callbacks' argument instead.\n",
            "  _log_warning(\"'verbose_eval' argument is deprecated and will be removed in a future release of LightGBM. \"\n",
            "/usr/local/lib/python3.7/dist-packages/lightgbm/engine.py:239: UserWarning: 'verbose_eval' argument is deprecated and will be removed in a future release of LightGBM. Pass 'log_evaluation()' callback via 'callbacks' argument instead.\n",
            "  _log_warning(\"'verbose_eval' argument is deprecated and will be removed in a future release of LightGBM. \"\n",
            "/usr/local/lib/python3.7/dist-packages/lightgbm/engine.py:239: UserWarning: 'verbose_eval' argument is deprecated and will be removed in a future release of LightGBM. Pass 'log_evaluation()' callback via 'callbacks' argument instead.\n",
            "  _log_warning(\"'verbose_eval' argument is deprecated and will be removed in a future release of LightGBM. \"\n",
            "/usr/local/lib/python3.7/dist-packages/lightgbm/engine.py:239: UserWarning: 'verbose_eval' argument is deprecated and will be removed in a future release of LightGBM. Pass 'log_evaluation()' callback via 'callbacks' argument instead.\n",
            "  _log_warning(\"'verbose_eval' argument is deprecated and will be removed in a future release of LightGBM. \"\n",
            "\t-1.8627\t = Validation score   (root_mean_squared_error)\n",
            "\t53.3s\t = Training   runtime\n",
            "\t0.46s\t = Validation runtime\n",
            "Fitting model: WeightedEnsemble_L3 ...\n",
            "\t-1.3143\t = Validation score   (root_mean_squared_error)\n",
            "\t0.53s\t = Training   runtime\n",
            "\t0.0s\t = Validation runtime\n",
            "AutoGluon training complete, total runtime = 5443.26s ...\n",
            "TabularPredictor saved. To load, use: predictor = TabularPredictor.load(\"AutogluonModels/ag-20220117_122159/\")\n"
          ]
        }
      ]
    },
    {
      "cell_type": "code",
      "source": [
        "prediction_new_feature=predictor.predict(train)\n",
        "#predictions.head()\n",
        "prediction_new_feature"
      ],
      "metadata": {
        "colab": {
          "base_uri": "https://localhost:8080/"
        },
        "id": "w9Wh_O32_XCJ",
        "outputId": "ebda19c3-e74d-4f60-e6ab-75aed2d04488"
      },
      "execution_count": 46,
      "outputs": [
        {
          "output_type": "execute_result",
          "data": {
            "text/plain": [
              "0         16.193033\n",
              "1         40.096569\n",
              "2         32.185486\n",
              "3         13.141837\n",
              "4          1.074431\n",
              "            ...    \n",
              "10881    336.121124\n",
              "10882    241.443695\n",
              "10883    167.940979\n",
              "10884    129.121338\n",
              "10885     87.924789\n",
              "Name: count, Length: 10886, dtype: float32"
            ]
          },
          "metadata": {},
          "execution_count": 46
        }
      ]
    },
    {
      "cell_type": "code",
      "source": [
        ""
      ],
      "metadata": {
        "id": "oENHSkxdXDJg"
      },
      "execution_count": null,
      "outputs": []
    },
    {
      "cell_type": "code",
      "source": [
        "prediction_new_feature.describe()"
      ],
      "metadata": {
        "colab": {
          "base_uri": "https://localhost:8080/"
        },
        "id": "5fYlyhAX_ogx",
        "outputId": "652a797f-a798-45e7-ccd8-7b4e617932bb"
      },
      "execution_count": 47,
      "outputs": [
        {
          "output_type": "execute_result",
          "data": {
            "text/plain": [
              "count    10886.000000\n",
              "mean       191.604797\n",
              "std        181.167328\n",
              "min          1.022456\n",
              "25%         42.075849\n",
              "50%        144.882637\n",
              "75%        283.879440\n",
              "max        965.984924\n",
              "Name: count, dtype: float64"
            ]
          },
          "metadata": {},
          "execution_count": 47
        }
      ]
    },
    {
      "cell_type": "code",
      "source": [
        "submission[\"count\"] = prediction_new_feature\n",
        "submission.to_csv(\"submission_new_feature.csv\", index=False)\n",
        "#submission[\"count\"] = predictions\n",
        "#submission.to_csv(\"submission.csv\", index=False)"
      ],
      "metadata": {
        "id": "4r4vEkb1_x0N"
      },
      "execution_count": 49,
      "outputs": []
    },
    {
      "cell_type": "code",
      "source": [
        ""
      ],
      "metadata": {
        "id": "4vvVZpvYXvFE"
      },
      "execution_count": null,
      "outputs": []
    },
    {
      "cell_type": "code",
      "source": [
        ""
      ],
      "metadata": {
        "id": "ZJgshIuNXRyF"
      },
      "execution_count": null,
      "outputs": []
    },
    {
      "cell_type": "code",
      "source": [
        ""
      ],
      "metadata": {
        "id": "--zj0wbcXgbu"
      },
      "execution_count": null,
      "outputs": []
    },
    {
      "cell_type": "code",
      "source": [
        "!kaggle competitions submit -c bike-sharing-demand -f submission_new_feature.csv -m \"new_features\""
      ],
      "metadata": {
        "colab": {
          "base_uri": "https://localhost:8080/"
        },
        "id": "XHsww6LV_7YF",
        "outputId": "08425cff-6d5b-4f82-9a89-7da9382b3c9b"
      },
      "execution_count": 50,
      "outputs": [
        {
          "output_type": "stream",
          "name": "stdout",
          "text": [
            "Warning: Looks like you're using an outdated API Version, please consider updating (server 1.5.12 / client 1.5.4)\n",
            "100% 188k/188k [00:00<00:00, 890kB/s]\n",
            "Successfully submitted to Bike Sharing Demand"
          ]
        }
      ]
    },
    {
      "cell_type": "code",
      "source": [
        "!kaggle competitions submissions -c bike-sharing-demand | tail -n +1 | head -n 6"
      ],
      "metadata": {
        "colab": {
          "base_uri": "https://localhost:8080/"
        },
        "id": "cWImxX-AALl8",
        "outputId": "9517e5e3-0267-4c52-d5a0-ce6dad45f95a"
      },
      "execution_count": 51,
      "outputs": [
        {
          "output_type": "stream",
          "name": "stdout",
          "text": [
            "Warning: Looks like you're using an outdated API Version, please consider updating (server 1.5.12 / client 1.5.4)\n",
            "fileName                    date                 description           status    publicScore  privateScore  \n",
            "--------------------------  -------------------  --------------------  --------  -----------  ------------  \n",
            "submission_new_feature.csv  2022-01-17 14:09:29  new_features          complete  1.97321      1.97321       \n",
            "submission.csv              2022-01-16 21:42:39  first raw submission  complete  1.97196      1.97196       \n"
          ]
        }
      ]
    },
    {
      "cell_type": "code",
      "source": [
        ""
      ],
      "metadata": {
        "id": "7Fwfcy55X9zL"
      },
      "execution_count": null,
      "outputs": []
    },
    {
      "cell_type": "code",
      "source": [
        ""
      ],
      "metadata": {
        "id": "qSp-9afNYMYY"
      },
      "execution_count": null,
      "outputs": []
    }
  ]
}